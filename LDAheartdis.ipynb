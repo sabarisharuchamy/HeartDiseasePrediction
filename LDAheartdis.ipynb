{
 "cells": [
  {
   "cell_type": "code",
   "execution_count": 1,
   "metadata": {},
   "outputs": [
    {
     "name": "stdout",
     "output_type": "stream",
     "text": [
      "     Age  Weight  Length    Sex        BMI  DM  HTN  Current_Smoker  \\\n",
      "0     53      90     175   Male  29.387755   0    1               1   \n",
      "1     67      70     157  Fmale  28.398718   0    1               0   \n",
      "2     54      54     164   Male  20.077335   0    0               1   \n",
      "3     66      67     158  Fmale  26.838648   0    1               0   \n",
      "4     50      87     153  Fmale  37.165193   0    1               0   \n",
      "..   ...     ...     ...    ...        ...  ..  ...             ...   \n",
      "298   58      84     168   Male  29.761905   0    0               0   \n",
      "299   55      64     152  Fmale  27.700831   0    0               0   \n",
      "300   48      77     160  Fmale  30.078125   0    1               0   \n",
      "301   57      90     159  Fmale  35.599858   1    0               0   \n",
      "302   56      85     170  Fmale  29.411765   0    1               1   \n",
      "\n",
      "     EX-Smoker  FH  ... Lymph Neut  PLT EF-TTE Region_RWMA     VHD       LAD  \\\n",
      "0            0   0  ...    39   52  261     50           0       N  Stenotic   \n",
      "1            0   0  ...    38   55  165     40           4       N  Stenotic   \n",
      "2            0   0  ...    38   60  230     40           2    mild  Stenotic   \n",
      "3            0   0  ...    18   72  742     55           0  Severe    Normal   \n",
      "4            0   0  ...    55   39  274     50           0  Severe    Normal   \n",
      "..         ...  ..  ...   ...  ...  ...    ...         ...     ...       ...   \n",
      "298          0   0  ...    34   58  251     45           0       N  Stenotic   \n",
      "299          0   0  ...    16   80  377     40           0    mild    Normal   \n",
      "300          0   1  ...    35   55  279     55           0       N    Normal   \n",
      "301          0   0  ...    48   40  208     55           0       N    Normal   \n",
      "302          0   0  ...    32   55  302     55           0       N  Stenotic   \n",
      "\n",
      "          LCX       RCA    Cath  \n",
      "0      Normal  Stenotic     CAD  \n",
      "1    Stenotic    Normal     CAD  \n",
      "2      Normal    Normal     CAD  \n",
      "3      Normal    Normal  Normal  \n",
      "4      Normal    Normal  Normal  \n",
      "..        ...       ...     ...  \n",
      "298  Stenotic  Stenotic     CAD  \n",
      "299    Normal    Normal  Normal  \n",
      "300    Normal    Normal  Normal  \n",
      "301    Normal    Normal  Normal  \n",
      "302    Normal    Normal     CAD  \n",
      "\n",
      "[303 rows x 59 columns]\n"
     ]
    }
   ],
   "source": [
    "import pandas as pd\n",
    "\n",
    "df = pd.read_excel ('extention_of_Z_Alizadeh_sani_dataset.xls')\n",
    "print(df)"
   ]
  },
  {
   "cell_type": "code",
   "execution_count": 2,
   "metadata": {},
   "outputs": [
    {
     "name": "stdout",
     "output_type": "stream",
     "text": [
      "<class 'pandas.core.frame.DataFrame'>\n",
      "RangeIndex: 303 entries, 0 to 302\n",
      "Data columns (total 59 columns):\n",
      " #   Column                 Non-Null Count  Dtype  \n",
      "---  ------                 --------------  -----  \n",
      " 0   Age                    303 non-null    int64  \n",
      " 1   Weight                 303 non-null    int64  \n",
      " 2   Length                 303 non-null    int64  \n",
      " 3   Sex                    303 non-null    object \n",
      " 4   BMI                    303 non-null    float64\n",
      " 5   DM                     303 non-null    int64  \n",
      " 6   HTN                    303 non-null    int64  \n",
      " 7   Current_Smoker         303 non-null    int64  \n",
      " 8   EX-Smoker              303 non-null    int64  \n",
      " 9   FH                     303 non-null    int64  \n",
      " 10  Obesity                303 non-null    object \n",
      " 11  CRF                    303 non-null    object \n",
      " 12  CVA                    303 non-null    object \n",
      " 13  Airway_disease         303 non-null    object \n",
      " 14  Thyroid_Disease        303 non-null    object \n",
      " 15  CHF                    303 non-null    object \n",
      " 16  DLP                    303 non-null    object \n",
      " 17  BP                     303 non-null    int64  \n",
      " 18  PR                     303 non-null    int64  \n",
      " 19  Edema                  303 non-null    int64  \n",
      " 20  Weak_Peripheral_Pulse  303 non-null    object \n",
      " 21  Lung_rales             303 non-null    object \n",
      " 22  Systolic_Murmur        303 non-null    object \n",
      " 23  Diastolic_Murmur       303 non-null    object \n",
      " 24  Typical_Chest_Pain     303 non-null    int64  \n",
      " 25  Dyspnea                303 non-null    object \n",
      " 26  Function_Class         303 non-null    int64  \n",
      " 27  Atypical               303 non-null    object \n",
      " 28  Nonanginal             303 non-null    object \n",
      " 29  Exertional_CP          303 non-null    object \n",
      " 30  LowTH_Ang              303 non-null    object \n",
      " 31  Q_Wave                 303 non-null    int64  \n",
      " 32  St_Elevation           303 non-null    int64  \n",
      " 33  St_Depression          303 non-null    int64  \n",
      " 34  Tinversion             303 non-null    int64  \n",
      " 35  LVH                    303 non-null    object \n",
      " 36  Poor_R_Progression     303 non-null    object \n",
      " 37  BBB                    303 non-null    object \n",
      " 38  FBS                    303 non-null    int64  \n",
      " 39  CR                     303 non-null    float64\n",
      " 40  TG                     303 non-null    int64  \n",
      " 41  LDL                    303 non-null    int64  \n",
      " 42  HDL                    303 non-null    float64\n",
      " 43  BUN                    303 non-null    int64  \n",
      " 44  ESR                    303 non-null    int64  \n",
      " 45  HB                     303 non-null    float64\n",
      " 46  K                      303 non-null    float64\n",
      " 47  Na                     303 non-null    int64  \n",
      " 48  WBC                    303 non-null    int64  \n",
      " 49  Lymph                  303 non-null    int64  \n",
      " 50  Neut                   303 non-null    int64  \n",
      " 51  PLT                    303 non-null    int64  \n",
      " 52  EF-TTE                 303 non-null    int64  \n",
      " 53  Region_RWMA            303 non-null    int64  \n",
      " 54  VHD                    303 non-null    object \n",
      " 55  LAD                    303 non-null    object \n",
      " 56  LCX                    303 non-null    object \n",
      " 57  RCA                    303 non-null    object \n",
      " 58  Cath                   303 non-null    object \n",
      "dtypes: float64(5), int64(29), object(25)\n",
      "memory usage: 139.8+ KB\n",
      "None\n"
     ]
    }
   ],
   "source": [
    "print(df.info())"
   ]
  },
  {
   "cell_type": "code",
   "execution_count": 3,
   "metadata": {},
   "outputs": [
    {
     "name": "stdout",
     "output_type": "stream",
     "text": [
      "<class 'pandas.core.frame.DataFrame'>\n",
      "RangeIndex: 303 entries, 0 to 302\n",
      "Data columns (total 25 columns):\n",
      " #   Column                 Non-Null Count  Dtype \n",
      "---  ------                 --------------  ----- \n",
      " 0   Sex                    303 non-null    object\n",
      " 1   Obesity                303 non-null    object\n",
      " 2   CRF                    303 non-null    object\n",
      " 3   CVA                    303 non-null    object\n",
      " 4   Airway_disease         303 non-null    object\n",
      " 5   Thyroid_Disease        303 non-null    object\n",
      " 6   CHF                    303 non-null    object\n",
      " 7   DLP                    303 non-null    object\n",
      " 8   Weak_Peripheral_Pulse  303 non-null    object\n",
      " 9   Lung_rales             303 non-null    object\n",
      " 10  Systolic_Murmur        303 non-null    object\n",
      " 11  Diastolic_Murmur       303 non-null    object\n",
      " 12  Dyspnea                303 non-null    object\n",
      " 13  Atypical               303 non-null    object\n",
      " 14  Nonanginal             303 non-null    object\n",
      " 15  Exertional_CP          303 non-null    object\n",
      " 16  LowTH_Ang              303 non-null    object\n",
      " 17  LVH                    303 non-null    object\n",
      " 18  Poor_R_Progression     303 non-null    object\n",
      " 19  BBB                    303 non-null    object\n",
      " 20  VHD                    303 non-null    object\n",
      " 21  LAD                    303 non-null    object\n",
      " 22  LCX                    303 non-null    object\n",
      " 23  RCA                    303 non-null    object\n",
      " 24  Cath                   303 non-null    object\n",
      "dtypes: object(25)\n",
      "memory usage: 59.3+ KB\n",
      "None\n"
     ]
    }
   ],
   "source": [
    "heartdtinfo=df.select_dtypes(include=['object'], exclude=['int64','float64'])\n",
    "print(heartdtinfo.info())"
   ]
  },
  {
   "cell_type": "code",
   "execution_count": 4,
   "metadata": {},
   "outputs": [
    {
     "name": "stdout",
     "output_type": "stream",
     "text": [
      "              Age      Weight      Length         BMI          DM         HTN  \\\n",
      "count  303.000000  303.000000  303.000000  303.000000  303.000000  303.000000   \n",
      "mean    58.897690   73.831683  164.716172   27.248339    0.297030    0.590759   \n",
      "std     10.392278   11.987358    9.327661    4.098865    0.457706    0.492507   \n",
      "min     30.000000   48.000000  140.000000   18.115413    0.000000    0.000000   \n",
      "25%     51.000000   65.000000  158.000000   24.514380    0.000000    0.000000   \n",
      "50%     58.000000   74.000000  165.000000   26.775510    0.000000    1.000000   \n",
      "75%     66.000000   81.000000  171.000000   29.411765    1.000000    1.000000   \n",
      "max     86.000000  120.000000  188.000000   40.900658    1.000000    1.000000   \n",
      "\n",
      "       Current_Smoker   EX-Smoker          FH          BP  ...         ESR  \\\n",
      "count      303.000000  303.000000  303.000000  303.000000  ...  303.000000   \n",
      "mean         0.207921    0.033003    0.158416  129.554455  ...   19.462046   \n",
      "std          0.406491    0.178941    0.365734   18.938105  ...   15.936475   \n",
      "min          0.000000    0.000000    0.000000   90.000000  ...    1.000000   \n",
      "25%          0.000000    0.000000    0.000000  120.000000  ...    9.000000   \n",
      "50%          0.000000    0.000000    0.000000  130.000000  ...   15.000000   \n",
      "75%          0.000000    0.000000    0.000000  140.000000  ...   26.000000   \n",
      "max          1.000000    1.000000    1.000000  190.000000  ...   90.000000   \n",
      "\n",
      "               HB           K          Na           WBC       Lymph  \\\n",
      "count  303.000000  303.000000  303.000000    303.000000  303.000000   \n",
      "mean    13.153465    4.230693  140.996700   7562.046205   32.399340   \n",
      "std      1.610452    0.458202    3.807885   2413.739323    9.972592   \n",
      "min      8.900000    3.000000  128.000000   3700.000000    7.000000   \n",
      "25%     12.200000    3.900000  139.000000   5800.000000   26.000000   \n",
      "50%     13.200000    4.200000  141.000000   7100.000000   32.000000   \n",
      "75%     14.200000    4.500000  143.000000   8800.000000   39.000000   \n",
      "max     17.600000    6.600000  156.000000  18000.000000   60.000000   \n",
      "\n",
      "             Neut         PLT      EF-TTE  Region_RWMA  \n",
      "count  303.000000  303.000000  303.000000   303.000000  \n",
      "mean    60.148515  221.488449   47.231023     0.620462  \n",
      "std     10.182493   60.796199    8.927194     1.132531  \n",
      "min     32.000000   25.000000   15.000000     0.000000  \n",
      "25%     52.500000  183.500000   45.000000     0.000000  \n",
      "50%     60.000000  210.000000   50.000000     0.000000  \n",
      "75%     67.000000  250.000000   55.000000     1.000000  \n",
      "max     89.000000  742.000000   60.000000     4.000000  \n",
      "\n",
      "[8 rows x 34 columns]\n"
     ]
    }
   ],
   "source": [
    "print(df.describe())"
   ]
  },
  {
   "cell_type": "code",
   "execution_count": 5,
   "metadata": {},
   "outputs": [
    {
     "name": "stdout",
     "output_type": "stream",
     "text": [
      "Age                      0\n",
      "Weight                   0\n",
      "Length                   0\n",
      "Sex                      0\n",
      "BMI                      0\n",
      "DM                       0\n",
      "HTN                      0\n",
      "Current_Smoker           0\n",
      "EX-Smoker                0\n",
      "FH                       0\n",
      "Obesity                  0\n",
      "CRF                      0\n",
      "CVA                      0\n",
      "Airway_disease           0\n",
      "Thyroid_Disease          0\n",
      "CHF                      0\n",
      "DLP                      0\n",
      "BP                       0\n",
      "PR                       0\n",
      "Edema                    0\n",
      "Weak_Peripheral_Pulse    0\n",
      "Lung_rales               0\n",
      "Systolic_Murmur          0\n",
      "Diastolic_Murmur         0\n",
      "Typical_Chest_Pain       0\n",
      "Dyspnea                  0\n",
      "Function_Class           0\n",
      "Atypical                 0\n",
      "Nonanginal               0\n",
      "Exertional_CP            0\n",
      "LowTH_Ang                0\n",
      "Q_Wave                   0\n",
      "St_Elevation             0\n",
      "St_Depression            0\n",
      "Tinversion               0\n",
      "LVH                      0\n",
      "Poor_R_Progression       0\n",
      "BBB                      0\n",
      "FBS                      0\n",
      "CR                       0\n",
      "TG                       0\n",
      "LDL                      0\n",
      "HDL                      0\n",
      "BUN                      0\n",
      "ESR                      0\n",
      "HB                       0\n",
      "K                        0\n",
      "Na                       0\n",
      "WBC                      0\n",
      "Lymph                    0\n",
      "Neut                     0\n",
      "PLT                      0\n",
      "EF-TTE                   0\n",
      "Region_RWMA              0\n",
      "VHD                      0\n",
      "LAD                      0\n",
      "LCX                      0\n",
      "RCA                      0\n",
      "Cath                     0\n",
      "dtype: int64\n"
     ]
    }
   ],
   "source": [
    "print(df.isnull().sum())"
   ]
  },
  {
   "cell_type": "code",
   "execution_count": 6,
   "metadata": {},
   "outputs": [
    {
     "name": "stdout",
     "output_type": "stream",
     "text": [
      "Sex 2 ['Male' 'Fmale']\n",
      "Obesity 2 ['Y' 'N']\n",
      "CRF 2 ['N' 'Y']\n",
      "CVA 2 ['N' 'Y']\n",
      "Airway_disease 2 ['N' 'Y']\n",
      "Thyroid_Disease 2 ['N' 'Y']\n",
      "CHF 2 ['N' 'Y']\n",
      "DLP 2 ['Y' 'N']\n",
      "Weak_Peripheral_Pulse 2 ['N' 'Y']\n",
      "Lung_rales 2 ['N' 'Y']\n",
      "Systolic_Murmur 2 ['N' 'Y']\n",
      "Diastolic_Murmur 2 ['N' 'Y']\n",
      "Dyspnea 2 ['N' 'Y']\n",
      "Atypical 2 ['N' 'Y']\n",
      "Nonanginal 2 ['N' 'Y']\n",
      "Exertional_CP 1 ['N']\n",
      "LowTH_Ang 2 ['N' 'Y']\n",
      "LVH 2 ['N' 'Y']\n",
      "Poor_R_Progression 2 ['N' 'Y']\n",
      "BBB 3 ['N' 'LBBB' 'RBBB']\n",
      "VHD 4 ['N' 'mild' 'Severe' 'Moderate']\n",
      "LAD 2 ['Stenotic' 'Normal']\n",
      "LCX 2 ['Normal' 'Stenotic']\n",
      "RCA 2 ['Stenotic' 'Normal']\n",
      "Cath 2 ['CAD' 'Normal']\n"
     ]
    }
   ],
   "source": [
    "for x in heartdtinfo.columns:\n",
    "    print(x,len(heartdtinfo[x].unique().tolist()),heartdtinfo[x].unique())"
   ]
  },
  {
   "cell_type": "code",
   "execution_count": 7,
   "metadata": {},
   "outputs": [],
   "source": [
    "Cath_dict={'CAD':0,'Normal':1}\n",
    "df['Cath']=df.Cath.map(Cath_dict)"
   ]
  },
  {
   "cell_type": "code",
   "execution_count": 8,
   "metadata": {},
   "outputs": [
    {
     "name": "stdout",
     "output_type": "stream",
     "text": [
      "0      0\n",
      "1      0\n",
      "2      0\n",
      "3      1\n",
      "4      1\n",
      "      ..\n",
      "298    0\n",
      "299    1\n",
      "300    1\n",
      "301    1\n",
      "302    0\n",
      "Name: Cath, Length: 303, dtype: int64\n"
     ]
    }
   ],
   "source": [
    "print(df['Cath'])"
   ]
  },
  {
   "cell_type": "code",
   "execution_count": 9,
   "metadata": {},
   "outputs": [
    {
     "name": "stdout",
     "output_type": "stream",
     "text": [
      "Sex\n",
      "Fmale    0.322835\n",
      "Male     0.261364\n",
      "Name: Cath, dtype: float64\n",
      "0      0.261364\n",
      "1      0.322835\n",
      "2      0.261364\n",
      "3      0.322835\n",
      "4      0.322835\n",
      "         ...   \n",
      "298    0.261364\n",
      "299    0.322835\n",
      "300    0.322835\n",
      "301    0.322835\n",
      "302    0.322835\n",
      "Name: Sex_mean_encode, Length: 303, dtype: float64\n"
     ]
    }
   ],
   "source": [
    "mean_encode = df.groupby('Sex')['Cath'].mean()\n",
    "print(mean_encode)\n",
    "df.loc[:,'Sex_mean_encode']=df['Sex'].map(mean_encode)\n",
    "print(df['Sex_mean_encode'])"
   ]
  },
  {
   "cell_type": "code",
   "execution_count": 10,
   "metadata": {},
   "outputs": [
    {
     "name": "stdout",
     "output_type": "stream",
     "text": [
      "Obesity\n",
      "N    0.271739\n",
      "Y    0.293839\n",
      "Name: Cath, dtype: float64\n",
      "0      0.293839\n",
      "1      0.293839\n",
      "2      0.271739\n",
      "3      0.293839\n",
      "4      0.293839\n",
      "         ...   \n",
      "298    0.293839\n",
      "299    0.293839\n",
      "300    0.293839\n",
      "301    0.293839\n",
      "302    0.293839\n",
      "Name: Obesity_mean_encode, Length: 303, dtype: float64\n"
     ]
    }
   ],
   "source": [
    "mean_encode = df.groupby('Obesity')['Cath'].mean()\n",
    "print(mean_encode)\n",
    "df.loc[:,'Obesity_mean_encode']=df['Obesity'].map(mean_encode)\n",
    "print(df['Obesity_mean_encode'])"
   ]
  },
  {
   "cell_type": "code",
   "execution_count": 11,
   "metadata": {},
   "outputs": [
    {
     "name": "stdout",
     "output_type": "stream",
     "text": [
      "CRF\n",
      "N    0.292929\n",
      "Y    0.000000\n",
      "Name: Cath, dtype: float64\n",
      "0      0.292929\n",
      "1      0.292929\n",
      "2      0.292929\n",
      "3      0.292929\n",
      "4      0.292929\n",
      "         ...   \n",
      "298    0.292929\n",
      "299    0.292929\n",
      "300    0.292929\n",
      "301    0.292929\n",
      "302    0.292929\n",
      "Name: CRF_mean_encode, Length: 303, dtype: float64\n"
     ]
    }
   ],
   "source": [
    "mean_encode = df.groupby('CRF')['Cath'].mean()\n",
    "print(mean_encode)\n",
    "df.loc[:,'CRF_mean_encode']=df['CRF'].map(mean_encode)\n",
    "print(df['CRF_mean_encode'])"
   ]
  },
  {
   "cell_type": "code",
   "execution_count": 12,
   "metadata": {},
   "outputs": [
    {
     "name": "stdout",
     "output_type": "stream",
     "text": [
      "CVA\n",
      "N    0.288591\n",
      "Y    0.200000\n",
      "Name: Cath, dtype: float64\n",
      "0      0.288591\n",
      "1      0.288591\n",
      "2      0.288591\n",
      "3      0.288591\n",
      "4      0.288591\n",
      "         ...   \n",
      "298    0.288591\n",
      "299    0.288591\n",
      "300    0.288591\n",
      "301    0.288591\n",
      "302    0.288591\n",
      "Name: CVA_mean_encode, Length: 303, dtype: float64\n"
     ]
    }
   ],
   "source": [
    "mean_encode = df.groupby('CVA')['Cath'].mean()\n",
    "print(mean_encode)\n",
    "df.loc[:,'CVA_mean_encode']=df['CVA'].map(mean_encode)\n",
    "print(df['CVA_mean_encode'])"
   ]
  },
  {
   "cell_type": "code",
   "execution_count": 13,
   "metadata": {},
   "outputs": [
    {
     "name": "stdout",
     "output_type": "stream",
     "text": [
      "Airway_disease\n",
      "N    0.294521\n",
      "Y    0.090909\n",
      "Name: Cath, dtype: float64\n",
      "0      0.294521\n",
      "1      0.294521\n",
      "2      0.294521\n",
      "3      0.294521\n",
      "4      0.294521\n",
      "         ...   \n",
      "298    0.294521\n",
      "299    0.294521\n",
      "300    0.294521\n",
      "301    0.294521\n",
      "302    0.294521\n",
      "Name: Airway_disease_mean_encode, Length: 303, dtype: float64\n"
     ]
    }
   ],
   "source": [
    "mean_encode = df.groupby('Airway_disease')['Cath'].mean()\n",
    "print(mean_encode)\n",
    "df.loc[:,'Airway_disease_mean_encode']=df['Airway_disease'].map(mean_encode)\n",
    "print(df['Airway_disease_mean_encode'])"
   ]
  },
  {
   "cell_type": "code",
   "execution_count": 14,
   "metadata": {},
   "outputs": [
    {
     "name": "stdout",
     "output_type": "stream",
     "text": [
      "Thyroid_Disease\n",
      "N    0.283784\n",
      "Y    0.428571\n",
      "Name: Cath, dtype: float64\n",
      "0      0.283784\n",
      "1      0.283784\n",
      "2      0.283784\n",
      "3      0.283784\n",
      "4      0.283784\n",
      "         ...   \n",
      "298    0.283784\n",
      "299    0.283784\n",
      "300    0.283784\n",
      "301    0.283784\n",
      "302    0.283784\n",
      "Name: Thyroid_Disease_mean_encode, Length: 303, dtype: float64\n"
     ]
    }
   ],
   "source": [
    "mean_encode = df.groupby('Thyroid_Disease')['Cath'].mean()\n",
    "print(mean_encode)\n",
    "df.loc[:,'Thyroid_Disease_mean_encode']=df['Thyroid_Disease'].map(mean_encode)\n",
    "print(df['Thyroid_Disease_mean_encode'])"
   ]
  },
  {
   "cell_type": "code",
   "execution_count": 15,
   "metadata": {},
   "outputs": [
    {
     "name": "stdout",
     "output_type": "stream",
     "text": [
      "CHF\n",
      "N    0.288079\n",
      "Y    0.000000\n",
      "Name: Cath, dtype: float64\n",
      "0      0.288079\n",
      "1      0.288079\n",
      "2      0.288079\n",
      "3      0.288079\n",
      "4      0.288079\n",
      "         ...   \n",
      "298    0.288079\n",
      "299    0.288079\n",
      "300    0.288079\n",
      "301    0.288079\n",
      "302    0.288079\n",
      "Name: CHF_mean_encode, Length: 303, dtype: float64\n"
     ]
    }
   ],
   "source": [
    "mean_encode = df.groupby('CHF')['Cath'].mean()\n",
    "print(mean_encode)\n",
    "df.loc[:,'CHF_mean_encode']=df['CHF'].map(mean_encode)\n",
    "print(df['CHF_mean_encode'])"
   ]
  },
  {
   "cell_type": "code",
   "execution_count": 16,
   "metadata": {},
   "outputs": [
    {
     "name": "stdout",
     "output_type": "stream",
     "text": [
      "DLP\n",
      "N    0.282723\n",
      "Y    0.294643\n",
      "Name: Cath, dtype: float64\n",
      "0      0.294643\n",
      "1      0.282723\n",
      "2      0.282723\n",
      "3      0.282723\n",
      "4      0.282723\n",
      "         ...   \n",
      "298    0.282723\n",
      "299    0.282723\n",
      "300    0.282723\n",
      "301    0.282723\n",
      "302    0.282723\n",
      "Name: DLP_mean_encode, Length: 303, dtype: float64\n"
     ]
    }
   ],
   "source": [
    "mean_encode = df.groupby('DLP')['Cath'].mean()\n",
    "print(mean_encode)\n",
    "df.loc[:,'DLP_mean_encode']=df['DLP'].map(mean_encode)\n",
    "print(df['DLP_mean_encode'])"
   ]
  },
  {
   "cell_type": "code",
   "execution_count": 17,
   "metadata": {},
   "outputs": [
    {
     "name": "stdout",
     "output_type": "stream",
     "text": [
      "Weak_Peripheral_Pulse\n",
      "N    0.291946\n",
      "Y    0.000000\n",
      "Name: Cath, dtype: float64\n",
      "0      0.291946\n",
      "1      0.291946\n",
      "2      0.291946\n",
      "3      0.291946\n",
      "4      0.291946\n",
      "         ...   \n",
      "298    0.291946\n",
      "299    0.291946\n",
      "300    0.291946\n",
      "301    0.291946\n",
      "302    0.291946\n",
      "Name: Weak_Peripheral_Pulse_mean_encode, Length: 303, dtype: float64\n"
     ]
    }
   ],
   "source": [
    "mean_encode = df.groupby('Weak_Peripheral_Pulse')['Cath'].mean()\n",
    "print(mean_encode)\n",
    "df.loc[:,'Weak_Peripheral_Pulse_mean_encode']=df['Weak_Peripheral_Pulse'].map(mean_encode)\n",
    "print(df['Weak_Peripheral_Pulse_mean_encode'])"
   ]
  },
  {
   "cell_type": "code",
   "execution_count": 18,
   "metadata": {},
   "outputs": [
    {
     "name": "stdout",
     "output_type": "stream",
     "text": [
      "Lung_rales\n",
      "N    0.291096\n",
      "Y    0.181818\n",
      "Name: Cath, dtype: float64\n",
      "0      0.291096\n",
      "1      0.291096\n",
      "2      0.291096\n",
      "3      0.291096\n",
      "4      0.291096\n",
      "         ...   \n",
      "298    0.291096\n",
      "299    0.291096\n",
      "300    0.291096\n",
      "301    0.291096\n",
      "302    0.291096\n",
      "Name: Lung_rales_mean_encode, Length: 303, dtype: float64\n"
     ]
    }
   ],
   "source": [
    "mean_encode = df.groupby('Lung_rales')['Cath'].mean()\n",
    "print(mean_encode)\n",
    "df.loc[:,'Lung_rales_mean_encode']=df['Lung_rales'].map(mean_encode)\n",
    "print(df['Lung_rales_mean_encode'])"
   ]
  },
  {
   "cell_type": "code",
   "execution_count": 19,
   "metadata": {},
   "outputs": [
    {
     "name": "stdout",
     "output_type": "stream",
     "text": [
      "Systolic_Murmur\n",
      "N    0.286260\n",
      "Y    0.292683\n",
      "Name: Cath, dtype: float64\n",
      "0      0.286260\n",
      "1      0.286260\n",
      "2      0.286260\n",
      "3      0.286260\n",
      "4      0.292683\n",
      "         ...   \n",
      "298    0.286260\n",
      "299    0.292683\n",
      "300    0.286260\n",
      "301    0.286260\n",
      "302    0.286260\n",
      "Name: Systolic_Murmur_mean_encode, Length: 303, dtype: float64\n"
     ]
    }
   ],
   "source": [
    "mean_encode = df.groupby('Systolic_Murmur')['Cath'].mean()\n",
    "print(mean_encode)\n",
    "df.loc[:,'Systolic_Murmur_mean_encode']=df['Systolic_Murmur'].map(mean_encode)\n",
    "print(df['Systolic_Murmur_mean_encode'])"
   ]
  },
  {
   "cell_type": "code",
   "execution_count": 20,
   "metadata": {},
   "outputs": [
    {
     "name": "stdout",
     "output_type": "stream",
     "text": [
      "Diastolic_Murmur\n",
      "N    0.275510\n",
      "Y    0.666667\n",
      "Name: Cath, dtype: float64\n",
      "0      0.275510\n",
      "1      0.275510\n",
      "2      0.275510\n",
      "3      0.666667\n",
      "4      0.275510\n",
      "         ...   \n",
      "298    0.275510\n",
      "299    0.275510\n",
      "300    0.275510\n",
      "301    0.275510\n",
      "302    0.275510\n",
      "Name: Diastolic_Murmur_mean_encode, Length: 303, dtype: float64\n"
     ]
    }
   ],
   "source": [
    "mean_encode = df.groupby('Diastolic_Murmur')['Cath'].mean()\n",
    "print(mean_encode)\n",
    "df.loc[:,'Diastolic_Murmur_mean_encode']=df['Diastolic_Murmur'].map(mean_encode)\n",
    "print(df['Diastolic_Murmur_mean_encode'])"
   ]
  },
  {
   "cell_type": "code",
   "execution_count": 21,
   "metadata": {},
   "outputs": [
    {
     "name": "stdout",
     "output_type": "stream",
     "text": [
      "Dyspnea\n",
      "N    0.236686\n",
      "Y    0.350746\n",
      "Name: Cath, dtype: float64\n",
      "0      0.236686\n",
      "1      0.236686\n",
      "2      0.236686\n",
      "3      0.350746\n",
      "4      0.350746\n",
      "         ...   \n",
      "298    0.236686\n",
      "299    0.350746\n",
      "300    0.236686\n",
      "301    0.350746\n",
      "302    0.236686\n",
      "Name: Dyspnea_mean_encode, Length: 303, dtype: float64\n"
     ]
    }
   ],
   "source": [
    "mean_encode = df.groupby('Dyspnea')['Cath'].mean()\n",
    "print(mean_encode)\n",
    "df.loc[:,'Dyspnea_mean_encode']=df['Dyspnea'].map(mean_encode)\n",
    "print(df['Dyspnea_mean_encode'])"
   ]
  },
  {
   "cell_type": "code",
   "execution_count": 22,
   "metadata": {},
   "outputs": [
    {
     "name": "stdout",
     "output_type": "stream",
     "text": [
      "Atypical\n",
      "N    0.161905\n",
      "Y    0.569892\n",
      "Name: Cath, dtype: float64\n",
      "0      0.161905\n",
      "1      0.161905\n",
      "2      0.161905\n",
      "3      0.161905\n",
      "4      0.161905\n",
      "         ...   \n",
      "298    0.161905\n",
      "299    0.569892\n",
      "300    0.161905\n",
      "301    0.569892\n",
      "302    0.161905\n",
      "Name: Atypical_mean_encode, Length: 303, dtype: float64\n"
     ]
    }
   ],
   "source": [
    "mean_encode = df.groupby('Atypical')['Cath'].mean()\n",
    "print(mean_encode)\n",
    "df.loc[:,'Atypical_mean_encode']=df['Atypical'].map(mean_encode)\n",
    "print(df['Atypical_mean_encode'])"
   ]
  },
  {
   "cell_type": "code",
   "execution_count": 23,
   "metadata": {},
   "outputs": [
    {
     "name": "stdout",
     "output_type": "stream",
     "text": [
      "Nonanginal\n",
      "N    0.25784\n",
      "Y    0.81250\n",
      "Name: Cath, dtype: float64\n",
      "0      0.25784\n",
      "1      0.25784\n",
      "2      0.25784\n",
      "3      0.81250\n",
      "4      0.25784\n",
      "        ...   \n",
      "298    0.25784\n",
      "299    0.25784\n",
      "300    0.81250\n",
      "301    0.25784\n",
      "302    0.25784\n",
      "Name: Nonanginal_mean_encode, Length: 303, dtype: float64\n"
     ]
    }
   ],
   "source": [
    "mean_encode = df.groupby('Nonanginal')['Cath'].mean()\n",
    "print(mean_encode)\n",
    "df.loc[:,'Nonanginal_mean_encode']=df['Nonanginal'].map(mean_encode)\n",
    "print(df['Nonanginal_mean_encode'])"
   ]
  },
  {
   "cell_type": "code",
   "execution_count": 24,
   "metadata": {},
   "outputs": [
    {
     "name": "stdout",
     "output_type": "stream",
     "text": [
      "Exertional_CP\n",
      "N    0.287129\n",
      "Name: Cath, dtype: float64\n",
      "0      0.287129\n",
      "1      0.287129\n",
      "2      0.287129\n",
      "3      0.287129\n",
      "4      0.287129\n",
      "         ...   \n",
      "298    0.287129\n",
      "299    0.287129\n",
      "300    0.287129\n",
      "301    0.287129\n",
      "302    0.287129\n",
      "Name: Exertional_CP_mean_encode, Length: 303, dtype: float64\n"
     ]
    }
   ],
   "source": [
    "mean_encode = df.groupby('Exertional_CP')['Cath'].mean()\n",
    "print(mean_encode)\n",
    "df.loc[:,'Exertional_CP_mean_encode']=df['Exertional_CP'].map(mean_encode)\n",
    "print(df['Exertional_CP_mean_encode'])"
   ]
  },
  {
   "cell_type": "code",
   "execution_count": 25,
   "metadata": {},
   "outputs": [
    {
     "name": "stdout",
     "output_type": "stream",
     "text": [
      "LowTH_Ang\n",
      "N    0.289037\n",
      "Y    0.000000\n",
      "Name: Cath, dtype: float64\n",
      "0      0.289037\n",
      "1      0.289037\n",
      "2      0.289037\n",
      "3      0.289037\n",
      "4      0.289037\n",
      "         ...   \n",
      "298    0.289037\n",
      "299    0.289037\n",
      "300    0.289037\n",
      "301    0.289037\n",
      "302    0.289037\n",
      "Name: LowTH_Ang_mean_encode, Length: 303, dtype: float64\n"
     ]
    }
   ],
   "source": [
    "mean_encode = df.groupby('LowTH_Ang')['Cath'].mean()\n",
    "print(mean_encode)\n",
    "df.loc[:,'LowTH_Ang_mean_encode']=df['LowTH_Ang'].map(mean_encode)\n",
    "print(df['LowTH_Ang_mean_encode'])"
   ]
  },
  {
   "cell_type": "code",
   "execution_count": 26,
   "metadata": {},
   "outputs": [
    {
     "name": "stdout",
     "output_type": "stream",
     "text": [
      "LVH\n",
      "N    0.293286\n",
      "Y    0.200000\n",
      "Name: Cath, dtype: float64\n",
      "0      0.293286\n",
      "1      0.293286\n",
      "2      0.293286\n",
      "3      0.293286\n",
      "4      0.293286\n",
      "         ...   \n",
      "298    0.293286\n",
      "299    0.293286\n",
      "300    0.293286\n",
      "301    0.293286\n",
      "302    0.293286\n",
      "Name: LVH_mean_encode, Length: 303, dtype: float64\n"
     ]
    }
   ],
   "source": [
    "mean_encode = df.groupby('LVH')['Cath'].mean()\n",
    "print(mean_encode)\n",
    "df.loc[:,'LVH_mean_encode']=df['LVH'].map(mean_encode)\n",
    "print(df['LVH_mean_encode'])"
   ]
  },
  {
   "cell_type": "code",
   "execution_count": 27,
   "metadata": {},
   "outputs": [
    {
     "name": "stdout",
     "output_type": "stream",
     "text": [
      "Poor_R_Progression\n",
      "N    0.295918\n",
      "Y    0.000000\n",
      "Name: Cath, dtype: float64\n",
      "0      0.295918\n",
      "1      0.295918\n",
      "2      0.295918\n",
      "3      0.295918\n",
      "4      0.295918\n",
      "         ...   \n",
      "298    0.295918\n",
      "299    0.295918\n",
      "300    0.295918\n",
      "301    0.295918\n",
      "302    0.295918\n",
      "Name: Poor_R_Progression_mean_encode, Length: 303, dtype: float64\n"
     ]
    }
   ],
   "source": [
    "mean_encode = df.groupby('Poor_R_Progression')['Cath'].mean()\n",
    "print(mean_encode)\n",
    "df.loc[:,'Poor_R_Progression_mean_encode']=df['Poor_R_Progression'].map(mean_encode)\n",
    "print(df['Poor_R_Progression_mean_encode'])"
   ]
  },
  {
   "cell_type": "code",
   "execution_count": 28,
   "metadata": {},
   "outputs": [
    {
     "name": "stdout",
     "output_type": "stream",
     "text": [
      "BBB\n",
      "LBBB    0.461538\n",
      "N       0.276596\n",
      "RBBB    0.375000\n",
      "Name: Cath, dtype: float64\n",
      "0      0.276596\n",
      "1      0.276596\n",
      "2      0.276596\n",
      "3      0.276596\n",
      "4      0.276596\n",
      "         ...   \n",
      "298    0.276596\n",
      "299    0.461538\n",
      "300    0.375000\n",
      "301    0.276596\n",
      "302    0.276596\n",
      "Name: BBB_mean_encode, Length: 303, dtype: float64\n"
     ]
    }
   ],
   "source": [
    "mean_encode = df.groupby('BBB')['Cath'].mean()\n",
    "print(mean_encode)\n",
    "df.loc[:,'BBB_mean_encode']=df['BBB'].map(mean_encode)\n",
    "print(df['BBB_mean_encode'])"
   ]
  },
  {
   "cell_type": "code",
   "execution_count": 29,
   "metadata": {},
   "outputs": [
    {
     "name": "stdout",
     "output_type": "stream",
     "text": [
      "VHD\n",
      "Moderate    0.185185\n",
      "N           0.344828\n",
      "Severe      0.727273\n",
      "mild        0.228188\n",
      "Name: Cath, dtype: float64\n",
      "0      0.344828\n",
      "1      0.344828\n",
      "2      0.228188\n",
      "3      0.727273\n",
      "4      0.727273\n",
      "         ...   \n",
      "298    0.344828\n",
      "299    0.228188\n",
      "300    0.344828\n",
      "301    0.344828\n",
      "302    0.344828\n",
      "Name: VHD_mean_encode, Length: 303, dtype: float64\n"
     ]
    }
   ],
   "source": [
    "mean_encode = df.groupby('VHD')['Cath'].mean()\n",
    "print(mean_encode)\n",
    "df.loc[:,'VHD_mean_encode']=df['VHD'].map(mean_encode)\n",
    "print(df['VHD_mean_encode'])"
   ]
  },
  {
   "cell_type": "code",
   "execution_count": 30,
   "metadata": {},
   "outputs": [
    {
     "name": "stdout",
     "output_type": "stream",
     "text": [
      "LAD\n",
      "Normal      0.68254\n",
      "Stenotic    0.00565\n",
      "Name: Cath, dtype: float64\n",
      "0      0.00565\n",
      "1      0.00565\n",
      "2      0.00565\n",
      "3      0.68254\n",
      "4      0.68254\n",
      "        ...   \n",
      "298    0.00565\n",
      "299    0.68254\n",
      "300    0.68254\n",
      "301    0.68254\n",
      "302    0.00565\n",
      "Name: LAD_mean_encode, Length: 303, dtype: float64\n"
     ]
    }
   ],
   "source": [
    "mean_encode = df.groupby('LAD')['Cath'].mean()\n",
    "print(mean_encode)\n",
    "df.loc[:,'LAD_mean_encode']=df['LAD'].map(mean_encode)\n",
    "print(df['LAD_mean_encode'])"
   ]
  },
  {
   "cell_type": "code",
   "execution_count": 31,
   "metadata": {},
   "outputs": [
    {
     "name": "stdout",
     "output_type": "stream",
     "text": [
      "LCX\n",
      "Normal      0.472826\n",
      "Stenotic    0.000000\n",
      "Name: Cath, dtype: float64\n",
      "0      0.472826\n",
      "1      0.000000\n",
      "2      0.472826\n",
      "3      0.472826\n",
      "4      0.472826\n",
      "         ...   \n",
      "298    0.000000\n",
      "299    0.472826\n",
      "300    0.472826\n",
      "301    0.472826\n",
      "302    0.472826\n",
      "Name: LCX_mean_encode, Length: 303, dtype: float64\n"
     ]
    }
   ],
   "source": [
    "mean_encode = df.groupby('LCX')['Cath'].mean()\n",
    "print(mean_encode)\n",
    "df.loc[:,'LCX_mean_encode']=df['LCX'].map(mean_encode)\n",
    "print(df['LCX_mean_encode'])"
   ]
  },
  {
   "cell_type": "code",
   "execution_count": 32,
   "metadata": {},
   "outputs": [
    {
     "name": "stdout",
     "output_type": "stream",
     "text": [
      "RCA\n",
      "Normal      0.460317\n",
      "Stenotic    0.000000\n",
      "Name: Cath, dtype: float64\n",
      "0      0.000000\n",
      "1      0.460317\n",
      "2      0.460317\n",
      "3      0.460317\n",
      "4      0.460317\n",
      "         ...   \n",
      "298    0.000000\n",
      "299    0.460317\n",
      "300    0.460317\n",
      "301    0.460317\n",
      "302    0.460317\n",
      "Name: RCA_mean_encode, Length: 303, dtype: float64\n"
     ]
    }
   ],
   "source": [
    "mean_encode = df.groupby('RCA')['Cath'].mean()\n",
    "print(mean_encode)\n",
    "df.loc[:,'RCA_mean_encode']=df['RCA'].map(mean_encode)\n",
    "print(df['RCA_mean_encode'])"
   ]
  },
  {
   "cell_type": "code",
   "execution_count": 33,
   "metadata": {},
   "outputs": [
    {
     "name": "stdout",
     "output_type": "stream",
     "text": [
      "     Age  Weight  Length        BMI  DM  HTN  Current_Smoker  EX-Smoker  FH  \\\n",
      "0     53      90     175  29.387755   0    1               1          0   0   \n",
      "1     67      70     157  28.398718   0    1               0          0   0   \n",
      "2     54      54     164  20.077335   0    0               1          0   0   \n",
      "3     66      67     158  26.838648   0    1               0          0   0   \n",
      "4     50      87     153  37.165193   0    1               0          0   0   \n",
      "..   ...     ...     ...        ...  ..  ...             ...        ...  ..   \n",
      "298   58      84     168  29.761905   0    0               0          0   0   \n",
      "299   55      64     152  27.700831   0    0               0          0   0   \n",
      "300   48      77     160  30.078125   0    1               0          0   1   \n",
      "301   57      90     159  35.599858   1    0               0          0   0   \n",
      "302   56      85     170  29.411765   0    1               1          0   0   \n",
      "\n",
      "      BP  ...  Nonanginal_mean_encode  Exertional_CP_mean_encode  \\\n",
      "0    110  ...                 0.25784                   0.287129   \n",
      "1    140  ...                 0.25784                   0.287129   \n",
      "2    100  ...                 0.25784                   0.287129   \n",
      "3    100  ...                 0.81250                   0.287129   \n",
      "4    110  ...                 0.25784                   0.287129   \n",
      "..   ...  ...                     ...                        ...   \n",
      "298  100  ...                 0.25784                   0.287129   \n",
      "299  100  ...                 0.25784                   0.287129   \n",
      "300  130  ...                 0.81250                   0.287129   \n",
      "301  100  ...                 0.25784                   0.287129   \n",
      "302  120  ...                 0.25784                   0.287129   \n",
      "\n",
      "     LowTH_Ang_mean_encode  LVH_mean_encode  Poor_R_Progression_mean_encode  \\\n",
      "0                 0.289037         0.293286                        0.295918   \n",
      "1                 0.289037         0.293286                        0.295918   \n",
      "2                 0.289037         0.293286                        0.295918   \n",
      "3                 0.289037         0.293286                        0.295918   \n",
      "4                 0.289037         0.293286                        0.295918   \n",
      "..                     ...              ...                             ...   \n",
      "298               0.289037         0.293286                        0.295918   \n",
      "299               0.289037         0.293286                        0.295918   \n",
      "300               0.289037         0.293286                        0.295918   \n",
      "301               0.289037         0.293286                        0.295918   \n",
      "302               0.289037         0.293286                        0.295918   \n",
      "\n",
      "     BBB_mean_encode  VHD_mean_encode  LAD_mean_encode  LCX_mean_encode  \\\n",
      "0           0.276596         0.344828          0.00565         0.472826   \n",
      "1           0.276596         0.344828          0.00565         0.000000   \n",
      "2           0.276596         0.228188          0.00565         0.472826   \n",
      "3           0.276596         0.727273          0.68254         0.472826   \n",
      "4           0.276596         0.727273          0.68254         0.472826   \n",
      "..               ...              ...              ...              ...   \n",
      "298         0.276596         0.344828          0.00565         0.000000   \n",
      "299         0.461538         0.228188          0.68254         0.472826   \n",
      "300         0.375000         0.344828          0.68254         0.472826   \n",
      "301         0.276596         0.344828          0.68254         0.472826   \n",
      "302         0.276596         0.344828          0.00565         0.472826   \n",
      "\n",
      "     RCA_mean_encode  \n",
      "0           0.000000  \n",
      "1           0.460317  \n",
      "2           0.460317  \n",
      "3           0.460317  \n",
      "4           0.460317  \n",
      "..               ...  \n",
      "298         0.000000  \n",
      "299         0.460317  \n",
      "300         0.460317  \n",
      "301         0.460317  \n",
      "302         0.460317  \n",
      "\n",
      "[303 rows x 59 columns]\n",
      "Index(['Age', 'Weight', 'Length', 'BMI', 'DM', 'HTN', 'Current_Smoker',\n",
      "       'EX-Smoker', 'FH', 'BP', 'PR', 'Edema', 'Typical_Chest_Pain',\n",
      "       'Function_Class', 'Q_Wave', 'St_Elevation', 'St_Depression',\n",
      "       'Tinversion', 'FBS', 'CR', 'TG', 'LDL', 'HDL', 'BUN', 'ESR', 'HB', 'K',\n",
      "       'Na', 'WBC', 'Lymph', 'Neut', 'PLT', 'EF-TTE', 'Region_RWMA', 'Cath',\n",
      "       'Sex_mean_encode', 'Obesity_mean_encode', 'CRF_mean_encode',\n",
      "       'CVA_mean_encode', 'Airway_disease_mean_encode',\n",
      "       'Thyroid_Disease_mean_encode', 'CHF_mean_encode', 'DLP_mean_encode',\n",
      "       'Weak_Peripheral_Pulse_mean_encode', 'Lung_rales_mean_encode',\n",
      "       'Systolic_Murmur_mean_encode', 'Diastolic_Murmur_mean_encode',\n",
      "       'Dyspnea_mean_encode', 'Atypical_mean_encode', 'Nonanginal_mean_encode',\n",
      "       'Exertional_CP_mean_encode', 'LowTH_Ang_mean_encode', 'LVH_mean_encode',\n",
      "       'Poor_R_Progression_mean_encode', 'BBB_mean_encode', 'VHD_mean_encode',\n",
      "       'LAD_mean_encode', 'LCX_mean_encode', 'RCA_mean_encode'],\n",
      "      dtype='object')\n"
     ]
    }
   ],
   "source": [
    "df=df.drop(['Sex', 'Obesity', 'CRF', 'CVA', 'Airway_disease', 'Thyroid_Disease', 'CHF', 'DLP', 'Weak_Peripheral_Pulse', 'Lung_rales', 'Systolic_Murmur', 'Diastolic_Murmur', 'Dyspnea', 'Atypical', 'Nonanginal', 'Exertional_CP', 'LowTH_Ang', 'LVH', 'Poor_R_Progression', 'BBB', 'VHD', 'LAD', 'LCX', 'RCA'], axis = 1)\n",
    "print(df)\n",
    "print(df.columns)"
   ]
  },
  {
   "cell_type": "code",
   "execution_count": 34,
   "metadata": {},
   "outputs": [
    {
     "name": "stdout",
     "output_type": "stream",
     "text": [
      "0      0\n",
      "1      0\n",
      "2      0\n",
      "3      1\n",
      "4      1\n",
      "      ..\n",
      "298    0\n",
      "299    1\n",
      "300    1\n",
      "301    1\n",
      "302    0\n",
      "Name: Cath, Length: 303, dtype: int64\n",
      "     Age  Weight  Length        BMI  DM  HTN  Current_Smoker  EX-Smoker  FH  \\\n",
      "0     53      90     175  29.387755   0    1               1          0   0   \n",
      "1     67      70     157  28.398718   0    1               0          0   0   \n",
      "2     54      54     164  20.077335   0    0               1          0   0   \n",
      "3     66      67     158  26.838648   0    1               0          0   0   \n",
      "4     50      87     153  37.165193   0    1               0          0   0   \n",
      "..   ...     ...     ...        ...  ..  ...             ...        ...  ..   \n",
      "298   58      84     168  29.761905   0    0               0          0   0   \n",
      "299   55      64     152  27.700831   0    0               0          0   0   \n",
      "300   48      77     160  30.078125   0    1               0          0   1   \n",
      "301   57      90     159  35.599858   1    0               0          0   0   \n",
      "302   56      85     170  29.411765   0    1               1          0   0   \n",
      "\n",
      "      BP  ...  Nonanginal_mean_encode  Exertional_CP_mean_encode  \\\n",
      "0    110  ...                 0.25784                   0.287129   \n",
      "1    140  ...                 0.25784                   0.287129   \n",
      "2    100  ...                 0.25784                   0.287129   \n",
      "3    100  ...                 0.81250                   0.287129   \n",
      "4    110  ...                 0.25784                   0.287129   \n",
      "..   ...  ...                     ...                        ...   \n",
      "298  100  ...                 0.25784                   0.287129   \n",
      "299  100  ...                 0.25784                   0.287129   \n",
      "300  130  ...                 0.81250                   0.287129   \n",
      "301  100  ...                 0.25784                   0.287129   \n",
      "302  120  ...                 0.25784                   0.287129   \n",
      "\n",
      "     LowTH_Ang_mean_encode  LVH_mean_encode  Poor_R_Progression_mean_encode  \\\n",
      "0                 0.289037         0.293286                        0.295918   \n",
      "1                 0.289037         0.293286                        0.295918   \n",
      "2                 0.289037         0.293286                        0.295918   \n",
      "3                 0.289037         0.293286                        0.295918   \n",
      "4                 0.289037         0.293286                        0.295918   \n",
      "..                     ...              ...                             ...   \n",
      "298               0.289037         0.293286                        0.295918   \n",
      "299               0.289037         0.293286                        0.295918   \n",
      "300               0.289037         0.293286                        0.295918   \n",
      "301               0.289037         0.293286                        0.295918   \n",
      "302               0.289037         0.293286                        0.295918   \n",
      "\n",
      "     BBB_mean_encode  VHD_mean_encode  LAD_mean_encode  LCX_mean_encode  \\\n",
      "0           0.276596         0.344828          0.00565         0.472826   \n",
      "1           0.276596         0.344828          0.00565         0.000000   \n",
      "2           0.276596         0.228188          0.00565         0.472826   \n",
      "3           0.276596         0.727273          0.68254         0.472826   \n",
      "4           0.276596         0.727273          0.68254         0.472826   \n",
      "..               ...              ...              ...              ...   \n",
      "298         0.276596         0.344828          0.00565         0.000000   \n",
      "299         0.461538         0.228188          0.68254         0.472826   \n",
      "300         0.375000         0.344828          0.68254         0.472826   \n",
      "301         0.276596         0.344828          0.68254         0.472826   \n",
      "302         0.276596         0.344828          0.00565         0.472826   \n",
      "\n",
      "     RCA_mean_encode  \n",
      "0           0.000000  \n",
      "1           0.460317  \n",
      "2           0.460317  \n",
      "3           0.460317  \n",
      "4           0.460317  \n",
      "..               ...  \n",
      "298         0.000000  \n",
      "299         0.460317  \n",
      "300         0.460317  \n",
      "301         0.460317  \n",
      "302         0.460317  \n",
      "\n",
      "[303 rows x 58 columns]\n"
     ]
    }
   ],
   "source": [
    "X = df.drop('Cath',axis = 1)\n",
    "y = df['Cath'] \n",
    "print(y)\n",
    "print(X)"
   ]
  },
  {
   "cell_type": "code",
   "execution_count": 60,
   "metadata": {},
   "outputs": [],
   "source": [
    "from sklearn.discriminant_analysis import LinearDiscriminantAnalysis\n",
    "import matplotlib.pyplot as plt\n",
    "lda = LinearDiscriminantAnalysis(n_components=2)\n",
    "X_lda = lda.fit_transform(X, y)"
   ]
  },
  {
   "cell_type": "code",
   "execution_count": 61,
   "metadata": {},
   "outputs": [
    {
     "data": {
      "text/plain": [
       "array([[-1.13128696],\n",
       "       [-1.56971912],\n",
       "       [-0.79687058],\n",
       "       [ 3.73718684],\n",
       "       [ 2.96734748],\n",
       "       [-1.19154727],\n",
       "       [-0.65147257],\n",
       "       [-3.16730864],\n",
       "       [ 3.74202758],\n",
       "       [-0.02537223],\n",
       "       [-0.95167512],\n",
       "       [-3.27800618],\n",
       "       [-1.45133365],\n",
       "       [-1.61150992],\n",
       "       [-0.38414255],\n",
       "       [-1.64750568],\n",
       "       [ 3.23608904],\n",
       "       [ 2.44506897],\n",
       "       [-1.52102601],\n",
       "       [ 0.11031468],\n",
       "       [ 2.06800647],\n",
       "       [-0.86635624],\n",
       "       [-2.16305682],\n",
       "       [-2.3071234 ],\n",
       "       [-0.87361429],\n",
       "       [-0.81311099],\n",
       "       [ 3.28521542],\n",
       "       [ 2.2773061 ],\n",
       "       [-2.68068753],\n",
       "       [ 0.24360215],\n",
       "       [ 0.52589156],\n",
       "       [-0.40951776],\n",
       "       [-2.63909051],\n",
       "       [-2.61935214],\n",
       "       [-1.41687638],\n",
       "       [ 3.4849203 ],\n",
       "       [-2.02683462],\n",
       "       [-0.93657137],\n",
       "       [-0.46464981],\n",
       "       [-2.83473044],\n",
       "       [-0.4396698 ],\n",
       "       [ 3.41444984],\n",
       "       [ 2.6632716 ],\n",
       "       [-0.15306523],\n",
       "       [-0.49673928],\n",
       "       [-2.90757822],\n",
       "       [-2.4007715 ],\n",
       "       [-2.13593453],\n",
       "       [ 2.95526372],\n",
       "       [ 0.67266452],\n",
       "       [ 1.43423709],\n",
       "       [-1.7778774 ],\n",
       "       [-1.43243836],\n",
       "       [ 0.94013597],\n",
       "       [ 4.03822032],\n",
       "       [-2.33203535],\n",
       "       [-2.85783202],\n",
       "       [-2.63437511],\n",
       "       [-0.95737387],\n",
       "       [-2.92128227],\n",
       "       [ 2.89789367],\n",
       "       [-1.27486096],\n",
       "       [-1.3296347 ],\n",
       "       [-2.50240702],\n",
       "       [ 3.54766218],\n",
       "       [ 0.07228618],\n",
       "       [-1.46462496],\n",
       "       [ 2.36787424],\n",
       "       [ 3.05281032],\n",
       "       [-2.4616229 ],\n",
       "       [ 2.04921149],\n",
       "       [-1.182732  ],\n",
       "       [-0.65450496],\n",
       "       [-0.190558  ],\n",
       "       [-2.58061163],\n",
       "       [-0.31798146],\n",
       "       [-0.86774864],\n",
       "       [ 0.86522828],\n",
       "       [-0.97701958],\n",
       "       [ 3.07802745],\n",
       "       [-2.16044579],\n",
       "       [-1.91774809],\n",
       "       [-0.78502186],\n",
       "       [-0.97959919],\n",
       "       [ 0.47256045],\n",
       "       [ 1.14748492],\n",
       "       [-2.56555697],\n",
       "       [-3.18992604],\n",
       "       [ 0.18103946],\n",
       "       [-2.71959618],\n",
       "       [ 0.33731174],\n",
       "       [ 2.94649549],\n",
       "       [-3.48344051],\n",
       "       [ 0.3599105 ],\n",
       "       [-0.29406814],\n",
       "       [-1.04929562],\n",
       "       [-1.27988726],\n",
       "       [-1.04971939],\n",
       "       [-1.25648649],\n",
       "       [-0.43636363],\n",
       "       [-0.92531071],\n",
       "       [-2.20160594],\n",
       "       [ 3.15756085],\n",
       "       [-1.84839848],\n",
       "       [-0.07188205],\n",
       "       [ 0.1671252 ],\n",
       "       [-0.80252739],\n",
       "       [-1.34437221],\n",
       "       [ 2.14614792],\n",
       "       [-1.238857  ],\n",
       "       [ 1.74578016],\n",
       "       [-2.32458031],\n",
       "       [-0.54425012],\n",
       "       [ 3.03113919],\n",
       "       [-2.10095917],\n",
       "       [-0.63574671],\n",
       "       [-1.70427363],\n",
       "       [-2.11730706],\n",
       "       [-1.15494529],\n",
       "       [-1.50984331],\n",
       "       [-1.97153441],\n",
       "       [ 0.60624851],\n",
       "       [ 0.84557859],\n",
       "       [-0.6154769 ],\n",
       "       [-0.19734949],\n",
       "       [-2.25610494],\n",
       "       [-2.08109604],\n",
       "       [-0.90482306],\n",
       "       [-0.44735138],\n",
       "       [ 3.45104521],\n",
       "       [ 3.09892458],\n",
       "       [-0.41561745],\n",
       "       [-1.40366081],\n",
       "       [ 1.87417556],\n",
       "       [-0.7133765 ],\n",
       "       [-1.96917153],\n",
       "       [ 2.46985598],\n",
       "       [ 3.10362029],\n",
       "       [-1.42172528],\n",
       "       [-2.61740952],\n",
       "       [-0.66451196],\n",
       "       [-1.4650775 ],\n",
       "       [-0.09206814],\n",
       "       [ 3.38110755],\n",
       "       [-1.45711751],\n",
       "       [ 1.47029583],\n",
       "       [-1.15772383],\n",
       "       [-2.98725514],\n",
       "       [-2.02002016],\n",
       "       [-2.20898516],\n",
       "       [ 2.00715168],\n",
       "       [ 2.86532909],\n",
       "       [-0.14935718],\n",
       "       [ 2.1235697 ],\n",
       "       [ 0.52922618],\n",
       "       [-1.03533282],\n",
       "       [-1.59997651],\n",
       "       [-0.38372386],\n",
       "       [ 1.54991605],\n",
       "       [-0.9460259 ],\n",
       "       [ 1.20689271],\n",
       "       [-0.51409052],\n",
       "       [-1.18423777],\n",
       "       [-1.18192262],\n",
       "       [-2.37746998],\n",
       "       [ 0.24527749],\n",
       "       [ 3.29897818],\n",
       "       [-1.52760376],\n",
       "       [ 2.93003394],\n",
       "       [ 2.69574206],\n",
       "       [ 3.08488962],\n",
       "       [-1.00126593],\n",
       "       [-0.36788656],\n",
       "       [-2.52012908],\n",
       "       [-2.90075171],\n",
       "       [ 1.7832478 ],\n",
       "       [ 0.62917384],\n",
       "       [-2.20170036],\n",
       "       [-1.0424365 ],\n",
       "       [ 3.54534234],\n",
       "       [ 0.11170764],\n",
       "       [-1.33728376],\n",
       "       [-1.33581215],\n",
       "       [ 1.85277216],\n",
       "       [-1.16730177],\n",
       "       [ 2.81956585],\n",
       "       [ 2.83509   ],\n",
       "       [-1.69599135],\n",
       "       [ 0.15964716],\n",
       "       [-0.90072203],\n",
       "       [ 2.65383605],\n",
       "       [-1.73211903],\n",
       "       [ 2.71180647],\n",
       "       [ 2.69048834],\n",
       "       [ 3.06163619],\n",
       "       [-0.40181806],\n",
       "       [ 3.71749946],\n",
       "       [-2.70324689],\n",
       "       [-1.23494355],\n",
       "       [ 3.06242936],\n",
       "       [-0.08832193],\n",
       "       [ 2.67145134],\n",
       "       [-2.34176486],\n",
       "       [ 2.74913303],\n",
       "       [ 2.81342726],\n",
       "       [ 0.58505485],\n",
       "       [-2.96880623],\n",
       "       [-1.22001345],\n",
       "       [-1.10603971],\n",
       "       [-1.13630103],\n",
       "       [ 2.93219005],\n",
       "       [-0.65139557],\n",
       "       [ 3.06056576],\n",
       "       [ 1.41078369],\n",
       "       [ 3.09943804],\n",
       "       [-0.61066216],\n",
       "       [ 2.51190032],\n",
       "       [ 2.00005732],\n",
       "       [ 3.03423524],\n",
       "       [-1.07508868],\n",
       "       [-1.26139217],\n",
       "       [-0.43646897],\n",
       "       [-2.05636552],\n",
       "       [-2.42193429],\n",
       "       [-1.00039539],\n",
       "       [ 0.01778153],\n",
       "       [-2.33843129],\n",
       "       [-0.66348477],\n",
       "       [-1.30415973],\n",
       "       [-1.91012937],\n",
       "       [-1.00774627],\n",
       "       [-0.65064878],\n",
       "       [-1.89796671],\n",
       "       [ 2.74783468],\n",
       "       [ 3.43562285],\n",
       "       [-1.48759763],\n",
       "       [-1.39655557],\n",
       "       [-0.0879436 ],\n",
       "       [ 0.18078108],\n",
       "       [-0.69647212],\n",
       "       [-1.51956583],\n",
       "       [-1.33075134],\n",
       "       [-2.00269272],\n",
       "       [ 0.63772789],\n",
       "       [-1.95024216],\n",
       "       [ 0.1213248 ],\n",
       "       [-2.24077344],\n",
       "       [ 2.18958744],\n",
       "       [-2.22839164],\n",
       "       [-0.86124141],\n",
       "       [-0.81922638],\n",
       "       [-0.0988108 ],\n",
       "       [-0.27921373],\n",
       "       [-0.06563829],\n",
       "       [ 2.78183579],\n",
       "       [ 3.51814179],\n",
       "       [ 2.70007384],\n",
       "       [ 3.05411875],\n",
       "       [ 3.90648077],\n",
       "       [-1.17036545],\n",
       "       [-2.79783444],\n",
       "       [ 3.34877228],\n",
       "       [-0.12395308],\n",
       "       [ 2.8156358 ],\n",
       "       [ 3.75422482],\n",
       "       [-0.663274  ],\n",
       "       [-0.09469011],\n",
       "       [-1.09258418],\n",
       "       [ 3.24480625],\n",
       "       [-1.97119785],\n",
       "       [ 3.21501475],\n",
       "       [-0.06232804],\n",
       "       [ 2.80545231],\n",
       "       [-2.18861078],\n",
       "       [-1.93730828],\n",
       "       [-2.05505094],\n",
       "       [ 2.79841364],\n",
       "       [-1.5831226 ],\n",
       "       [ 0.3124492 ],\n",
       "       [-0.77396182],\n",
       "       [ 3.75575248],\n",
       "       [-1.20734074],\n",
       "       [ 1.27853666],\n",
       "       [ 0.48155846],\n",
       "       [ 2.50958692],\n",
       "       [ 3.36263341],\n",
       "       [ 1.9555999 ],\n",
       "       [ 2.86712366],\n",
       "       [ 0.51952839],\n",
       "       [ 2.27584971],\n",
       "       [ 2.61471612],\n",
       "       [ 2.81541996],\n",
       "       [ 1.21785594],\n",
       "       [ 2.78313329],\n",
       "       [-1.33841676],\n",
       "       [ 2.8659268 ],\n",
       "       [ 3.02439463],\n",
       "       [ 2.76484694],\n",
       "       [-1.62305907],\n",
       "       [ 3.61231852],\n",
       "       [ 3.19872548],\n",
       "       [ 2.82924518],\n",
       "       [-0.55003481]])"
      ]
     },
     "execution_count": 61,
     "metadata": {},
     "output_type": "execute_result"
    }
   ],
   "source": [
    "X_lda"
   ]
  },
  {
   "cell_type": "code",
   "execution_count": 55,
   "metadata": {},
   "outputs": [
    {
     "data": {
      "text/plain": [
       "array([0.9985689])"
      ]
     },
     "execution_count": 55,
     "metadata": {},
     "output_type": "execute_result"
    }
   ],
   "source": [
    "lda.explained_variance_ratio_"
   ]
  },
  {
   "cell_type": "code",
   "execution_count": null,
   "metadata": {},
   "outputs": [],
   "source": []
  },
  {
   "cell_type": "code",
   "execution_count": 62,
   "metadata": {},
   "outputs": [],
   "source": [
    "from sklearn.decomposition import PCA\n",
    "pca = PCA(n_components=2)\n",
    "X_pca = pca.fit_transform(X, y)"
   ]
  },
  {
   "cell_type": "code",
   "execution_count": 63,
   "metadata": {},
   "outputs": [
    {
     "data": {
      "text/plain": [
       "array([0.99686085, 0.00165945])"
      ]
     },
     "execution_count": 63,
     "metadata": {},
     "output_type": "execute_result"
    }
   ],
   "source": [
    "pca.explained_variance_ratio_"
   ]
  },
  {
   "cell_type": "code",
   "execution_count": 64,
   "metadata": {},
   "outputs": [
    {
     "data": {
      "text/plain": [
       "<matplotlib.collections.PathCollection at 0x1b9d344fb00>"
      ]
     },
     "execution_count": 64,
     "metadata": {},
     "output_type": "execute_result"
    },
    {
     "data": {
      "image/png": "[encoded data removed]",
      "text/plain": [
       "<Figure size 432x288 with 1 Axes>"
      ]
     },
     "metadata": {
      "needs_background": "light"
     },
     "output_type": "display_data"
    }
   ],
   "source": [
    "plt.xlabel('PC1')\n",
    "plt.ylabel('PC2')\n",
    "plt.scatter(\n",
    "    X_pca[:,0],\n",
    "    X_pca[:,1],\n",
    "    c=y,\n",
    "    cmap='rainbow',\n",
    "    alpha=0.7,\n",
    "    edgecolors='b'\n",
    ")"
   ]
  },
  {
   "cell_type": "code",
   "execution_count": null,
   "metadata": {},
   "outputs": [],
   "source": []
  },
  {
   "cell_type": "code",
   "execution_count": null,
   "metadata": {},
   "outputs": [],
   "source": []
  }
 ],
 "metadata": {
  "kernelspec": {
   "display_name": "Python 3",
   "language": "python",
   "name": "python3"
  },
  "language_info": {
   "codemirror_mode": {
    "name": "ipython",
    "version": 3
   },
   "file_extension": ".py",
   "mimetype": "text/x-python",
   "name": "python",
   "nbconvert_exporter": "python",
   "pygments_lexer": "ipython3",
   "version": "3.6.8"
  }
 },
 "nbformat": 4,
 "nbformat_minor": 4
}
