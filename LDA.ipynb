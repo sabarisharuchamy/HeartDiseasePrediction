{
 "cells": [
  {
   "cell_type": "code",
   "execution_count": 2,
   "metadata": {},
   "outputs": [],
   "source": [
    "from sklearn.datasets import load_wine\n",
    "import pandas as pd\n",
    "import numpy as np\n",
    "np.set_printoptions(precision=4)\n",
    "from matplotlib import pyplot as plt\n",
    "import seaborn as sns\n",
    "sns.set()\n",
    "from sklearn.preprocessing import LabelEncoder\n",
    "from sklearn.tree import DecisionTreeClassifier\n",
    "from sklearn.model_selection import train_test_split\n",
    "from sklearn.metrics import confusion_matrix"
   ]
  },
  {
   "cell_type": "code",
   "execution_count": 3,
   "metadata": {},
   "outputs": [
    {
     "name": "stdout",
     "output_type": "stream",
     "text": [
      "[0 0 0 0 0 0 0 0 0 0 0 0 0 0 0 0 0 0 0 0 0 0 0 0 0 0 0 0 0 0 0 0 0 0 0 0 0\n",
      " 0 0 0 0 0 0 0 0 0 0 0 0 0 0 0 0 0 0 0 0 0 0 1 1 1 1 1 1 1 1 1 1 1 1 1 1 1\n",
      " 1 1 1 1 1 1 1 1 1 1 1 1 1 1 1 1 1 1 1 1 1 1 1 1 1 1 1 1 1 1 1 1 1 1 1 1 1\n",
      " 1 1 1 1 1 1 1 1 1 1 1 1 1 1 1 1 1 1 1 2 2 2 2 2 2 2 2 2 2 2 2 2 2 2 2 2 2\n",
      " 2 2 2 2 2 2 2 2 2 2 2 2 2 2 2 2 2 2 2 2 2 2 2 2 2 2 2 2 2 2] ['class_0' 'class_1' 'class_2']\n"
     ]
    }
   ],
   "source": [
    "wine = load_wine()\n",
    "X = pd.DataFrame(wine.data, columns=wine.feature_names)\n",
    "y = pd.Categorical.from_codes(wine.target, wine.target_names)\n",
    "print(wine.target,wine.target_names)"
   ]
  },
  {
   "cell_type": "code",
   "execution_count": 4,
   "metadata": {},
   "outputs": [
    {
     "name": "stdout",
     "output_type": "stream",
     "text": [
      "     alcohol  malic_acid   ash  alcalinity_of_ash  magnesium  total_phenols  \\\n",
      "0      14.23        1.71  2.43               15.6      127.0           2.80   \n",
      "1      13.20        1.78  2.14               11.2      100.0           2.65   \n",
      "2      13.16        2.36  2.67               18.6      101.0           2.80   \n",
      "3      14.37        1.95  2.50               16.8      113.0           3.85   \n",
      "4      13.24        2.59  2.87               21.0      118.0           2.80   \n",
      "..       ...         ...   ...                ...        ...            ...   \n",
      "173    13.71        5.65  2.45               20.5       95.0           1.68   \n",
      "174    13.40        3.91  2.48               23.0      102.0           1.80   \n",
      "175    13.27        4.28  2.26               20.0      120.0           1.59   \n",
      "176    13.17        2.59  2.37               20.0      120.0           1.65   \n",
      "177    14.13        4.10  2.74               24.5       96.0           2.05   \n",
      "\n",
      "     flavanoids  nonflavanoid_phenols  proanthocyanins  color_intensity   hue  \\\n",
      "0          3.06                  0.28             2.29             5.64  1.04   \n",
      "1          2.76                  0.26             1.28             4.38  1.05   \n",
      "2          3.24                  0.30             2.81             5.68  1.03   \n",
      "3          3.49                  0.24             2.18             7.80  0.86   \n",
      "4          2.69                  0.39             1.82             4.32  1.04   \n",
      "..          ...                   ...              ...              ...   ...   \n",
      "173        0.61                  0.52             1.06             7.70  0.64   \n",
      "174        0.75                  0.43             1.41             7.30  0.70   \n",
      "175        0.69                  0.43             1.35            10.20  0.59   \n",
      "176        0.68                  0.53             1.46             9.30  0.60   \n",
      "177        0.76                  0.56             1.35             9.20  0.61   \n",
      "\n",
      "     od280/od315_of_diluted_wines  proline  \n",
      "0                            3.92   1065.0  \n",
      "1                            3.40   1050.0  \n",
      "2                            3.17   1185.0  \n",
      "3                            3.45   1480.0  \n",
      "4                            2.93    735.0  \n",
      "..                            ...      ...  \n",
      "173                          1.74    740.0  \n",
      "174                          1.56    750.0  \n",
      "175                          1.56    835.0  \n",
      "176                          1.62    840.0  \n",
      "177                          1.60    560.0  \n",
      "\n",
      "[178 rows x 13 columns]\n"
     ]
    }
   ],
   "source": [
    "print(X)"
   ]
  },
  {
   "cell_type": "code",
   "execution_count": 5,
   "metadata": {},
   "outputs": [
    {
     "name": "stdout",
     "output_type": "stream",
     "text": [
      "(178, 13)\n"
     ]
    }
   ],
   "source": [
    "print(X.shape)"
   ]
  },
  {
   "cell_type": "code",
   "execution_count": 6,
   "metadata": {},
   "outputs": [
    {
     "name": "stdout",
     "output_type": "stream",
     "text": [
      "[class_0, class_0, class_0, class_0, class_0, ..., class_2, class_2, class_2, class_2, class_2]\n",
      "Length: 178\n",
      "Categories (3, object): [class_0, class_1, class_2]\n"
     ]
    }
   ],
   "source": [
    "print(y)"
   ]
  },
  {
   "cell_type": "code",
   "execution_count": 7,
   "metadata": {},
   "outputs": [
    {
     "name": "stdout",
     "output_type": "stream",
     "text": [
      "   alcohol  malic_acid   ash  alcalinity_of_ash  magnesium  total_phenols  \\\n",
      "0    14.23        1.71  2.43               15.6      127.0           2.80   \n",
      "1    13.20        1.78  2.14               11.2      100.0           2.65   \n",
      "2    13.16        2.36  2.67               18.6      101.0           2.80   \n",
      "3    14.37        1.95  2.50               16.8      113.0           3.85   \n",
      "4    13.24        2.59  2.87               21.0      118.0           2.80   \n",
      "\n",
      "   flavanoids  nonflavanoid_phenols  proanthocyanins  color_intensity   hue  \\\n",
      "0        3.06                  0.28             2.29             5.64  1.04   \n",
      "1        2.76                  0.26             1.28             4.38  1.05   \n",
      "2        3.24                  0.30             2.81             5.68  1.03   \n",
      "3        3.49                  0.24             2.18             7.80  0.86   \n",
      "4        2.69                  0.39             1.82             4.32  1.04   \n",
      "\n",
      "   od280/od315_of_diluted_wines  proline  \n",
      "0                          3.92   1065.0  \n",
      "1                          3.40   1050.0  \n",
      "2                          3.17   1185.0  \n",
      "3                          3.45   1480.0  \n",
      "4                          2.93    735.0  \n"
     ]
    }
   ],
   "source": [
    "print(X.head())"
   ]
  },
  {
   "cell_type": "code",
   "execution_count": 8,
   "metadata": {},
   "outputs": [
    {
     "name": "stdout",
     "output_type": "stream",
     "text": [
      "['class_0' 'class_1' 'class_2']\n"
     ]
    }
   ],
   "source": [
    "print(wine.target_names)"
   ]
  },
  {
   "cell_type": "code",
   "execution_count": 9,
   "metadata": {},
   "outputs": [],
   "source": [
    "df = X.join(pd.Series(y, name='class'))"
   ]
  },
  {
   "cell_type": "code",
   "execution_count": 10,
   "metadata": {},
   "outputs": [
    {
     "name": "stdout",
     "output_type": "stream",
     "text": [
      "                                  class_0     class_1     class_2\n",
      "alcohol                         13.744746   12.278732   13.153750\n",
      "malic_acid                       2.010678    1.932676    3.333750\n",
      "ash                              2.455593    2.244789    2.437083\n",
      "alcalinity_of_ash               17.037288   20.238028   21.416667\n",
      "magnesium                      106.338983   94.549296   99.312500\n",
      "total_phenols                    2.840169    2.258873    1.678750\n",
      "flavanoids                       2.982373    2.080845    0.781458\n",
      "nonflavanoid_phenols             0.290000    0.363662    0.447500\n",
      "proanthocyanins                  1.899322    1.630282    1.153542\n",
      "color_intensity                  5.528305    3.086620    7.396250\n",
      "hue                              1.062034    1.056282    0.682708\n",
      "od280/od315_of_diluted_wines     3.157797    2.785352    1.683542\n",
      "proline                       1115.711864  519.507042  629.895833\n"
     ]
    }
   ],
   "source": [
    "class_feature_means = pd.DataFrame(columns=wine.target_names)\n",
    "for c, rows in df.groupby('class'):\n",
    "    class_feature_means[c] = rows.mean()\n",
    "print(class_feature_means)"
   ]
  },
  {
   "cell_type": "code",
   "execution_count": 11,
   "metadata": {},
   "outputs": [],
   "source": [
    "within_class_scatter_matrix = np.zeros((13,13))\n",
    "for c, rows in df.groupby('class'):\n",
    "    rows = rows.drop(['class'], axis=1)\n",
    "    s = np.zeros((13,13))\n",
    "for index, row in rows.iterrows():\n",
    "    x, mc = row.values.reshape(13,1), class_feature_means[c].values.reshape(13,1)\n",
    "    s += (x - mc).dot((x - mc).T)\n",
    "    within_class_scatter_matrix += s"
   ]
  },
  {
   "cell_type": "code",
   "execution_count": 12,
   "metadata": {},
   "outputs": [],
   "source": [
    "feature_means = df.mean()\n",
    "between_class_scatter_matrix = np.zeros((13,13))\n",
    "for c in class_feature_means:    \n",
    "    n = len(df.loc[df['class'] == c].index)\n",
    "    \n",
    "    mc, m = class_feature_means[c].values.reshape(13,1), feature_means.values.reshape(13,1)\n",
    "    \n",
    "    between_class_scatter_matrix += n * (mc - m).dot((mc - m).T)"
   ]
  },
  {
   "cell_type": "code",
   "execution_count": 13,
   "metadata": {},
   "outputs": [],
   "source": [
    "eigen_values, eigen_vectors = np.linalg.eig(np.linalg.inv(within_class_scatter_matrix).dot(between_class_scatter_matrix))"
   ]
  },
  {
   "cell_type": "code",
   "execution_count": 14,
   "metadata": {},
   "outputs": [
    {
     "name": "stdout",
     "output_type": "stream",
     "text": [
      "9.88454644923297\n",
      "2.90336106171605\n",
      "5.355908354716561e-16\n",
      "5.355908354716561e-16\n",
      "4.944368892258121e-16\n",
      "4.944368892258121e-16\n",
      "4.440892098500626e-16\n",
      "2.8692215341080104e-16\n",
      "2.5289874901137575e-16\n",
      "2.5289874901137575e-16\n",
      "2.1585076129099048e-16\n",
      "9.400499686853435e-17\n",
      "3.095274573685493e-17\n"
     ]
    }
   ],
   "source": [
    "pairs = [(np.abs(eigen_values[i]), eigen_vectors[:,i]) for i in range(len(eigen_values))]\n",
    "pairs = sorted(pairs, key=lambda x: x[0], reverse=True)\n",
    "for pair in pairs:\n",
    "    print(pair[0])"
   ]
  },
  {
   "cell_type": "code",
   "execution_count": 15,
   "metadata": {},
   "outputs": [
    {
     "name": "stdout",
     "output_type": "stream",
     "text": [
      "Explained Variance\n",
      "Eigenvector 0: 0.7729604269322257\n",
      "Eigenvector 1: 0.2270395730677743\n",
      "Eigenvector 2: 4.18826015916273e-17\n",
      "Eigenvector 3: 4.18826015916273e-17\n",
      "Eigenvector 4: 3.8664409232118287e-17\n",
      "Eigenvector 5: 3.8664409232118287e-17\n",
      "Eigenvector 6: 3.4727277271112023e-17\n",
      "Eigenvector 7: 2.243699003649643e-17\n",
      "Eigenvector 8: 1.9776398038134353e-17\n",
      "Eigenvector 9: 1.9776398038134353e-17\n",
      "Eigenvector 10: 1.687928702222618e-17\n",
      "Eigenvector 11: 7.351085139460632e-18\n",
      "Eigenvector 12: 2.4204699408682114e-18\n"
     ]
    }
   ],
   "source": [
    "eigen_value_sums = sum(eigen_values)\n",
    "print('Explained Variance')\n",
    "for i, pair in enumerate(pairs):\n",
    "    print('Eigenvector {}: {}'.format(i, (pair[0]/eigen_value_sums).real))"
   ]
  },
  {
   "cell_type": "code",
   "execution_count": 16,
   "metadata": {},
   "outputs": [],
   "source": [
    "w_matrix = np.hstack((pairs[0][1].reshape(13,1), pairs[1][1].reshape(13,1))).real"
   ]
  },
  {
   "cell_type": "code",
   "execution_count": 17,
   "metadata": {},
   "outputs": [],
   "source": [
    "X_lda = np.array(X.dot(w_matrix))"
   ]
  },
  {
   "cell_type": "code",
   "execution_count": 18,
   "metadata": {},
   "outputs": [],
   "source": [
    "le = LabelEncoder()\n",
    "y = le.fit_transform(df['class'])"
   ]
  },
  {
   "cell_type": "code",
   "execution_count": 19,
   "metadata": {},
   "outputs": [
    {
     "data": {
      "text/plain": [
       "<matplotlib.collections.PathCollection at 0x2351cb431d0>"
      ]
     },
     "execution_count": 19,
     "metadata": {},
     "output_type": "execute_result"
    },
    {
     "data": {
      "image/png": "[encoded data removed]",
      "text/plain": [
       "<Figure size 432x288 with 1 Axes>"
      ]
     },
     "metadata": {},
     "output_type": "display_data"
    }
   ],
   "source": [
    "plt.xlabel('LD1')\n",
    "plt.ylabel('LD2')\n",
    "plt.scatter(\n",
    "    X_lda[:,0],\n",
    "    X_lda[:,1],\n",
    "    c=y,\n",
    "    cmap='rainbow',\n",
    "    alpha=0.7,\n",
    "    edgecolors='b'\n",
    ")"
   ]
  },
  {
   "cell_type": "code",
   "execution_count": 20,
   "metadata": {},
   "outputs": [],
   "source": [
    "from sklearn.discriminant_analysis import LinearDiscriminantAnalysis\n",
    "lda = LinearDiscriminantAnalysis()\n",
    "X_lda = lda.fit_transform(X, y)"
   ]
  },
  {
   "cell_type": "code",
   "execution_count": 21,
   "metadata": {},
   "outputs": [
    {
     "data": {
      "text/plain": [
       "array([0.6875, 0.3125])"
      ]
     },
     "execution_count": 21,
     "metadata": {},
     "output_type": "execute_result"
    }
   ],
   "source": [
    "lda.explained_variance_ratio_"
   ]
  },
  {
   "cell_type": "code",
   "execution_count": 22,
   "metadata": {},
   "outputs": [
    {
     "data": {
      "text/plain": [
       "array([[-4.7002,  1.9791],\n",
       "       [-4.302 ,  1.1704],\n",
       "       [-3.4207,  1.4291],\n",
       "       [-4.2058,  4.0029],\n",
       "       [-1.51  ,  0.4512],\n",
       "       [-4.5187,  3.2131],\n",
       "       [-4.5274,  3.2691],\n",
       "       [-4.1483,  3.1041],\n",
       "       [-3.8608,  1.9534],\n",
       "       [-3.3666,  1.6786],\n",
       "       [-4.8059,  2.2354],\n",
       "       [-3.4281,  2.1751],\n",
       "       [-3.6661,  2.2625],\n",
       "       [-5.5882,  2.0548],\n",
       "       [-5.5013,  3.613 ],\n",
       "       [-3.1848,  2.8895],\n",
       "       [-3.2894,  2.7658],\n",
       "       [-2.9981,  1.4251],\n",
       "       [-5.2464,  3.7098],\n",
       "       [-3.1365,  1.9769],\n",
       "       [-3.5775,  0.5625],\n",
       "       [-1.6908,  0.9134],\n",
       "       [-4.8352,  0.9148],\n",
       "       [-3.0959,  0.6174],\n",
       "       [-3.3216,  0.2985],\n",
       "       [-2.1448,  0.1637],\n",
       "       [-3.9824,  2.1752],\n",
       "       [-2.6859,  1.2185],\n",
       "       [-3.5631,  1.0382],\n",
       "       [-3.173 ,  1.3779],\n",
       "       [-2.9963,  1.3242],\n",
       "       [-3.5687,  2.3407],\n",
       "       [-3.3851,  0.2012],\n",
       "       [-3.5275,  1.7159],\n",
       "       [-2.8519,  1.4707],\n",
       "       [-2.7941,  0.2379],\n",
       "       [-2.7581,  1.5697],\n",
       "       [-2.1773,  1.0104],\n",
       "       [-3.0293, -0.2351],\n",
       "       [-3.2711,  2.604 ],\n",
       "       [-2.9207,  0.2552],\n",
       "       [-2.2372,  0.9195],\n",
       "       [-4.6997,  2.5608],\n",
       "       [-1.2304,  0.4226],\n",
       "       [-2.582 , -0.3503],\n",
       "       [-2.5831,  2.8769],\n",
       "       [-3.8889,  2.0516],\n",
       "       [-3.4498,  0.9518],\n",
       "       [-2.3422,  1.4326],\n",
       "       [-3.5206,  2.0816],\n",
       "       [-3.2184,  0.8791],\n",
       "       [-4.3821,  2.1647],\n",
       "       [-4.3631,  2.2718],\n",
       "       [-3.5192,  3.0074],\n",
       "       [-3.1228,  1.5936],\n",
       "       [-1.8024,  1.3301],\n",
       "       [-2.8738,  1.7299],\n",
       "       [-3.6169,  2.2912],\n",
       "       [-3.7387,  2.4601],\n",
       "       [ 1.5862, -2.4238],\n",
       "       [ 0.7997, -1.3941],\n",
       "       [ 2.3802, -1.4519],\n",
       "       [-0.4592, -1.1905],\n",
       "       [-0.5073, -3.1666],\n",
       "       [ 0.394 , -2.7798],\n",
       "       [-0.9226, -1.3887],\n",
       "       [-1.9555, -2.6936],\n",
       "       [-0.3473, -2.5929],\n",
       "       [ 0.2037,  0.0196],\n",
       "       [-0.2483, -2.7562],\n",
       "       [ 1.1799, -0.9003],\n",
       "       [-1.0772, -1.8267],\n",
       "       [ 0.641 , -1.4453],\n",
       "       [-1.7468, -1.7846],\n",
       "       [-0.3472, -1.4881],\n",
       "       [ 1.1427, -3.0892],\n",
       "       [ 0.1867, -2.6732],\n",
       "       [ 0.9005, -1.8194],\n",
       "       [-0.7071, -2.123 ],\n",
       "       [-0.5956, -2.4896],\n",
       "       [-0.5576, -4.653 ],\n",
       "       [-1.8043, -1.4871],\n",
       "       [ 0.2308, -2.8429],\n",
       "       [ 2.0348, -0.7903],\n",
       "       [-0.6211, -1.6969],\n",
       "       [-1.0337, -2.4414],\n",
       "       [ 0.766 , -3.4464],\n",
       "       [ 0.3504, -3.2294],\n",
       "       [ 0.1532, -2.1129],\n",
       "       [-0.1496, -2.9919],\n",
       "       [ 0.4808, -2.54  ],\n",
       "       [ 1.3969, -2.5408],\n",
       "       [ 0.9197, -2.2486],\n",
       "       [-0.591 , -2.9385],\n",
       "       [ 0.4941, -2.9363],\n",
       "       [-1.6261, -2.0205],\n",
       "       [ 2.0004, -0.6345],\n",
       "       [-1.0053, -3.3311],\n",
       "       [-2.0712, -2.7145],\n",
       "       [-1.6382, -3.8774],\n",
       "       [-1.0589, -2.9999],\n",
       "       [ 0.0259, -2.3541],\n",
       "       [-0.2189, -1.6429],\n",
       "       [ 1.3644, -3.8175],\n",
       "       [-1.129 , -2.3269],\n",
       "       [-0.2126, -2.9968],\n",
       "       [-0.7795, -2.4728],\n",
       "       [ 0.6155, -2.1782],\n",
       "       [ 0.2255, -3.7973],\n",
       "       [-2.0387, -2.1853],\n",
       "       [ 0.7927, -3.6616],\n",
       "       [ 0.3023, -2.7953],\n",
       "       [-0.5066, -1.0953],\n",
       "       [ 0.9984, -3.446 ],\n",
       "       [-0.2195, -2.7976],\n",
       "       [-0.3713, -6.0056],\n",
       "       [ 0.0555, -3.4785],\n",
       "       [-0.0914, -3.6198],\n",
       "       [ 1.7976, -0.8501],\n",
       "       [-0.1741, -2.6322],\n",
       "       [-1.1787, -2.2052],\n",
       "       [-3.2105, -2.9053],\n",
       "       [ 0.6261, -1.9957],\n",
       "       [ 0.0337, -1.3844],\n",
       "       [-0.6993, -2.4594],\n",
       "       [-0.7206, -3.2467],\n",
       "       [-0.5193, -2.8697],\n",
       "       [ 1.1703, -3.3195],\n",
       "       [ 0.1082, -3.7988],\n",
       "       [ 1.1232, -1.2878],\n",
       "       [ 2.2463,  0.1873],\n",
       "       [ 3.2853,  0.6961],\n",
       "       [ 4.0724,  0.1443],\n",
       "       [ 3.8669,  0.535 ],\n",
       "       [ 3.4509, -0.2173],\n",
       "       [ 3.7158,  0.5651],\n",
       "       [ 3.9222,  0.8935],\n",
       "       [ 4.8516,  0.3141],\n",
       "       [ 3.5499,  0.916 ],\n",
       "       [ 3.7689,  0.2255],\n",
       "       [ 2.6694,  1.1411],\n",
       "       [ 2.3249,  1.9485],\n",
       "       [ 3.1771,  1.0599],\n",
       "       [ 2.8896,  1.1571],\n",
       "       [ 3.7833,  2.0074],\n",
       "       [ 3.0441,  0.9812],\n",
       "       [ 4.707 ,  1.8178],\n",
       "       [ 4.8502,  2.2082],\n",
       "       [ 4.9836,  2.035 ],\n",
       "       [ 4.8697,  1.8083],\n",
       "       [ 4.5987,  1.8722],\n",
       "       [ 5.6745,  1.8258],\n",
       "       [ 5.3299,  0.5822],\n",
       "       [ 5.034 ,  2.2773],\n",
       "       [ 4.5208, -0.0067],\n",
       "       [ 5.0978,  2.0016],\n",
       "       [ 5.0437,  2.5119],\n",
       "       [ 4.8698,  1.0916],\n",
       "       [ 5.6132,  2.9844],\n",
       "       [ 5.6705,  2.2731],\n",
       "       [ 5.3741,  0.7625],\n",
       "       [ 3.0998,  1.9411],\n",
       "       [ 3.3589,  0.5487],\n",
       "       [ 3.0401,  1.457 ],\n",
       "       [ 4.9486,  2.1899],\n",
       "       [ 4.545 ,  1.2199],\n",
       "       [ 5.2726,  2.7162],\n",
       "       [ 5.1302,  2.2917],\n",
       "       [ 4.3047,  2.3911],\n",
       "       [ 5.0834,  3.1577],\n",
       "       [ 4.0674,  0.3189],\n",
       "       [ 5.7421,  1.4671],\n",
       "       [ 4.4821,  3.3071],\n",
       "       [ 4.2915,  3.3903],\n",
       "       [ 4.5033,  2.0835],\n",
       "       [ 5.0475,  3.1962],\n",
       "       [ 4.2762,  2.4314],\n",
       "       [ 5.5381,  3.0421]])"
      ]
     },
     "execution_count": 22,
     "metadata": {},
     "output_type": "execute_result"
    }
   ],
   "source": [
    "X_lda"
   ]
  },
  {
   "cell_type": "code",
   "execution_count": 23,
   "metadata": {},
   "outputs": [
    {
     "data": {
      "text/plain": [
       "<matplotlib.collections.PathCollection at 0x2351edbc208>"
      ]
     },
     "execution_count": 23,
     "metadata": {},
     "output_type": "execute_result"
    },
    {
     "data": {
      "image/png": "[encoded data removed]",
      "text/plain": [
       "<Figure size 432x288 with 1 Axes>"
      ]
     },
     "metadata": {},
     "output_type": "display_data"
    }
   ],
   "source": [
    "plt.xlabel('LD1')\n",
    "plt.ylabel('LD2')\n",
    "plt.scatter(\n",
    "    X_lda[:,0],\n",
    "    X_lda[:,1],\n",
    "    c=y,\n",
    "    cmap='rainbow',\n",
    "    alpha=0.7,\n",
    "    edgecolors='b'\n",
    ")"
   ]
  },
  {
   "cell_type": "code",
   "execution_count": 24,
   "metadata": {},
   "outputs": [],
   "source": [
    "from sklearn.decomposition import PCA\n",
    "pca = PCA(n_components=2)\n",
    "X_pca = pca.fit_transform(X, y)"
   ]
  },
  {
   "cell_type": "code",
   "execution_count": 25,
   "metadata": {},
   "outputs": [
    {
     "data": {
      "text/plain": [
       "array([0.9981, 0.0017])"
      ]
     },
     "execution_count": 25,
     "metadata": {},
     "output_type": "execute_result"
    }
   ],
   "source": [
    "pca.explained_variance_ratio_"
   ]
  },
  {
   "cell_type": "code",
   "execution_count": 26,
   "metadata": {},
   "outputs": [
    {
     "data": {
      "text/plain": [
       "<matplotlib.collections.PathCollection at 0x2351ee48860>"
      ]
     },
     "execution_count": 26,
     "metadata": {},
     "output_type": "execute_result"
    },
    {
     "data": {
      "image/png": "[encoded data removed]",
      "text/plain": [
       "<Figure size 432x288 with 1 Axes>"
      ]
     },
     "metadata": {},
     "output_type": "display_data"
    }
   ],
   "source": [
    "plt.xlabel('PC1')\n",
    "plt.ylabel('PC2')\n",
    "plt.scatter(\n",
    "    X_pca[:,0],\n",
    "    X_pca[:,1],\n",
    "    c=y,\n",
    "    cmap='rainbow',\n",
    "    alpha=0.7,\n",
    "    edgecolors='b'\n",
    ")"
   ]
  },
  {
   "cell_type": "code",
   "execution_count": 27,
   "metadata": {},
   "outputs": [],
   "source": [
    "X_train, X_test, y_train, y_test = train_test_split(X_lda, y, random_state=1)"
   ]
  },
  {
   "cell_type": "code",
   "execution_count": 28,
   "metadata": {},
   "outputs": [
    {
     "data": {
      "text/plain": [
       "array([[18,  0,  0],\n",
       "       [ 0, 17,  0],\n",
       "       [ 0,  0, 10]], dtype=int64)"
      ]
     },
     "execution_count": 28,
     "metadata": {},
     "output_type": "execute_result"
    }
   ],
   "source": [
    "dt = DecisionTreeClassifier()\n",
    "dt.fit(X_train, y_train)\n",
    "y_pred = dt.predict(X_test)\n",
    "confusion_matrix(y_test, y_pred)"
   ]
  },
  {
   "cell_type": "code",
   "execution_count": null,
   "metadata": {},
   "outputs": [],
   "source": []
  }
 ],
 "metadata": {
  "kernelspec": {
   "display_name": "Python 3",
   "language": "python",
   "name": "python3"
  },
  "language_info": {
   "codemirror_mode": {
    "name": "ipython",
    "version": 3
   },
   "file_extension": ".py",
   "mimetype": "text/x-python",
   "name": "python",
   "nbconvert_exporter": "python",
   "pygments_lexer": "ipython3",
   "version": "3.6.8"
  }
 },
 "nbformat": 4,
 "nbformat_minor": 4
}
