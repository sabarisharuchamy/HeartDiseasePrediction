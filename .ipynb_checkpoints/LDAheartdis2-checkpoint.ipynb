{
 "cells": [
  {
   "cell_type": "code",
   "execution_count": 1,
   "metadata": {},
   "outputs": [
    {
     "name": "stdout",
     "output_type": "stream",
     "text": [
      "     Age  Weight  Length    Sex        BMI  DM  HTN  Current_Smoker  \\\n",
      "0     53      90     175   Male  29.387755   0    1               1   \n",
      "1     67      70     157  Fmale  28.398718   0    1               0   \n",
      "2     54      54     164   Male  20.077335   0    0               1   \n",
      "3     66      67     158  Fmale  26.838648   0    1               0   \n",
      "4     50      87     153  Fmale  37.165193   0    1               0   \n",
      "..   ...     ...     ...    ...        ...  ..  ...             ...   \n",
      "298   58      84     168   Male  29.761905   0    0               0   \n",
      "299   55      64     152  Fmale  27.700831   0    0               0   \n",
      "300   48      77     160  Fmale  30.078125   0    1               0   \n",
      "301   57      90     159  Fmale  35.599858   1    0               0   \n",
      "302   56      85     170  Fmale  29.411765   0    1               1   \n",
      "\n",
      "     EX-Smoker  FH  ... Lymph Neut  PLT EF-TTE Region_RWMA     VHD       LAD  \\\n",
      "0            0   0  ...    39   52  261     50           0       N  Stenotic   \n",
      "1            0   0  ...    38   55  165     40           4       N  Stenotic   \n",
      "2            0   0  ...    38   60  230     40           2    mild  Stenotic   \n",
      "3            0   0  ...    18   72  742     55           0  Severe    Normal   \n",
      "4            0   0  ...    55   39  274     50           0  Severe    Normal   \n",
      "..         ...  ..  ...   ...  ...  ...    ...         ...     ...       ...   \n",
      "298          0   0  ...    34   58  251     45           0       N  Stenotic   \n",
      "299          0   0  ...    16   80  377     40           0    mild    Normal   \n",
      "300          0   1  ...    35   55  279     55           0       N    Normal   \n",
      "301          0   0  ...    48   40  208     55           0       N    Normal   \n",
      "302          0   0  ...    32   55  302     55           0       N  Stenotic   \n",
      "\n",
      "          LCX       RCA    Cath  \n",
      "0      Normal  Stenotic     CAD  \n",
      "1    Stenotic    Normal     CAD  \n",
      "2      Normal    Normal     CAD  \n",
      "3      Normal    Normal  Normal  \n",
      "4      Normal    Normal  Normal  \n",
      "..        ...       ...     ...  \n",
      "298  Stenotic  Stenotic     CAD  \n",
      "299    Normal    Normal  Normal  \n",
      "300    Normal    Normal  Normal  \n",
      "301    Normal    Normal  Normal  \n",
      "302    Normal    Normal     CAD  \n",
      "\n",
      "[303 rows x 59 columns]\n"
     ]
    }
   ],
   "source": [
    "import pandas as pd\n",
    "\n",
    "df = pd.read_excel ('extention_of_Z_Alizadeh_sani_dataset.xls')\n",
    "print(df)"
   ]
  },
  {
   "cell_type": "code",
   "execution_count": 2,
   "metadata": {},
   "outputs": [
    {
     "name": "stdout",
     "output_type": "stream",
     "text": [
      "<class 'pandas.core.frame.DataFrame'>\n",
      "RangeIndex: 303 entries, 0 to 302\n",
      "Data columns (total 59 columns):\n",
      " #   Column                 Non-Null Count  Dtype  \n",
      "---  ------                 --------------  -----  \n",
      " 0   Age                    303 non-null    int64  \n",
      " 1   Weight                 303 non-null    int64  \n",
      " 2   Length                 303 non-null    int64  \n",
      " 3   Sex                    303 non-null    object \n",
      " 4   BMI                    303 non-null    float64\n",
      " 5   DM                     303 non-null    int64  \n",
      " 6   HTN                    303 non-null    int64  \n",
      " 7   Current_Smoker         303 non-null    int64  \n",
      " 8   EX-Smoker              303 non-null    int64  \n",
      " 9   FH                     303 non-null    int64  \n",
      " 10  Obesity                303 non-null    object \n",
      " 11  CRF                    303 non-null    object \n",
      " 12  CVA                    303 non-null    object \n",
      " 13  Airway_disease         303 non-null    object \n",
      " 14  Thyroid_Disease        303 non-null    object \n",
      " 15  CHF                    303 non-null    object \n",
      " 16  DLP                    303 non-null    object \n",
      " 17  BP                     303 non-null    int64  \n",
      " 18  PR                     303 non-null    int64  \n",
      " 19  Edema                  303 non-null    int64  \n",
      " 20  Weak_Peripheral_Pulse  303 non-null    object \n",
      " 21  Lung_rales             303 non-null    object \n",
      " 22  Systolic_Murmur        303 non-null    object \n",
      " 23  Diastolic_Murmur       303 non-null    object \n",
      " 24  Typical_Chest_Pain     303 non-null    int64  \n",
      " 25  Dyspnea                303 non-null    object \n",
      " 26  Function_Class         303 non-null    int64  \n",
      " 27  Atypical               303 non-null    object \n",
      " 28  Nonanginal             303 non-null    object \n",
      " 29  Exertional_CP          303 non-null    object \n",
      " 30  LowTH_Ang              303 non-null    object \n",
      " 31  Q_Wave                 303 non-null    int64  \n",
      " 32  St_Elevation           303 non-null    int64  \n",
      " 33  St_Depression          303 non-null    int64  \n",
      " 34  Tinversion             303 non-null    int64  \n",
      " 35  LVH                    303 non-null    object \n",
      " 36  Poor_R_Progression     303 non-null    object \n",
      " 37  BBB                    303 non-null    object \n",
      " 38  FBS                    303 non-null    int64  \n",
      " 39  CR                     303 non-null    float64\n",
      " 40  TG                     303 non-null    int64  \n",
      " 41  LDL                    303 non-null    int64  \n",
      " 42  HDL                    303 non-null    float64\n",
      " 43  BUN                    303 non-null    int64  \n",
      " 44  ESR                    303 non-null    int64  \n",
      " 45  HB                     303 non-null    float64\n",
      " 46  K                      303 non-null    float64\n",
      " 47  Na                     303 non-null    int64  \n",
      " 48  WBC                    303 non-null    int64  \n",
      " 49  Lymph                  303 non-null    int64  \n",
      " 50  Neut                   303 non-null    int64  \n",
      " 51  PLT                    303 non-null    int64  \n",
      " 52  EF-TTE                 303 non-null    int64  \n",
      " 53  Region_RWMA            303 non-null    int64  \n",
      " 54  VHD                    303 non-null    object \n",
      " 55  LAD                    303 non-null    object \n",
      " 56  LCX                    303 non-null    object \n",
      " 57  RCA                    303 non-null    object \n",
      " 58  Cath                   303 non-null    object \n",
      "dtypes: float64(5), int64(29), object(25)\n",
      "memory usage: 139.8+ KB\n",
      "None\n"
     ]
    }
   ],
   "source": [
    "print(df.info())"
   ]
  },
  {
   "cell_type": "code",
   "execution_count": 3,
   "metadata": {},
   "outputs": [
    {
     "name": "stdout",
     "output_type": "stream",
     "text": [
      "<class 'pandas.core.frame.DataFrame'>\n",
      "RangeIndex: 303 entries, 0 to 302\n",
      "Data columns (total 25 columns):\n",
      " #   Column                 Non-Null Count  Dtype \n",
      "---  ------                 --------------  ----- \n",
      " 0   Sex                    303 non-null    object\n",
      " 1   Obesity                303 non-null    object\n",
      " 2   CRF                    303 non-null    object\n",
      " 3   CVA                    303 non-null    object\n",
      " 4   Airway_disease         303 non-null    object\n",
      " 5   Thyroid_Disease        303 non-null    object\n",
      " 6   CHF                    303 non-null    object\n",
      " 7   DLP                    303 non-null    object\n",
      " 8   Weak_Peripheral_Pulse  303 non-null    object\n",
      " 9   Lung_rales             303 non-null    object\n",
      " 10  Systolic_Murmur        303 non-null    object\n",
      " 11  Diastolic_Murmur       303 non-null    object\n",
      " 12  Dyspnea                303 non-null    object\n",
      " 13  Atypical               303 non-null    object\n",
      " 14  Nonanginal             303 non-null    object\n",
      " 15  Exertional_CP          303 non-null    object\n",
      " 16  LowTH_Ang              303 non-null    object\n",
      " 17  LVH                    303 non-null    object\n",
      " 18  Poor_R_Progression     303 non-null    object\n",
      " 19  BBB                    303 non-null    object\n",
      " 20  VHD                    303 non-null    object\n",
      " 21  LAD                    303 non-null    object\n",
      " 22  LCX                    303 non-null    object\n",
      " 23  RCA                    303 non-null    object\n",
      " 24  Cath                   303 non-null    object\n",
      "dtypes: object(25)\n",
      "memory usage: 59.3+ KB\n",
      "None\n"
     ]
    }
   ],
   "source": [
    "heartdtinfo=df.select_dtypes(include=['object'], exclude=['int64','float64'])\n",
    "print(heartdtinfo.info())"
   ]
  },
  {
   "cell_type": "code",
   "execution_count": 4,
   "metadata": {},
   "outputs": [
    {
     "name": "stdout",
     "output_type": "stream",
     "text": [
      "              Age      Weight      Length         BMI          DM         HTN  \\\n",
      "count  303.000000  303.000000  303.000000  303.000000  303.000000  303.000000   \n",
      "mean    58.897690   73.831683  164.716172   27.248339    0.297030    0.590759   \n",
      "std     10.392278   11.987358    9.327661    4.098865    0.457706    0.492507   \n",
      "min     30.000000   48.000000  140.000000   18.115413    0.000000    0.000000   \n",
      "25%     51.000000   65.000000  158.000000   24.514380    0.000000    0.000000   \n",
      "50%     58.000000   74.000000  165.000000   26.775510    0.000000    1.000000   \n",
      "75%     66.000000   81.000000  171.000000   29.411765    1.000000    1.000000   \n",
      "max     86.000000  120.000000  188.000000   40.900658    1.000000    1.000000   \n",
      "\n",
      "       Current_Smoker   EX-Smoker          FH          BP  ...         ESR  \\\n",
      "count      303.000000  303.000000  303.000000  303.000000  ...  303.000000   \n",
      "mean         0.207921    0.033003    0.158416  129.554455  ...   19.462046   \n",
      "std          0.406491    0.178941    0.365734   18.938105  ...   15.936475   \n",
      "min          0.000000    0.000000    0.000000   90.000000  ...    1.000000   \n",
      "25%          0.000000    0.000000    0.000000  120.000000  ...    9.000000   \n",
      "50%          0.000000    0.000000    0.000000  130.000000  ...   15.000000   \n",
      "75%          0.000000    0.000000    0.000000  140.000000  ...   26.000000   \n",
      "max          1.000000    1.000000    1.000000  190.000000  ...   90.000000   \n",
      "\n",
      "               HB           K          Na           WBC       Lymph  \\\n",
      "count  303.000000  303.000000  303.000000    303.000000  303.000000   \n",
      "mean    13.153465    4.230693  140.996700   7562.046205   32.399340   \n",
      "std      1.610452    0.458202    3.807885   2413.739323    9.972592   \n",
      "min      8.900000    3.000000  128.000000   3700.000000    7.000000   \n",
      "25%     12.200000    3.900000  139.000000   5800.000000   26.000000   \n",
      "50%     13.200000    4.200000  141.000000   7100.000000   32.000000   \n",
      "75%     14.200000    4.500000  143.000000   8800.000000   39.000000   \n",
      "max     17.600000    6.600000  156.000000  18000.000000   60.000000   \n",
      "\n",
      "             Neut         PLT      EF-TTE  Region_RWMA  \n",
      "count  303.000000  303.000000  303.000000   303.000000  \n",
      "mean    60.148515  221.488449   47.231023     0.620462  \n",
      "std     10.182493   60.796199    8.927194     1.132531  \n",
      "min     32.000000   25.000000   15.000000     0.000000  \n",
      "25%     52.500000  183.500000   45.000000     0.000000  \n",
      "50%     60.000000  210.000000   50.000000     0.000000  \n",
      "75%     67.000000  250.000000   55.000000     1.000000  \n",
      "max     89.000000  742.000000   60.000000     4.000000  \n",
      "\n",
      "[8 rows x 34 columns]\n"
     ]
    }
   ],
   "source": [
    "print(df.describe())"
   ]
  },
  {
   "cell_type": "code",
   "execution_count": 5,
   "metadata": {},
   "outputs": [
    {
     "name": "stdout",
     "output_type": "stream",
     "text": [
      "Age                      0\n",
      "Weight                   0\n",
      "Length                   0\n",
      "Sex                      0\n",
      "BMI                      0\n",
      "DM                       0\n",
      "HTN                      0\n",
      "Current_Smoker           0\n",
      "EX-Smoker                0\n",
      "FH                       0\n",
      "Obesity                  0\n",
      "CRF                      0\n",
      "CVA                      0\n",
      "Airway_disease           0\n",
      "Thyroid_Disease          0\n",
      "CHF                      0\n",
      "DLP                      0\n",
      "BP                       0\n",
      "PR                       0\n",
      "Edema                    0\n",
      "Weak_Peripheral_Pulse    0\n",
      "Lung_rales               0\n",
      "Systolic_Murmur          0\n",
      "Diastolic_Murmur         0\n",
      "Typical_Chest_Pain       0\n",
      "Dyspnea                  0\n",
      "Function_Class           0\n",
      "Atypical                 0\n",
      "Nonanginal               0\n",
      "Exertional_CP            0\n",
      "LowTH_Ang                0\n",
      "Q_Wave                   0\n",
      "St_Elevation             0\n",
      "St_Depression            0\n",
      "Tinversion               0\n",
      "LVH                      0\n",
      "Poor_R_Progression       0\n",
      "BBB                      0\n",
      "FBS                      0\n",
      "CR                       0\n",
      "TG                       0\n",
      "LDL                      0\n",
      "HDL                      0\n",
      "BUN                      0\n",
      "ESR                      0\n",
      "HB                       0\n",
      "K                        0\n",
      "Na                       0\n",
      "WBC                      0\n",
      "Lymph                    0\n",
      "Neut                     0\n",
      "PLT                      0\n",
      "EF-TTE                   0\n",
      "Region_RWMA              0\n",
      "VHD                      0\n",
      "LAD                      0\n",
      "LCX                      0\n",
      "RCA                      0\n",
      "Cath                     0\n",
      "dtype: int64\n"
     ]
    }
   ],
   "source": [
    "print(df.isnull().sum())"
   ]
  },
  {
   "cell_type": "code",
   "execution_count": 6,
   "metadata": {},
   "outputs": [
    {
     "name": "stdout",
     "output_type": "stream",
     "text": [
      "Sex 2 ['Male' 'Fmale']\n",
      "Obesity 2 ['Y' 'N']\n",
      "CRF 2 ['N' 'Y']\n",
      "CVA 2 ['N' 'Y']\n",
      "Airway_disease 2 ['N' 'Y']\n",
      "Thyroid_Disease 2 ['N' 'Y']\n",
      "CHF 2 ['N' 'Y']\n",
      "DLP 2 ['Y' 'N']\n",
      "Weak_Peripheral_Pulse 2 ['N' 'Y']\n",
      "Lung_rales 2 ['N' 'Y']\n",
      "Systolic_Murmur 2 ['N' 'Y']\n",
      "Diastolic_Murmur 2 ['N' 'Y']\n",
      "Dyspnea 2 ['N' 'Y']\n",
      "Atypical 2 ['N' 'Y']\n",
      "Nonanginal 2 ['N' 'Y']\n",
      "Exertional_CP 1 ['N']\n",
      "LowTH_Ang 2 ['N' 'Y']\n",
      "LVH 2 ['N' 'Y']\n",
      "Poor_R_Progression 2 ['N' 'Y']\n",
      "BBB 3 ['N' 'LBBB' 'RBBB']\n",
      "VHD 4 ['N' 'mild' 'Severe' 'Moderate']\n",
      "LAD 2 ['Stenotic' 'Normal']\n",
      "LCX 2 ['Normal' 'Stenotic']\n",
      "RCA 2 ['Stenotic' 'Normal']\n",
      "Cath 2 ['CAD' 'Normal']\n"
     ]
    }
   ],
   "source": [
    "for x in heartdtinfo.columns:\n",
    "    print(x,len(heartdtinfo[x].unique().tolist()),heartdtinfo[x].unique())"
   ]
  },
  {
   "cell_type": "code",
   "execution_count": 7,
   "metadata": {},
   "outputs": [],
   "source": [
    "Cath_dict={'CAD':0,'Normal':1}\n",
    "df['Cath']=df.Cath.map(Cath_dict)"
   ]
  },
  {
   "cell_type": "code",
   "execution_count": 8,
   "metadata": {},
   "outputs": [
    {
     "name": "stdout",
     "output_type": "stream",
     "text": [
      "0      0\n",
      "1      0\n",
      "2      0\n",
      "3      1\n",
      "4      1\n",
      "      ..\n",
      "298    0\n",
      "299    1\n",
      "300    1\n",
      "301    1\n",
      "302    0\n",
      "Name: Cath, Length: 303, dtype: int64\n"
     ]
    }
   ],
   "source": [
    "print(df['Cath'])"
   ]
  },
  {
   "cell_type": "code",
   "execution_count": 9,
   "metadata": {},
   "outputs": [
    {
     "name": "stdout",
     "output_type": "stream",
     "text": [
      "Sex\n",
      "Fmale    0.322835\n",
      "Male     0.261364\n",
      "Name: Cath, dtype: float64\n",
      "0      0.261364\n",
      "1      0.322835\n",
      "2      0.261364\n",
      "3      0.322835\n",
      "4      0.322835\n",
      "         ...   \n",
      "298    0.261364\n",
      "299    0.322835\n",
      "300    0.322835\n",
      "301    0.322835\n",
      "302    0.322835\n",
      "Name: Sex_mean_encode, Length: 303, dtype: float64\n"
     ]
    }
   ],
   "source": [
    "mean_encode = df.groupby('Sex')['Cath'].mean()\n",
    "print(mean_encode)\n",
    "df.loc[:,'Sex_mean_encode']=df['Sex'].map(mean_encode)\n",
    "print(df['Sex_mean_encode'])"
   ]
  },
  {
   "cell_type": "code",
   "execution_count": 10,
   "metadata": {},
   "outputs": [
    {
     "name": "stdout",
     "output_type": "stream",
     "text": [
      "Obesity\n",
      "N    0.271739\n",
      "Y    0.293839\n",
      "Name: Cath, dtype: float64\n",
      "0      0.293839\n",
      "1      0.293839\n",
      "2      0.271739\n",
      "3      0.293839\n",
      "4      0.293839\n",
      "         ...   \n",
      "298    0.293839\n",
      "299    0.293839\n",
      "300    0.293839\n",
      "301    0.293839\n",
      "302    0.293839\n",
      "Name: Obesity_mean_encode, Length: 303, dtype: float64\n"
     ]
    }
   ],
   "source": [
    "mean_encode = df.groupby('Obesity')['Cath'].mean()\n",
    "print(mean_encode)\n",
    "df.loc[:,'Obesity_mean_encode']=df['Obesity'].map(mean_encode)\n",
    "print(df['Obesity_mean_encode'])"
   ]
  },
  {
   "cell_type": "code",
   "execution_count": 11,
   "metadata": {},
   "outputs": [
    {
     "name": "stdout",
     "output_type": "stream",
     "text": [
      "CRF\n",
      "N    0.292929\n",
      "Y    0.000000\n",
      "Name: Cath, dtype: float64\n",
      "0      0.292929\n",
      "1      0.292929\n",
      "2      0.292929\n",
      "3      0.292929\n",
      "4      0.292929\n",
      "         ...   \n",
      "298    0.292929\n",
      "299    0.292929\n",
      "300    0.292929\n",
      "301    0.292929\n",
      "302    0.292929\n",
      "Name: CRF_mean_encode, Length: 303, dtype: float64\n"
     ]
    }
   ],
   "source": [
    "mean_encode = df.groupby('CRF')['Cath'].mean()\n",
    "print(mean_encode)\n",
    "df.loc[:,'CRF_mean_encode']=df['CRF'].map(mean_encode)\n",
    "print(df['CRF_mean_encode'])"
   ]
  },
  {
   "cell_type": "code",
   "execution_count": 12,
   "metadata": {},
   "outputs": [
    {
     "name": "stdout",
     "output_type": "stream",
     "text": [
      "CVA\n",
      "N    0.288591\n",
      "Y    0.200000\n",
      "Name: Cath, dtype: float64\n",
      "0      0.288591\n",
      "1      0.288591\n",
      "2      0.288591\n",
      "3      0.288591\n",
      "4      0.288591\n",
      "         ...   \n",
      "298    0.288591\n",
      "299    0.288591\n",
      "300    0.288591\n",
      "301    0.288591\n",
      "302    0.288591\n",
      "Name: CVA_mean_encode, Length: 303, dtype: float64\n"
     ]
    }
   ],
   "source": [
    "mean_encode = df.groupby('CVA')['Cath'].mean()\n",
    "print(mean_encode)\n",
    "df.loc[:,'CVA_mean_encode']=df['CVA'].map(mean_encode)\n",
    "print(df['CVA_mean_encode'])"
   ]
  },
  {
   "cell_type": "code",
   "execution_count": 13,
   "metadata": {},
   "outputs": [
    {
     "name": "stdout",
     "output_type": "stream",
     "text": [
      "Airway_disease\n",
      "N    0.294521\n",
      "Y    0.090909\n",
      "Name: Cath, dtype: float64\n",
      "0      0.294521\n",
      "1      0.294521\n",
      "2      0.294521\n",
      "3      0.294521\n",
      "4      0.294521\n",
      "         ...   \n",
      "298    0.294521\n",
      "299    0.294521\n",
      "300    0.294521\n",
      "301    0.294521\n",
      "302    0.294521\n",
      "Name: Airway_disease_mean_encode, Length: 303, dtype: float64\n"
     ]
    }
   ],
   "source": [
    "mean_encode = df.groupby('Airway_disease')['Cath'].mean()\n",
    "print(mean_encode)\n",
    "df.loc[:,'Airway_disease_mean_encode']=df['Airway_disease'].map(mean_encode)\n",
    "print(df['Airway_disease_mean_encode'])"
   ]
  },
  {
   "cell_type": "code",
   "execution_count": 14,
   "metadata": {},
   "outputs": [
    {
     "name": "stdout",
     "output_type": "stream",
     "text": [
      "Thyroid_Disease\n",
      "N    0.283784\n",
      "Y    0.428571\n",
      "Name: Cath, dtype: float64\n",
      "0      0.283784\n",
      "1      0.283784\n",
      "2      0.283784\n",
      "3      0.283784\n",
      "4      0.283784\n",
      "         ...   \n",
      "298    0.283784\n",
      "299    0.283784\n",
      "300    0.283784\n",
      "301    0.283784\n",
      "302    0.283784\n",
      "Name: Thyroid_Disease_mean_encode, Length: 303, dtype: float64\n"
     ]
    }
   ],
   "source": [
    "mean_encode = df.groupby('Thyroid_Disease')['Cath'].mean()\n",
    "print(mean_encode)\n",
    "df.loc[:,'Thyroid_Disease_mean_encode']=df['Thyroid_Disease'].map(mean_encode)\n",
    "print(df['Thyroid_Disease_mean_encode'])"
   ]
  },
  {
   "cell_type": "code",
   "execution_count": 15,
   "metadata": {},
   "outputs": [
    {
     "name": "stdout",
     "output_type": "stream",
     "text": [
      "CHF\n",
      "N    0.288079\n",
      "Y    0.000000\n",
      "Name: Cath, dtype: float64\n",
      "0      0.288079\n",
      "1      0.288079\n",
      "2      0.288079\n",
      "3      0.288079\n",
      "4      0.288079\n",
      "         ...   \n",
      "298    0.288079\n",
      "299    0.288079\n",
      "300    0.288079\n",
      "301    0.288079\n",
      "302    0.288079\n",
      "Name: CHF_mean_encode, Length: 303, dtype: float64\n"
     ]
    }
   ],
   "source": [
    "mean_encode = df.groupby('CHF')['Cath'].mean()\n",
    "print(mean_encode)\n",
    "df.loc[:,'CHF_mean_encode']=df['CHF'].map(mean_encode)\n",
    "print(df['CHF_mean_encode'])"
   ]
  },
  {
   "cell_type": "code",
   "execution_count": 16,
   "metadata": {},
   "outputs": [
    {
     "name": "stdout",
     "output_type": "stream",
     "text": [
      "DLP\n",
      "N    0.282723\n",
      "Y    0.294643\n",
      "Name: Cath, dtype: float64\n",
      "0      0.294643\n",
      "1      0.282723\n",
      "2      0.282723\n",
      "3      0.282723\n",
      "4      0.282723\n",
      "         ...   \n",
      "298    0.282723\n",
      "299    0.282723\n",
      "300    0.282723\n",
      "301    0.282723\n",
      "302    0.282723\n",
      "Name: DLP_mean_encode, Length: 303, dtype: float64\n"
     ]
    }
   ],
   "source": [
    "mean_encode = df.groupby('DLP')['Cath'].mean()\n",
    "print(mean_encode)\n",
    "df.loc[:,'DLP_mean_encode']=df['DLP'].map(mean_encode)\n",
    "print(df['DLP_mean_encode'])"
   ]
  },
  {
   "cell_type": "code",
   "execution_count": 17,
   "metadata": {},
   "outputs": [
    {
     "name": "stdout",
     "output_type": "stream",
     "text": [
      "Weak_Peripheral_Pulse\n",
      "N    0.291946\n",
      "Y    0.000000\n",
      "Name: Cath, dtype: float64\n",
      "0      0.291946\n",
      "1      0.291946\n",
      "2      0.291946\n",
      "3      0.291946\n",
      "4      0.291946\n",
      "         ...   \n",
      "298    0.291946\n",
      "299    0.291946\n",
      "300    0.291946\n",
      "301    0.291946\n",
      "302    0.291946\n",
      "Name: Weak_Peripheral_Pulse_mean_encode, Length: 303, dtype: float64\n"
     ]
    }
   ],
   "source": [
    "mean_encode = df.groupby('Weak_Peripheral_Pulse')['Cath'].mean()\n",
    "print(mean_encode)\n",
    "df.loc[:,'Weak_Peripheral_Pulse_mean_encode']=df['Weak_Peripheral_Pulse'].map(mean_encode)\n",
    "print(df['Weak_Peripheral_Pulse_mean_encode'])"
   ]
  },
  {
   "cell_type": "code",
   "execution_count": 18,
   "metadata": {},
   "outputs": [
    {
     "name": "stdout",
     "output_type": "stream",
     "text": [
      "Lung_rales\n",
      "N    0.291096\n",
      "Y    0.181818\n",
      "Name: Cath, dtype: float64\n",
      "0      0.291096\n",
      "1      0.291096\n",
      "2      0.291096\n",
      "3      0.291096\n",
      "4      0.291096\n",
      "         ...   \n",
      "298    0.291096\n",
      "299    0.291096\n",
      "300    0.291096\n",
      "301    0.291096\n",
      "302    0.291096\n",
      "Name: Lung_rales_mean_encode, Length: 303, dtype: float64\n"
     ]
    }
   ],
   "source": [
    "mean_encode = df.groupby('Lung_rales')['Cath'].mean()\n",
    "print(mean_encode)\n",
    "df.loc[:,'Lung_rales_mean_encode']=df['Lung_rales'].map(mean_encode)\n",
    "print(df['Lung_rales_mean_encode'])"
   ]
  },
  {
   "cell_type": "code",
   "execution_count": 19,
   "metadata": {},
   "outputs": [
    {
     "name": "stdout",
     "output_type": "stream",
     "text": [
      "Systolic_Murmur\n",
      "N    0.286260\n",
      "Y    0.292683\n",
      "Name: Cath, dtype: float64\n",
      "0      0.286260\n",
      "1      0.286260\n",
      "2      0.286260\n",
      "3      0.286260\n",
      "4      0.292683\n",
      "         ...   \n",
      "298    0.286260\n",
      "299    0.292683\n",
      "300    0.286260\n",
      "301    0.286260\n",
      "302    0.286260\n",
      "Name: Systolic_Murmur_mean_encode, Length: 303, dtype: float64\n"
     ]
    }
   ],
   "source": [
    "mean_encode = df.groupby('Systolic_Murmur')['Cath'].mean()\n",
    "print(mean_encode)\n",
    "df.loc[:,'Systolic_Murmur_mean_encode']=df['Systolic_Murmur'].map(mean_encode)\n",
    "print(df['Systolic_Murmur_mean_encode'])"
   ]
  },
  {
   "cell_type": "code",
   "execution_count": 20,
   "metadata": {},
   "outputs": [
    {
     "name": "stdout",
     "output_type": "stream",
     "text": [
      "Diastolic_Murmur\n",
      "N    0.275510\n",
      "Y    0.666667\n",
      "Name: Cath, dtype: float64\n",
      "0      0.275510\n",
      "1      0.275510\n",
      "2      0.275510\n",
      "3      0.666667\n",
      "4      0.275510\n",
      "         ...   \n",
      "298    0.275510\n",
      "299    0.275510\n",
      "300    0.275510\n",
      "301    0.275510\n",
      "302    0.275510\n",
      "Name: Diastolic_Murmur_mean_encode, Length: 303, dtype: float64\n"
     ]
    }
   ],
   "source": [
    "mean_encode = df.groupby('Diastolic_Murmur')['Cath'].mean()\n",
    "print(mean_encode)\n",
    "df.loc[:,'Diastolic_Murmur_mean_encode']=df['Diastolic_Murmur'].map(mean_encode)\n",
    "print(df['Diastolic_Murmur_mean_encode'])"
   ]
  },
  {
   "cell_type": "code",
   "execution_count": 21,
   "metadata": {},
   "outputs": [
    {
     "name": "stdout",
     "output_type": "stream",
     "text": [
      "Dyspnea\n",
      "N    0.236686\n",
      "Y    0.350746\n",
      "Name: Cath, dtype: float64\n",
      "0      0.236686\n",
      "1      0.236686\n",
      "2      0.236686\n",
      "3      0.350746\n",
      "4      0.350746\n",
      "         ...   \n",
      "298    0.236686\n",
      "299    0.350746\n",
      "300    0.236686\n",
      "301    0.350746\n",
      "302    0.236686\n",
      "Name: Dyspnea_mean_encode, Length: 303, dtype: float64\n"
     ]
    }
   ],
   "source": [
    "mean_encode = df.groupby('Dyspnea')['Cath'].mean()\n",
    "print(mean_encode)\n",
    "df.loc[:,'Dyspnea_mean_encode']=df['Dyspnea'].map(mean_encode)\n",
    "print(df['Dyspnea_mean_encode'])"
   ]
  },
  {
   "cell_type": "code",
   "execution_count": 22,
   "metadata": {},
   "outputs": [
    {
     "name": "stdout",
     "output_type": "stream",
     "text": [
      "Atypical\n",
      "N    0.161905\n",
      "Y    0.569892\n",
      "Name: Cath, dtype: float64\n",
      "0      0.161905\n",
      "1      0.161905\n",
      "2      0.161905\n",
      "3      0.161905\n",
      "4      0.161905\n",
      "         ...   \n",
      "298    0.161905\n",
      "299    0.569892\n",
      "300    0.161905\n",
      "301    0.569892\n",
      "302    0.161905\n",
      "Name: Atypical_mean_encode, Length: 303, dtype: float64\n"
     ]
    }
   ],
   "source": [
    "mean_encode = df.groupby('Atypical')['Cath'].mean()\n",
    "print(mean_encode)\n",
    "df.loc[:,'Atypical_mean_encode']=df['Atypical'].map(mean_encode)\n",
    "print(df['Atypical_mean_encode'])"
   ]
  },
  {
   "cell_type": "code",
   "execution_count": 23,
   "metadata": {},
   "outputs": [
    {
     "name": "stdout",
     "output_type": "stream",
     "text": [
      "Nonanginal\n",
      "N    0.25784\n",
      "Y    0.81250\n",
      "Name: Cath, dtype: float64\n",
      "0      0.25784\n",
      "1      0.25784\n",
      "2      0.25784\n",
      "3      0.81250\n",
      "4      0.25784\n",
      "        ...   \n",
      "298    0.25784\n",
      "299    0.25784\n",
      "300    0.81250\n",
      "301    0.25784\n",
      "302    0.25784\n",
      "Name: Nonanginal_mean_encode, Length: 303, dtype: float64\n"
     ]
    }
   ],
   "source": [
    "mean_encode = df.groupby('Nonanginal')['Cath'].mean()\n",
    "print(mean_encode)\n",
    "df.loc[:,'Nonanginal_mean_encode']=df['Nonanginal'].map(mean_encode)\n",
    "print(df['Nonanginal_mean_encode'])"
   ]
  },
  {
   "cell_type": "code",
   "execution_count": 24,
   "metadata": {},
   "outputs": [
    {
     "name": "stdout",
     "output_type": "stream",
     "text": [
      "Exertional_CP\n",
      "N    0.287129\n",
      "Name: Cath, dtype: float64\n",
      "0      0.287129\n",
      "1      0.287129\n",
      "2      0.287129\n",
      "3      0.287129\n",
      "4      0.287129\n",
      "         ...   \n",
      "298    0.287129\n",
      "299    0.287129\n",
      "300    0.287129\n",
      "301    0.287129\n",
      "302    0.287129\n",
      "Name: Exertional_CP_mean_encode, Length: 303, dtype: float64\n"
     ]
    }
   ],
   "source": [
    "mean_encode = df.groupby('Exertional_CP')['Cath'].mean()\n",
    "print(mean_encode)\n",
    "df.loc[:,'Exertional_CP_mean_encode']=df['Exertional_CP'].map(mean_encode)\n",
    "print(df['Exertional_CP_mean_encode'])"
   ]
  },
  {
   "cell_type": "code",
   "execution_count": 25,
   "metadata": {},
   "outputs": [
    {
     "name": "stdout",
     "output_type": "stream",
     "text": [
      "LowTH_Ang\n",
      "N    0.289037\n",
      "Y    0.000000\n",
      "Name: Cath, dtype: float64\n",
      "0      0.289037\n",
      "1      0.289037\n",
      "2      0.289037\n",
      "3      0.289037\n",
      "4      0.289037\n",
      "         ...   \n",
      "298    0.289037\n",
      "299    0.289037\n",
      "300    0.289037\n",
      "301    0.289037\n",
      "302    0.289037\n",
      "Name: LowTH_Ang_mean_encode, Length: 303, dtype: float64\n"
     ]
    }
   ],
   "source": [
    "mean_encode = df.groupby('LowTH_Ang')['Cath'].mean()\n",
    "print(mean_encode)\n",
    "df.loc[:,'LowTH_Ang_mean_encode']=df['LowTH_Ang'].map(mean_encode)\n",
    "print(df['LowTH_Ang_mean_encode'])"
   ]
  },
  {
   "cell_type": "code",
   "execution_count": 26,
   "metadata": {},
   "outputs": [
    {
     "name": "stdout",
     "output_type": "stream",
     "text": [
      "LVH\n",
      "N    0.293286\n",
      "Y    0.200000\n",
      "Name: Cath, dtype: float64\n",
      "0      0.293286\n",
      "1      0.293286\n",
      "2      0.293286\n",
      "3      0.293286\n",
      "4      0.293286\n",
      "         ...   \n",
      "298    0.293286\n",
      "299    0.293286\n",
      "300    0.293286\n",
      "301    0.293286\n",
      "302    0.293286\n",
      "Name: LVH_mean_encode, Length: 303, dtype: float64\n"
     ]
    }
   ],
   "source": [
    "mean_encode = df.groupby('LVH')['Cath'].mean()\n",
    "print(mean_encode)\n",
    "df.loc[:,'LVH_mean_encode']=df['LVH'].map(mean_encode)\n",
    "print(df['LVH_mean_encode'])"
   ]
  },
  {
   "cell_type": "code",
   "execution_count": 27,
   "metadata": {},
   "outputs": [
    {
     "name": "stdout",
     "output_type": "stream",
     "text": [
      "Poor_R_Progression\n",
      "N    0.295918\n",
      "Y    0.000000\n",
      "Name: Cath, dtype: float64\n",
      "0      0.295918\n",
      "1      0.295918\n",
      "2      0.295918\n",
      "3      0.295918\n",
      "4      0.295918\n",
      "         ...   \n",
      "298    0.295918\n",
      "299    0.295918\n",
      "300    0.295918\n",
      "301    0.295918\n",
      "302    0.295918\n",
      "Name: Poor_R_Progression_mean_encode, Length: 303, dtype: float64\n"
     ]
    }
   ],
   "source": [
    "mean_encode = df.groupby('Poor_R_Progression')['Cath'].mean()\n",
    "print(mean_encode)\n",
    "df.loc[:,'Poor_R_Progression_mean_encode']=df['Poor_R_Progression'].map(mean_encode)\n",
    "print(df['Poor_R_Progression_mean_encode'])"
   ]
  },
  {
   "cell_type": "code",
   "execution_count": 28,
   "metadata": {},
   "outputs": [
    {
     "name": "stdout",
     "output_type": "stream",
     "text": [
      "BBB\n",
      "LBBB    0.461538\n",
      "N       0.276596\n",
      "RBBB    0.375000\n",
      "Name: Cath, dtype: float64\n",
      "0      0.276596\n",
      "1      0.276596\n",
      "2      0.276596\n",
      "3      0.276596\n",
      "4      0.276596\n",
      "         ...   \n",
      "298    0.276596\n",
      "299    0.461538\n",
      "300    0.375000\n",
      "301    0.276596\n",
      "302    0.276596\n",
      "Name: BBB_mean_encode, Length: 303, dtype: float64\n"
     ]
    }
   ],
   "source": [
    "mean_encode = df.groupby('BBB')['Cath'].mean()\n",
    "print(mean_encode)\n",
    "df.loc[:,'BBB_mean_encode']=df['BBB'].map(mean_encode)\n",
    "print(df['BBB_mean_encode'])"
   ]
  },
  {
   "cell_type": "code",
   "execution_count": 29,
   "metadata": {},
   "outputs": [
    {
     "name": "stdout",
     "output_type": "stream",
     "text": [
      "VHD\n",
      "Moderate    0.185185\n",
      "N           0.344828\n",
      "Severe      0.727273\n",
      "mild        0.228188\n",
      "Name: Cath, dtype: float64\n",
      "0      0.344828\n",
      "1      0.344828\n",
      "2      0.228188\n",
      "3      0.727273\n",
      "4      0.727273\n",
      "         ...   \n",
      "298    0.344828\n",
      "299    0.228188\n",
      "300    0.344828\n",
      "301    0.344828\n",
      "302    0.344828\n",
      "Name: VHD_mean_encode, Length: 303, dtype: float64\n"
     ]
    }
   ],
   "source": [
    "mean_encode = df.groupby('VHD')['Cath'].mean()\n",
    "print(mean_encode)\n",
    "df.loc[:,'VHD_mean_encode']=df['VHD'].map(mean_encode)\n",
    "print(df['VHD_mean_encode'])"
   ]
  },
  {
   "cell_type": "code",
   "execution_count": 30,
   "metadata": {},
   "outputs": [
    {
     "name": "stdout",
     "output_type": "stream",
     "text": [
      "LAD\n",
      "Normal      0.68254\n",
      "Stenotic    0.00565\n",
      "Name: Cath, dtype: float64\n",
      "0      0.00565\n",
      "1      0.00565\n",
      "2      0.00565\n",
      "3      0.68254\n",
      "4      0.68254\n",
      "        ...   \n",
      "298    0.00565\n",
      "299    0.68254\n",
      "300    0.68254\n",
      "301    0.68254\n",
      "302    0.00565\n",
      "Name: LAD_mean_encode, Length: 303, dtype: float64\n"
     ]
    }
   ],
   "source": [
    "mean_encode = df.groupby('LAD')['Cath'].mean()\n",
    "print(mean_encode)\n",
    "df.loc[:,'LAD_mean_encode']=df['LAD'].map(mean_encode)\n",
    "print(df['LAD_mean_encode'])"
   ]
  },
  {
   "cell_type": "code",
   "execution_count": 31,
   "metadata": {},
   "outputs": [
    {
     "name": "stdout",
     "output_type": "stream",
     "text": [
      "LCX\n",
      "Normal      0.472826\n",
      "Stenotic    0.000000\n",
      "Name: Cath, dtype: float64\n",
      "0      0.472826\n",
      "1      0.000000\n",
      "2      0.472826\n",
      "3      0.472826\n",
      "4      0.472826\n",
      "         ...   \n",
      "298    0.000000\n",
      "299    0.472826\n",
      "300    0.472826\n",
      "301    0.472826\n",
      "302    0.472826\n",
      "Name: LCX_mean_encode, Length: 303, dtype: float64\n"
     ]
    }
   ],
   "source": [
    "mean_encode = df.groupby('LCX')['Cath'].mean()\n",
    "print(mean_encode)\n",
    "df.loc[:,'LCX_mean_encode']=df['LCX'].map(mean_encode)\n",
    "print(df['LCX_mean_encode'])"
   ]
  },
  {
   "cell_type": "code",
   "execution_count": 32,
   "metadata": {},
   "outputs": [
    {
     "name": "stdout",
     "output_type": "stream",
     "text": [
      "RCA\n",
      "Normal      0.460317\n",
      "Stenotic    0.000000\n",
      "Name: Cath, dtype: float64\n",
      "0      0.000000\n",
      "1      0.460317\n",
      "2      0.460317\n",
      "3      0.460317\n",
      "4      0.460317\n",
      "         ...   \n",
      "298    0.000000\n",
      "299    0.460317\n",
      "300    0.460317\n",
      "301    0.460317\n",
      "302    0.460317\n",
      "Name: RCA_mean_encode, Length: 303, dtype: float64\n"
     ]
    }
   ],
   "source": [
    "mean_encode = df.groupby('RCA')['Cath'].mean()\n",
    "print(mean_encode)\n",
    "df.loc[:,'RCA_mean_encode']=df['RCA'].map(mean_encode)\n",
    "print(df['RCA_mean_encode'])"
   ]
  },
  {
   "cell_type": "code",
   "execution_count": 33,
   "metadata": {},
   "outputs": [
    {
     "name": "stdout",
     "output_type": "stream",
     "text": [
      "DM\n",
      "0    0.361502\n",
      "1    0.111111\n",
      "Name: Cath, dtype: float64\n",
      "0      0.361502\n",
      "1      0.361502\n",
      "2      0.361502\n",
      "3      0.361502\n",
      "4      0.361502\n",
      "         ...   \n",
      "298    0.361502\n",
      "299    0.361502\n",
      "300    0.361502\n",
      "301    0.111111\n",
      "302    0.361502\n",
      "Name: DM_mean_encode, Length: 303, dtype: float64\n"
     ]
    }
   ],
   "source": [
    "mean_encode = df.groupby('DM')['Cath'].mean()\n",
    "print(mean_encode)\n",
    "df.loc[:,'DM_mean_encode']=df['DM'].map(mean_encode)\n",
    "print(df['DM_mean_encode'])"
   ]
  },
  {
   "cell_type": "code",
   "execution_count": 34,
   "metadata": {},
   "outputs": [
    {
     "name": "stdout",
     "output_type": "stream",
     "text": [
      "HTN\n",
      "0    0.443548\n",
      "1    0.178771\n",
      "Name: Cath, dtype: float64\n",
      "0      0.178771\n",
      "1      0.178771\n",
      "2      0.443548\n",
      "3      0.178771\n",
      "4      0.178771\n",
      "         ...   \n",
      "298    0.443548\n",
      "299    0.443548\n",
      "300    0.178771\n",
      "301    0.443548\n",
      "302    0.178771\n",
      "Name: HTN_mean_encode, Length: 303, dtype: float64\n"
     ]
    }
   ],
   "source": [
    "mean_encode = df.groupby('HTN')['Cath'].mean()\n",
    "print(mean_encode)\n",
    "df.loc[:,'HTN_mean_encode']=df['HTN'].map(mean_encode)\n",
    "print(df['HTN_mean_encode'])"
   ]
  },
  {
   "cell_type": "code",
   "execution_count": 35,
   "metadata": {},
   "outputs": [
    {
     "name": "stdout",
     "output_type": "stream",
     "text": [
      "Current_Smoker\n",
      "0    0.304167\n",
      "1    0.222222\n",
      "Name: Cath, dtype: float64\n",
      "0      0.222222\n",
      "1      0.304167\n",
      "2      0.222222\n",
      "3      0.304167\n",
      "4      0.304167\n",
      "         ...   \n",
      "298    0.304167\n",
      "299    0.304167\n",
      "300    0.304167\n",
      "301    0.304167\n",
      "302    0.222222\n",
      "Name: Current_Smoker_mean_encode, Length: 303, dtype: float64\n"
     ]
    }
   ],
   "source": [
    "mean_encode = df.groupby('Current_Smoker')['Cath'].mean()\n",
    "print(mean_encode)\n",
    "df.loc[:,'Current_Smoker_mean_encode']=df['Current_Smoker'].map(mean_encode)\n",
    "print(df['Current_Smoker_mean_encode'])"
   ]
  },
  {
   "cell_type": "code",
   "execution_count": 36,
   "metadata": {},
   "outputs": [
    {
     "name": "stdout",
     "output_type": "stream",
     "text": [
      "EX-Smoker\n",
      "0    0.290102\n",
      "1    0.200000\n",
      "Name: Cath, dtype: float64\n",
      "0      0.290102\n",
      "1      0.290102\n",
      "2      0.290102\n",
      "3      0.290102\n",
      "4      0.290102\n",
      "         ...   \n",
      "298    0.290102\n",
      "299    0.290102\n",
      "300    0.290102\n",
      "301    0.290102\n",
      "302    0.290102\n",
      "Name: EX-Smoker_mean_encode, Length: 303, dtype: float64\n"
     ]
    }
   ],
   "source": [
    "mean_encode = df.groupby('EX-Smoker')['Cath'].mean()\n",
    "print(mean_encode)\n",
    "df.loc[:,'EX-Smoker_mean_encode']=df['EX-Smoker'].map(mean_encode)\n",
    "print(df['EX-Smoker_mean_encode'])"
   ]
  },
  {
   "cell_type": "code",
   "execution_count": 37,
   "metadata": {},
   "outputs": [
    {
     "name": "stdout",
     "output_type": "stream",
     "text": [
      "FH\n",
      "0    0.294118\n",
      "1    0.250000\n",
      "Name: Cath, dtype: float64\n",
      "0      0.294118\n",
      "1      0.294118\n",
      "2      0.294118\n",
      "3      0.294118\n",
      "4      0.294118\n",
      "         ...   \n",
      "298    0.294118\n",
      "299    0.294118\n",
      "300    0.250000\n",
      "301    0.294118\n",
      "302    0.294118\n",
      "Name: FH_mean_encode, Length: 303, dtype: float64\n"
     ]
    }
   ],
   "source": [
    "mean_encode = df.groupby('FH')['Cath'].mean()\n",
    "print(mean_encode)\n",
    "df.loc[:,'FH_mean_encode']=df['FH'].map(mean_encode)\n",
    "print(df['FH_mean_encode'])"
   ]
  },
  {
   "cell_type": "code",
   "execution_count": 38,
   "metadata": {},
   "outputs": [
    {
     "name": "stdout",
     "output_type": "stream",
     "text": [
      "Edema\n",
      "0    0.292096\n",
      "1    0.166667\n",
      "Name: Cath, dtype: float64\n",
      "0      0.292096\n",
      "1      0.166667\n",
      "2      0.292096\n",
      "3      0.292096\n",
      "4      0.292096\n",
      "         ...   \n",
      "298    0.292096\n",
      "299    0.292096\n",
      "300    0.292096\n",
      "301    0.292096\n",
      "302    0.292096\n",
      "Name: Edema_mean_encode, Length: 303, dtype: float64\n"
     ]
    }
   ],
   "source": [
    "mean_encode = df.groupby('Edema')['Cath'].mean()\n",
    "print(mean_encode)\n",
    "df.loc[:,'Edema_mean_encode']=df['Edema'].map(mean_encode)\n",
    "print(df['Edema_mean_encode'])"
   ]
  },
  {
   "cell_type": "code",
   "execution_count": 39,
   "metadata": {},
   "outputs": [
    {
     "name": "stdout",
     "output_type": "stream",
     "text": [
      "Typical_Chest_Pain\n",
      "0    0.553957\n",
      "1    0.060976\n",
      "Name: Cath, dtype: float64\n",
      "0      0.553957\n",
      "1      0.060976\n",
      "2      0.060976\n",
      "3      0.553957\n",
      "4      0.553957\n",
      "         ...   \n",
      "298    0.060976\n",
      "299    0.553957\n",
      "300    0.553957\n",
      "301    0.553957\n",
      "302    0.060976\n",
      "Name: Typical_Chest_Pain_mean_encode, Length: 303, dtype: float64\n"
     ]
    }
   ],
   "source": [
    "mean_encode = df.groupby('Typical_Chest_Pain')['Cath'].mean()\n",
    "print(mean_encode)\n",
    "df.loc[:,'Typical_Chest_Pain_mean_encode']=df['Typical_Chest_Pain'].map(mean_encode)\n",
    "print(df['Typical_Chest_Pain_mean_encode'])"
   ]
  },
  {
   "cell_type": "code",
   "execution_count": 40,
   "metadata": {},
   "outputs": [
    {
     "name": "stdout",
     "output_type": "stream",
     "text": [
      "Function_Class\n",
      "0    0.312796\n",
      "1    1.000000\n",
      "2    0.232877\n",
      "3    0.166667\n",
      "Name: Cath, dtype: float64\n",
      "0      0.312796\n",
      "1      0.312796\n",
      "2      0.312796\n",
      "3      0.166667\n",
      "4      0.232877\n",
      "         ...   \n",
      "298    0.312796\n",
      "299    0.312796\n",
      "300    0.312796\n",
      "301    0.312796\n",
      "302    0.312796\n",
      "Name: Function_Class_mean_encode, Length: 303, dtype: float64\n"
     ]
    }
   ],
   "source": [
    "mean_encode = df.groupby('Function_Class')['Cath'].mean()\n",
    "print(mean_encode)\n",
    "df.loc[:,'Function_Class_mean_encode']=df['Function_Class'].map(mean_encode)\n",
    "print(df['Function_Class_mean_encode'])"
   ]
  },
  {
   "cell_type": "code",
   "execution_count": 41,
   "metadata": {},
   "outputs": [
    {
     "name": "stdout",
     "output_type": "stream",
     "text": [
      "Q_Wave\n",
      "0    0.303136\n",
      "1    0.000000\n",
      "Name: Cath, dtype: float64\n",
      "0      0.303136\n",
      "1      0.303136\n",
      "2      0.303136\n",
      "3      0.303136\n",
      "4      0.303136\n",
      "         ...   \n",
      "298    0.303136\n",
      "299    0.303136\n",
      "300    0.303136\n",
      "301    0.303136\n",
      "302    0.303136\n",
      "Name: Q_Wave_mean_encode, Length: 303, dtype: float64\n"
     ]
    }
   ],
   "source": [
    "mean_encode = df.groupby('Q_Wave')['Cath'].mean()\n",
    "print(mean_encode)\n",
    "df.loc[:,'Q_Wave_mean_encode']=df['Q_Wave'].map(mean_encode)\n",
    "print(df['Q_Wave_mean_encode'])"
   ]
  },
  {
   "cell_type": "code",
   "execution_count": 42,
   "metadata": {},
   "outputs": [
    {
     "name": "stdout",
     "output_type": "stream",
     "text": [
      "St_Elevation\n",
      "0    0.301038\n",
      "1    0.000000\n",
      "Name: Cath, dtype: float64\n",
      "0      0.301038\n",
      "1      0.301038\n",
      "2      0.301038\n",
      "3      0.301038\n",
      "4      0.301038\n",
      "         ...   \n",
      "298    0.301038\n",
      "299    0.301038\n",
      "300    0.301038\n",
      "301    0.301038\n",
      "302    0.301038\n",
      "Name: St_Elevation_mean_encode, Length: 303, dtype: float64\n"
     ]
    }
   ],
   "source": [
    "mean_encode = df.groupby('St_Elevation')['Cath'].mean()\n",
    "print(mean_encode)\n",
    "df.loc[:,'St_Elevation_mean_encode']=df['St_Elevation'].map(mean_encode)\n",
    "print(df['St_Elevation_mean_encode'])"
   ]
  },
  {
   "cell_type": "code",
   "execution_count": 43,
   "metadata": {},
   "outputs": [
    {
     "name": "stdout",
     "output_type": "stream",
     "text": [
      "St_Depression\n",
      "0    0.323276\n",
      "1    0.169014\n",
      "Name: Cath, dtype: float64\n",
      "0      0.169014\n",
      "1      0.169014\n",
      "2      0.323276\n",
      "3      0.169014\n",
      "4      0.323276\n",
      "         ...   \n",
      "298    0.323276\n",
      "299    0.323276\n",
      "300    0.323276\n",
      "301    0.323276\n",
      "302    0.323276\n",
      "Name: St_Depression_mean_encode, Length: 303, dtype: float64\n"
     ]
    }
   ],
   "source": [
    "mean_encode = df.groupby('St_Depression')['Cath'].mean()\n",
    "print(mean_encode)\n",
    "df.loc[:,'St_Depression_mean_encode']=df['St_Depression'].map(mean_encode)\n",
    "print(df['St_Depression_mean_encode'])"
   ]
  },
  {
   "cell_type": "code",
   "execution_count": 44,
   "metadata": {},
   "outputs": [
    {
     "name": "stdout",
     "output_type": "stream",
     "text": [
      "Tinversion\n",
      "0    0.356808\n",
      "1    0.122222\n",
      "Name: Cath, dtype: float64\n",
      "0      0.122222\n",
      "1      0.122222\n",
      "2      0.356808\n",
      "3      0.356808\n",
      "4      0.356808\n",
      "         ...   \n",
      "298    0.356808\n",
      "299    0.356808\n",
      "300    0.356808\n",
      "301    0.356808\n",
      "302    0.122222\n",
      "Name: Tinversion_mean_encode, Length: 303, dtype: float64\n"
     ]
    }
   ],
   "source": [
    "mean_encode = df.groupby('Tinversion')['Cath'].mean()\n",
    "print(mean_encode)\n",
    "df.loc[:,'Tinversion_mean_encode']=df['Tinversion'].map(mean_encode)\n",
    "print(df['Tinversion_mean_encode'])"
   ]
  },
  {
   "cell_type": "code",
   "execution_count": 45,
   "metadata": {},
   "outputs": [
    {
     "name": "stdout",
     "output_type": "stream",
     "text": [
      "Region_RWMA\n",
      "0    0.382488\n",
      "1    0.115385\n",
      "2    0.031250\n",
      "3    0.000000\n",
      "4    0.000000\n",
      "Name: Cath, dtype: float64\n",
      "0      0.382488\n",
      "1      0.000000\n",
      "2      0.031250\n",
      "3      0.382488\n",
      "4      0.382488\n",
      "         ...   \n",
      "298    0.382488\n",
      "299    0.382488\n",
      "300    0.382488\n",
      "301    0.382488\n",
      "302    0.382488\n",
      "Name: Region_RWMA_mean_encode, Length: 303, dtype: float64\n"
     ]
    }
   ],
   "source": [
    "mean_encode = df.groupby('Region_RWMA')['Cath'].mean()\n",
    "print(mean_encode)\n",
    "df.loc[:,'Region_RWMA_mean_encode']=df['Region_RWMA'].map(mean_encode)\n",
    "print(df['Region_RWMA_mean_encode'])"
   ]
  },
  {
   "cell_type": "code",
   "execution_count": 46,
   "metadata": {},
   "outputs": [
    {
     "name": "stdout",
     "output_type": "stream",
     "text": [
      "     Age  Weight  Length        BMI   BP   PR  FBS   CR   TG  LDL  ...  \\\n",
      "0     53      90     175  29.387755  110   80   90  0.7  250  155  ...   \n",
      "1     67      70     157  28.398718  140   80   80  1.0  309  121  ...   \n",
      "2     54      54     164  20.077335  100  100   85  1.0  103   70  ...   \n",
      "3     66      67     158  26.838648  100   80   78  1.2   63   55  ...   \n",
      "4     50      87     153  37.165193  110   80  104  1.0  170  110  ...   \n",
      "..   ...     ...     ...        ...  ...  ...  ...  ...  ...  ...  ...   \n",
      "298   58      84     168  29.761905  100   76   92  1.0  112  115  ...   \n",
      "299   55      64     152  27.700831  100   60   86  0.9  111   40  ...   \n",
      "300   48      77     160  30.078125  130   70   83  1.0   93  112  ...   \n",
      "301   57      90     159  35.599858  100   60   96  1.0  116  130  ...   \n",
      "302   56      85     170  29.411765  120   80   78  0.7  139  124  ...   \n",
      "\n",
      "     EX-Smoker_mean_encode  FH_mean_encode  Edema_mean_encode  \\\n",
      "0                 0.290102        0.294118           0.292096   \n",
      "1                 0.290102        0.294118           0.166667   \n",
      "2                 0.290102        0.294118           0.292096   \n",
      "3                 0.290102        0.294118           0.292096   \n",
      "4                 0.290102        0.294118           0.292096   \n",
      "..                     ...             ...                ...   \n",
      "298               0.290102        0.294118           0.292096   \n",
      "299               0.290102        0.294118           0.292096   \n",
      "300               0.290102        0.250000           0.292096   \n",
      "301               0.290102        0.294118           0.292096   \n",
      "302               0.290102        0.294118           0.292096   \n",
      "\n",
      "     Typical_Chest_Pain_mean_encode  Function_Class_mean_encode  \\\n",
      "0                          0.553957                    0.312796   \n",
      "1                          0.060976                    0.312796   \n",
      "2                          0.060976                    0.312796   \n",
      "3                          0.553957                    0.166667   \n",
      "4                          0.553957                    0.232877   \n",
      "..                              ...                         ...   \n",
      "298                        0.060976                    0.312796   \n",
      "299                        0.553957                    0.312796   \n",
      "300                        0.553957                    0.312796   \n",
      "301                        0.553957                    0.312796   \n",
      "302                        0.060976                    0.312796   \n",
      "\n",
      "     Q_Wave_mean_encode  St_Elevation_mean_encode  St_Depression_mean_encode  \\\n",
      "0              0.303136                  0.301038                   0.169014   \n",
      "1              0.303136                  0.301038                   0.169014   \n",
      "2              0.303136                  0.301038                   0.323276   \n",
      "3              0.303136                  0.301038                   0.169014   \n",
      "4              0.303136                  0.301038                   0.323276   \n",
      "..                  ...                       ...                        ...   \n",
      "298            0.303136                  0.301038                   0.323276   \n",
      "299            0.303136                  0.301038                   0.323276   \n",
      "300            0.303136                  0.301038                   0.323276   \n",
      "301            0.303136                  0.301038                   0.323276   \n",
      "302            0.303136                  0.301038                   0.323276   \n",
      "\n",
      "     Tinversion_mean_encode  Region_RWMA_mean_encode  \n",
      "0                  0.122222                 0.382488  \n",
      "1                  0.122222                 0.000000  \n",
      "2                  0.356808                 0.031250  \n",
      "3                  0.356808                 0.382488  \n",
      "4                  0.356808                 0.382488  \n",
      "..                      ...                      ...  \n",
      "298                0.356808                 0.382488  \n",
      "299                0.356808                 0.382488  \n",
      "300                0.356808                 0.382488  \n",
      "301                0.356808                 0.382488  \n",
      "302                0.122222                 0.382488  \n",
      "\n",
      "[303 rows x 59 columns]\n",
      "Index(['Age', 'Weight', 'Length', 'BMI', 'BP', 'PR', 'FBS', 'CR', 'TG', 'LDL',\n",
      "       'HDL', 'BUN', 'ESR', 'HB', 'K', 'Na', 'WBC', 'Lymph', 'Neut', 'PLT',\n",
      "       'EF-TTE', 'Cath', 'Sex_mean_encode', 'Obesity_mean_encode',\n",
      "       'CRF_mean_encode', 'CVA_mean_encode', 'Airway_disease_mean_encode',\n",
      "       'Thyroid_Disease_mean_encode', 'CHF_mean_encode', 'DLP_mean_encode',\n",
      "       'Weak_Peripheral_Pulse_mean_encode', 'Lung_rales_mean_encode',\n",
      "       'Systolic_Murmur_mean_encode', 'Diastolic_Murmur_mean_encode',\n",
      "       'Dyspnea_mean_encode', 'Atypical_mean_encode', 'Nonanginal_mean_encode',\n",
      "       'Exertional_CP_mean_encode', 'LowTH_Ang_mean_encode', 'LVH_mean_encode',\n",
      "       'Poor_R_Progression_mean_encode', 'BBB_mean_encode', 'VHD_mean_encode',\n",
      "       'LAD_mean_encode', 'LCX_mean_encode', 'RCA_mean_encode',\n",
      "       'DM_mean_encode', 'HTN_mean_encode', 'Current_Smoker_mean_encode',\n",
      "       'EX-Smoker_mean_encode', 'FH_mean_encode', 'Edema_mean_encode',\n",
      "       'Typical_Chest_Pain_mean_encode', 'Function_Class_mean_encode',\n",
      "       'Q_Wave_mean_encode', 'St_Elevation_mean_encode',\n",
      "       'St_Depression_mean_encode', 'Tinversion_mean_encode',\n",
      "       'Region_RWMA_mean_encode'],\n",
      "      dtype='object')\n"
     ]
    }
   ],
   "source": [
    "df=df.drop(['Sex', 'Obesity', 'CRF', 'CVA', 'Airway_disease', 'Thyroid_Disease', 'CHF', 'DLP', 'Weak_Peripheral_Pulse', 'Lung_rales', 'Systolic_Murmur', 'Diastolic_Murmur', 'Dyspnea', 'Atypical', 'Nonanginal', 'Exertional_CP', 'LowTH_Ang', 'LVH', 'Poor_R_Progression', 'BBB', 'VHD', 'LAD', 'LCX', 'RCA','DM','HTN','Current_Smoker','EX-Smoker','FH','Edema','Typical_Chest_Pain','Function_Class','Q_Wave','St_Elevation', 'St_Depression', 'Tinversion','Region_RWMA'], axis = 1)\n",
    "print(df)\n",
    "print(df.columns)"
   ]
  },
  {
   "cell_type": "code",
   "execution_count": 47,
   "metadata": {},
   "outputs": [
    {
     "name": "stdout",
     "output_type": "stream",
     "text": [
      "0      0\n",
      "1      0\n",
      "2      0\n",
      "3      1\n",
      "4      1\n",
      "      ..\n",
      "298    0\n",
      "299    1\n",
      "300    1\n",
      "301    1\n",
      "302    0\n",
      "Name: Cath, Length: 303, dtype: int64\n",
      "     Age  Weight  Length        BMI   BP   PR  FBS   CR   TG  LDL  ...  \\\n",
      "0     53      90     175  29.387755  110   80   90  0.7  250  155  ...   \n",
      "1     67      70     157  28.398718  140   80   80  1.0  309  121  ...   \n",
      "2     54      54     164  20.077335  100  100   85  1.0  103   70  ...   \n",
      "3     66      67     158  26.838648  100   80   78  1.2   63   55  ...   \n",
      "4     50      87     153  37.165193  110   80  104  1.0  170  110  ...   \n",
      "..   ...     ...     ...        ...  ...  ...  ...  ...  ...  ...  ...   \n",
      "298   58      84     168  29.761905  100   76   92  1.0  112  115  ...   \n",
      "299   55      64     152  27.700831  100   60   86  0.9  111   40  ...   \n",
      "300   48      77     160  30.078125  130   70   83  1.0   93  112  ...   \n",
      "301   57      90     159  35.599858  100   60   96  1.0  116  130  ...   \n",
      "302   56      85     170  29.411765  120   80   78  0.7  139  124  ...   \n",
      "\n",
      "     EX-Smoker_mean_encode  FH_mean_encode  Edema_mean_encode  \\\n",
      "0                 0.290102        0.294118           0.292096   \n",
      "1                 0.290102        0.294118           0.166667   \n",
      "2                 0.290102        0.294118           0.292096   \n",
      "3                 0.290102        0.294118           0.292096   \n",
      "4                 0.290102        0.294118           0.292096   \n",
      "..                     ...             ...                ...   \n",
      "298               0.290102        0.294118           0.292096   \n",
      "299               0.290102        0.294118           0.292096   \n",
      "300               0.290102        0.250000           0.292096   \n",
      "301               0.290102        0.294118           0.292096   \n",
      "302               0.290102        0.294118           0.292096   \n",
      "\n",
      "     Typical_Chest_Pain_mean_encode  Function_Class_mean_encode  \\\n",
      "0                          0.553957                    0.312796   \n",
      "1                          0.060976                    0.312796   \n",
      "2                          0.060976                    0.312796   \n",
      "3                          0.553957                    0.166667   \n",
      "4                          0.553957                    0.232877   \n",
      "..                              ...                         ...   \n",
      "298                        0.060976                    0.312796   \n",
      "299                        0.553957                    0.312796   \n",
      "300                        0.553957                    0.312796   \n",
      "301                        0.553957                    0.312796   \n",
      "302                        0.060976                    0.312796   \n",
      "\n",
      "     Q_Wave_mean_encode  St_Elevation_mean_encode  St_Depression_mean_encode  \\\n",
      "0              0.303136                  0.301038                   0.169014   \n",
      "1              0.303136                  0.301038                   0.169014   \n",
      "2              0.303136                  0.301038                   0.323276   \n",
      "3              0.303136                  0.301038                   0.169014   \n",
      "4              0.303136                  0.301038                   0.323276   \n",
      "..                  ...                       ...                        ...   \n",
      "298            0.303136                  0.301038                   0.323276   \n",
      "299            0.303136                  0.301038                   0.323276   \n",
      "300            0.303136                  0.301038                   0.323276   \n",
      "301            0.303136                  0.301038                   0.323276   \n",
      "302            0.303136                  0.301038                   0.323276   \n",
      "\n",
      "     Tinversion_mean_encode  Region_RWMA_mean_encode  \n",
      "0                  0.122222                 0.382488  \n",
      "1                  0.122222                 0.000000  \n",
      "2                  0.356808                 0.031250  \n",
      "3                  0.356808                 0.382488  \n",
      "4                  0.356808                 0.382488  \n",
      "..                      ...                      ...  \n",
      "298                0.356808                 0.382488  \n",
      "299                0.356808                 0.382488  \n",
      "300                0.356808                 0.382488  \n",
      "301                0.356808                 0.382488  \n",
      "302                0.122222                 0.382488  \n",
      "\n",
      "[303 rows x 58 columns]\n"
     ]
    }
   ],
   "source": [
    "X = df.drop('Cath',axis = 1)\n",
    "y = df['Cath'] \n",
    "print(y)\n",
    "print(X)"
   ]
  },
  {
   "cell_type": "code",
   "execution_count": 48,
   "metadata": {},
   "outputs": [
    {
     "name": "stdout",
     "output_type": "stream",
     "text": [
      "Index(['Age', 'Weight', 'Length', 'BMI', 'BP', 'PR', 'FBS', 'CR', 'TG', 'LDL',\n",
      "       'HDL', 'BUN', 'ESR', 'HB', 'K', 'Na', 'WBC', 'Lymph', 'Neut', 'PLT',\n",
      "       'EF-TTE', 'Cath', 'Sex_mean_encode', 'Obesity_mean_encode',\n",
      "       'CRF_mean_encode', 'CVA_mean_encode', 'Airway_disease_mean_encode',\n",
      "       'Thyroid_Disease_mean_encode', 'CHF_mean_encode', 'DLP_mean_encode',\n",
      "       'Weak_Peripheral_Pulse_mean_encode', 'Lung_rales_mean_encode',\n",
      "       'Systolic_Murmur_mean_encode', 'Diastolic_Murmur_mean_encode',\n",
      "       'Dyspnea_mean_encode', 'Atypical_mean_encode', 'Nonanginal_mean_encode',\n",
      "       'Exertional_CP_mean_encode', 'LowTH_Ang_mean_encode', 'LVH_mean_encode',\n",
      "       'Poor_R_Progression_mean_encode', 'BBB_mean_encode', 'VHD_mean_encode',\n",
      "       'LAD_mean_encode', 'LCX_mean_encode', 'RCA_mean_encode',\n",
      "       'DM_mean_encode', 'HTN_mean_encode', 'Current_Smoker_mean_encode',\n",
      "       'EX-Smoker_mean_encode', 'FH_mean_encode', 'Edema_mean_encode',\n",
      "       'Typical_Chest_Pain_mean_encode', 'Function_Class_mean_encode',\n",
      "       'Q_Wave_mean_encode', 'St_Elevation_mean_encode',\n",
      "       'St_Depression_mean_encode', 'Tinversion_mean_encode',\n",
      "       'Region_RWMA_mean_encode'],\n",
      "      dtype='object')\n"
     ]
    }
   ],
   "source": [
    "print(df.columns)"
   ]
  },
  {
   "cell_type": "code",
   "execution_count": 49,
   "metadata": {},
   "outputs": [],
   "source": [
    "from sklearn.discriminant_analysis import LinearDiscriminantAnalysis\n",
    "import matplotlib.pyplot as plt\n",
    "lda = LinearDiscriminantAnalysis(n_components=2)\n",
    "X_lda = lda.fit_transform(X, y)"
   ]
  },
  {
   "cell_type": "code",
   "execution_count": 50,
   "metadata": {
    "collapsed": true,
    "jupyter": {
     "outputs_hidden": true
    }
   },
   "outputs": [
    {
     "data": {
      "text/plain": [
       "array([[-1.0561023 ],\n",
       "       [-1.5061497 ],\n",
       "       [-0.84336715],\n",
       "       [ 3.68184511],\n",
       "       [ 2.99243815],\n",
       "       [-1.20795683],\n",
       "       [-0.57189189],\n",
       "       [-3.08619587],\n",
       "       [ 3.75755669],\n",
       "       [-0.12650115],\n",
       "       [-0.95290956],\n",
       "       [-3.35335731],\n",
       "       [-1.41231734],\n",
       "       [-1.70916088],\n",
       "       [-0.37342931],\n",
       "       [-1.60385836],\n",
       "       [ 3.24149806],\n",
       "       [ 2.45145521],\n",
       "       [-1.47650229],\n",
       "       [-0.04105536],\n",
       "       [ 2.09362982],\n",
       "       [-0.81098804],\n",
       "       [-2.12594743],\n",
       "       [-2.24035422],\n",
       "       [-0.82811679],\n",
       "       [-0.79656591],\n",
       "       [ 3.28169341],\n",
       "       [ 2.28648135],\n",
       "       [-2.61474425],\n",
       "       [ 0.24813618],\n",
       "       [ 0.48183835],\n",
       "       [-0.48882029],\n",
       "       [-2.5898036 ],\n",
       "       [-2.65923638],\n",
       "       [-1.41893847],\n",
       "       [ 3.50920938],\n",
       "       [-2.10195072],\n",
       "       [-0.96824681],\n",
       "       [-0.45980487],\n",
       "       [-2.84183787],\n",
       "       [-0.41793255],\n",
       "       [ 3.43185334],\n",
       "       [ 2.71079695],\n",
       "       [-0.22313268],\n",
       "       [-0.48986856],\n",
       "       [-2.90998877],\n",
       "       [-2.33691613],\n",
       "       [-2.16589172],\n",
       "       [ 2.93690701],\n",
       "       [ 0.70916852],\n",
       "       [ 1.44752382],\n",
       "       [-1.73664877],\n",
       "       [-1.37230051],\n",
       "       [ 0.85624953],\n",
       "       [ 4.04982336],\n",
       "       [-2.41388258],\n",
       "       [-2.93159279],\n",
       "       [-2.72838225],\n",
       "       [-0.92663042],\n",
       "       [-2.96007681],\n",
       "       [ 2.93649416],\n",
       "       [-1.27208891],\n",
       "       [-1.25317988],\n",
       "       [-2.56220896],\n",
       "       [ 3.57261408],\n",
       "       [ 0.04629942],\n",
       "       [-1.47980414],\n",
       "       [ 2.40238214],\n",
       "       [ 3.03329165],\n",
       "       [-2.4617282 ],\n",
       "       [ 2.04029599],\n",
       "       [-1.16446395],\n",
       "       [-0.65729343],\n",
       "       [-0.22979031],\n",
       "       [-2.67916099],\n",
       "       [-0.32237883],\n",
       "       [-0.89598768],\n",
       "       [ 0.87295454],\n",
       "       [-1.07016931],\n",
       "       [ 3.04515948],\n",
       "       [-2.16461328],\n",
       "       [-1.93447092],\n",
       "       [-0.75525967],\n",
       "       [-1.04419671],\n",
       "       [ 0.41665269],\n",
       "       [ 1.18513977],\n",
       "       [-2.55816845],\n",
       "       [-3.17200175],\n",
       "       [ 0.17672215],\n",
       "       [-2.66146189],\n",
       "       [ 0.35366233],\n",
       "       [ 2.93444582],\n",
       "       [-3.44931799],\n",
       "       [ 0.33657522],\n",
       "       [-0.33016332],\n",
       "       [-1.08843565],\n",
       "       [-1.40109019],\n",
       "       [-1.12713515],\n",
       "       [-1.30871026],\n",
       "       [-0.37727896],\n",
       "       [-0.83865159],\n",
       "       [-2.1649006 ],\n",
       "       [ 3.16204846],\n",
       "       [-1.9106605 ],\n",
       "       [-0.03796366],\n",
       "       [ 0.11531155],\n",
       "       [-0.73798941],\n",
       "       [-1.3308764 ],\n",
       "       [ 2.20099933],\n",
       "       [-1.18636084],\n",
       "       [ 1.77707318],\n",
       "       [-2.27487267],\n",
       "       [-0.53567065],\n",
       "       [ 3.04666742],\n",
       "       [-2.03459857],\n",
       "       [-0.61705087],\n",
       "       [-1.739945  ],\n",
       "       [-2.06196468],\n",
       "       [-1.15517161],\n",
       "       [-1.47011185],\n",
       "       [-2.04060159],\n",
       "       [ 0.60534555],\n",
       "       [ 0.76607197],\n",
       "       [-0.62715628],\n",
       "       [-0.22901864],\n",
       "       [-2.31237188],\n",
       "       [-2.06630765],\n",
       "       [-1.01504593],\n",
       "       [-0.5068835 ],\n",
       "       [ 3.47017081],\n",
       "       [ 3.11790157],\n",
       "       [-0.46356632],\n",
       "       [-1.44062431],\n",
       "       [ 1.91214861],\n",
       "       [-0.68618629],\n",
       "       [-1.93733944],\n",
       "       [ 2.47208301],\n",
       "       [ 3.11836788],\n",
       "       [-1.38950796],\n",
       "       [-2.55612838],\n",
       "       [-0.64297198],\n",
       "       [-1.50653795],\n",
       "       [-0.02547846],\n",
       "       [ 3.434716  ],\n",
       "       [-1.39233532],\n",
       "       [ 1.52388491],\n",
       "       [-1.17155045],\n",
       "       [-2.94489372],\n",
       "       [-1.95860256],\n",
       "       [-2.14559373],\n",
       "       [ 2.00419079],\n",
       "       [ 2.84384678],\n",
       "       [-0.13309356],\n",
       "       [ 2.09101711],\n",
       "       [ 0.48276522],\n",
       "       [-1.17524919],\n",
       "       [-1.60173696],\n",
       "       [-0.47145454],\n",
       "       [ 1.4861319 ],\n",
       "       [-1.00442949],\n",
       "       [ 1.15791495],\n",
       "       [-0.5168163 ],\n",
       "       [-1.23632251],\n",
       "       [-1.1468859 ],\n",
       "       [-2.38528009],\n",
       "       [ 0.1164094 ],\n",
       "       [ 3.37018905],\n",
       "       [-1.58596029],\n",
       "       [ 2.950787  ],\n",
       "       [ 2.64948551],\n",
       "       [ 3.11266082],\n",
       "       [-0.98196692],\n",
       "       [-0.32894409],\n",
       "       [-2.50712116],\n",
       "       [-2.93243185],\n",
       "       [ 1.80926119],\n",
       "       [ 0.6988959 ],\n",
       "       [-2.22988457],\n",
       "       [-1.01799728],\n",
       "       [ 3.52823692],\n",
       "       [ 0.16846018],\n",
       "       [-1.33243554],\n",
       "       [-1.32245333],\n",
       "       [ 1.89073668],\n",
       "       [-1.21247827],\n",
       "       [ 2.75764351],\n",
       "       [ 2.86076924],\n",
       "       [-1.66327099],\n",
       "       [ 0.07622986],\n",
       "       [-0.88796861],\n",
       "       [ 2.52556983],\n",
       "       [-1.77341434],\n",
       "       [ 2.74150067],\n",
       "       [ 2.68871383],\n",
       "       [ 3.10324124],\n",
       "       [-0.37101739],\n",
       "       [ 3.74567475],\n",
       "       [-2.75546969],\n",
       "       [-1.22616006],\n",
       "       [ 3.075882  ],\n",
       "       [-0.09342144],\n",
       "       [ 2.69098856],\n",
       "       [-2.37709208],\n",
       "       [ 2.73787997],\n",
       "       [ 2.78508052],\n",
       "       [ 0.61989951],\n",
       "       [-2.90215404],\n",
       "       [-1.32461414],\n",
       "       [-1.14571913],\n",
       "       [-1.08406879],\n",
       "       [ 2.96414565],\n",
       "       [-0.69069762],\n",
       "       [ 3.01121612],\n",
       "       [ 1.40218286],\n",
       "       [ 3.2589464 ],\n",
       "       [-0.60871712],\n",
       "       [ 2.57006588],\n",
       "       [ 1.98260227],\n",
       "       [ 3.0456665 ],\n",
       "       [-1.01008932],\n",
       "       [-1.34378566],\n",
       "       [-0.34552596],\n",
       "       [-2.09128514],\n",
       "       [-2.35882492],\n",
       "       [-1.08046197],\n",
       "       [ 0.0856999 ],\n",
       "       [-2.33456836],\n",
       "       [-0.67097209],\n",
       "       [-1.32623581],\n",
       "       [-1.97147424],\n",
       "       [-1.00723122],\n",
       "       [-0.71851094],\n",
       "       [-1.95304047],\n",
       "       [ 2.74651466],\n",
       "       [ 3.43272252],\n",
       "       [-1.54768943],\n",
       "       [-1.46621408],\n",
       "       [-0.01526549],\n",
       "       [ 0.2067364 ],\n",
       "       [-0.75563232],\n",
       "       [-1.6132487 ],\n",
       "       [-1.2703465 ],\n",
       "       [-2.0047477 ],\n",
       "       [ 0.63173756],\n",
       "       [-1.91683089],\n",
       "       [ 0.15623545],\n",
       "       [-2.21602611],\n",
       "       [ 2.18877675],\n",
       "       [-2.31643962],\n",
       "       [-0.82347103],\n",
       "       [-0.78313649],\n",
       "       [-0.09731449],\n",
       "       [-0.25546731],\n",
       "       [-0.01962548],\n",
       "       [ 2.82732081],\n",
       "       [ 3.55134913],\n",
       "       [ 2.69817074],\n",
       "       [ 3.04859108],\n",
       "       [ 3.93427431],\n",
       "       [-1.13124849],\n",
       "       [-2.73733541],\n",
       "       [ 3.35427766],\n",
       "       [-0.07519596],\n",
       "       [ 2.85099948],\n",
       "       [ 3.74802669],\n",
       "       [-0.60251076],\n",
       "       [-0.09309415],\n",
       "       [-1.05793603],\n",
       "       [ 3.10364619],\n",
       "       [-1.94575594],\n",
       "       [ 3.21658328],\n",
       "       [-0.01412525],\n",
       "       [ 2.82672509],\n",
       "       [-2.20574675],\n",
       "       [-1.99325322],\n",
       "       [-1.99289041],\n",
       "       [ 2.81373711],\n",
       "       [-1.64534426],\n",
       "       [ 0.29442015],\n",
       "       [-0.74308261],\n",
       "       [ 3.7509698 ],\n",
       "       [-1.16436379],\n",
       "       [ 1.22578158],\n",
       "       [ 0.53092494],\n",
       "       [ 2.48980991],\n",
       "       [ 3.37097247],\n",
       "       [ 1.99313117],\n",
       "       [ 2.87366592],\n",
       "       [ 0.51582037],\n",
       "       [ 2.31584071],\n",
       "       [ 2.60635898],\n",
       "       [ 2.81745126],\n",
       "       [ 1.23536515],\n",
       "       [ 2.78452119],\n",
       "       [-1.33678344],\n",
       "       [ 2.88108406],\n",
       "       [ 3.0349247 ],\n",
       "       [ 2.66501936],\n",
       "       [-1.58700538],\n",
       "       [ 3.64523403],\n",
       "       [ 3.20663142],\n",
       "       [ 2.8667128 ],\n",
       "       [-0.50693074]])"
      ]
     },
     "execution_count": 50,
     "metadata": {},
     "output_type": "execute_result"
    }
   ],
   "source": [
    "X_lda"
   ]
  },
  {
   "cell_type": "code",
   "execution_count": 51,
   "metadata": {},
   "outputs": [
    {
     "name": "stdout",
     "output_type": "stream",
     "text": [
      "[2.22802538e-02 1.02860563e-02 9.59509455e-03 9.92823755e-03\n",
      " 7.20073723e-03 5.40127855e-03 9.55221528e-03 5.78831042e-03\n",
      " 8.25388672e-03 3.06649077e-03 6.37798409e-03 5.65810978e-03\n",
      " 1.03755104e-02 1.19260736e-02 5.34461791e-03 7.84221383e-03\n",
      " 8.02708460e-03 5.57436480e-03 6.64745777e-03 4.91665662e-03\n",
      " 1.22531100e-02 3.81778410e-03 2.24838584e-03 0.00000000e+00\n",
      " 1.41083972e-03 8.95771250e-04 1.63677404e-03 0.00000000e+00\n",
      " 5.07745761e-03 4.98376078e-04 4.52769031e-03 7.72410752e-04\n",
      " 1.27183474e-03 4.24631663e-03 2.82040457e-02 3.00927358e-03\n",
      " 0.00000000e+00 0.00000000e+00 5.23221521e-03 1.14447069e-03\n",
      " 7.51652451e-04 8.61108152e-03 2.66871810e-01 9.33473825e-02\n",
      " 1.06341095e-01 2.90544184e-02 2.49505179e-02 5.15335210e-03\n",
      " 1.27059752e-05 3.76717419e-03 2.54543694e-03 1.56600823e-01\n",
      " 8.01667838e-03 3.83997940e-03 3.16046381e-03 6.43789073e-03\n",
      " 2.54885630e-02 1.47595847e-02]\n"
     ]
    },
    {
     "name": "stderr",
     "output_type": "stream",
     "text": [
      "c:\\programdata\\miniconda3\\envs\\heartdis\\lib\\site-packages\\sklearn\\ensemble\\forest.py:248: FutureWarning: The default value of n_estimators will change from 10 in version 0.20 to 100 in 0.22.\n",
      "  \"10 in version 0.20 to 100 in 0.22.\", FutureWarning)\n"
     ]
    }
   ],
   "source": [
    "from sklearn.ensemble import ExtraTreesClassifier\n",
    "model = ExtraTreesClassifier()\n",
    "model.fit(X, y)\n",
    "print(model.feature_importances_)\n",
    "modfeat = model.feature_importances_"
   ]
  },
  {
   "cell_type": "code",
   "execution_count": 52,
   "metadata": {},
   "outputs": [
    {
     "name": "stdout",
     "output_type": "stream",
     "text": [
      "58\n"
     ]
    }
   ],
   "source": [
    "print(len(modfeat))"
   ]
  },
  {
   "cell_type": "code",
   "execution_count": 53,
   "metadata": {},
   "outputs": [],
   "source": [
    "modcol = X.columns"
   ]
  },
  {
   "cell_type": "code",
   "execution_count": 54,
   "metadata": {},
   "outputs": [],
   "source": [
    "d = {'Features': modcol, 'Importance': modfeat}\n",
    "dfex = pd.DataFrame(data=d)\n",
    "#print(dfex)"
   ]
  },
  {
   "cell_type": "code",
   "execution_count": 55,
   "metadata": {},
   "outputs": [
    {
     "name": "stdout",
     "output_type": "stream",
     "text": [
      "                             Features  Importance\n",
      "42                    LAD_mean_encode    0.266872\n",
      "51     Typical_Chest_Pain_mean_encode    0.156601\n",
      "44                    RCA_mean_encode    0.106341\n",
      "43                    LCX_mean_encode    0.093347\n",
      "45                     DM_mean_encode    0.029054\n",
      "34               Atypical_mean_encode    0.028204\n",
      "56             Tinversion_mean_encode    0.025489\n",
      "46                    HTN_mean_encode    0.024951\n",
      "0                                 Age    0.022280\n",
      "57            Region_RWMA_mean_encode    0.014760\n",
      "20                             EF-TTE    0.012253\n",
      "13                                 HB    0.011926\n",
      "12                                ESR    0.010376\n",
      "1                              Weight    0.010286\n",
      "3                                 BMI    0.009928\n",
      "2                              Length    0.009595\n",
      "6                                 FBS    0.009552\n",
      "41                    VHD_mean_encode    0.008611\n",
      "8                                  TG    0.008254\n",
      "16                                WBC    0.008027\n",
      "52         Function_Class_mean_encode    0.008017\n",
      "15                                 Na    0.007842\n",
      "4                                  BP    0.007201\n",
      "18                               Neut    0.006647\n",
      "55          St_Depression_mean_encode    0.006438\n",
      "10                                HDL    0.006378\n",
      "7                                  CR    0.005788\n",
      "11                                BUN    0.005658\n",
      "17                              Lymph    0.005574\n",
      "5                                  PR    0.005401\n",
      "14                                  K    0.005345\n",
      "38                    LVH_mean_encode    0.005232\n",
      "47         Current_Smoker_mean_encode    0.005153\n",
      "28                    DLP_mean_encode    0.005077\n",
      "19                                PLT    0.004917\n",
      "30             Lung_rales_mean_encode    0.004528\n",
      "33                Dyspnea_mean_encode    0.004246\n",
      "53                 Q_Wave_mean_encode    0.003840\n",
      "21                    Sex_mean_encode    0.003818\n",
      "49                     FH_mean_encode    0.003767\n",
      "54           St_Elevation_mean_encode    0.003160\n",
      "9                                 LDL    0.003066\n",
      "35             Nonanginal_mean_encode    0.003009\n",
      "50                  Edema_mean_encode    0.002545\n",
      "22                Obesity_mean_encode    0.002248\n",
      "26        Thyroid_Disease_mean_encode    0.001637\n",
      "24                    CVA_mean_encode    0.001411\n",
      "32       Diastolic_Murmur_mean_encode    0.001272\n",
      "39     Poor_R_Progression_mean_encode    0.001144\n",
      "25         Airway_disease_mean_encode    0.000896\n",
      "31        Systolic_Murmur_mean_encode    0.000772\n",
      "40                    BBB_mean_encode    0.000752\n",
      "29  Weak_Peripheral_Pulse_mean_encode    0.000498\n",
      "48              EX-Smoker_mean_encode    0.000013\n",
      "37              LowTH_Ang_mean_encode    0.000000\n",
      "36          Exertional_CP_mean_encode    0.000000\n",
      "27                    CHF_mean_encode    0.000000\n",
      "23                    CRF_mean_encode    0.000000\n"
     ]
    }
   ],
   "source": [
    "print(dfex.sort_values(by='Importance', ascending=False))"
   ]
  },
  {
   "cell_type": "code",
   "execution_count": null,
   "metadata": {},
   "outputs": [],
   "source": []
  },
  {
   "cell_type": "code",
   "execution_count": null,
   "metadata": {},
   "outputs": [],
   "source": []
  }
 ],
 "metadata": {
  "kernelspec": {
   "display_name": "Python 3",
   "language": "python",
   "name": "python3"
  },
  "language_info": {
   "codemirror_mode": {
    "name": "ipython",
    "version": 3
   },
   "file_extension": ".py",
   "mimetype": "text/x-python",
   "name": "python",
   "nbconvert_exporter": "python",
   "pygments_lexer": "ipython3",
   "version": "3.6.8"
  }
 },
 "nbformat": 4,
 "nbformat_minor": 4
}
