{
 "cells": [
  {
   "cell_type": "code",
   "execution_count": 69,
   "metadata": {},
   "outputs": [
    {
     "name": "stdout",
     "output_type": "stream",
     "text": [
      "     Age  Weight  Length    Sex        BMI  DM  HTN  Current_Smoker  \\\n",
      "0     53      90     175   Male  29.387755   0    1               1   \n",
      "1     67      70     157  Fmale  28.398718   0    1               0   \n",
      "2     54      54     164   Male  20.077335   0    0               1   \n",
      "3     66      67     158  Fmale  26.838648   0    1               0   \n",
      "4     50      87     153  Fmale  37.165193   0    1               0   \n",
      "..   ...     ...     ...    ...        ...  ..  ...             ...   \n",
      "298   58      84     168   Male  29.761905   0    0               0   \n",
      "299   55      64     152  Fmale  27.700831   0    0               0   \n",
      "300   48      77     160  Fmale  30.078125   0    1               0   \n",
      "301   57      90     159  Fmale  35.599858   1    0               0   \n",
      "302   56      85     170  Fmale  29.411765   0    1               1   \n",
      "\n",
      "     EX-Smoker  FH  ... Lymph Neut  PLT EF-TTE Region_RWMA     VHD       LAD  \\\n",
      "0            0   0  ...    39   52  261     50           0       N  Stenotic   \n",
      "1            0   0  ...    38   55  165     40           4       N  Stenotic   \n",
      "2            0   0  ...    38   60  230     40           2    mild  Stenotic   \n",
      "3            0   0  ...    18   72  742     55           0  Severe    Normal   \n",
      "4            0   0  ...    55   39  274     50           0  Severe    Normal   \n",
      "..         ...  ..  ...   ...  ...  ...    ...         ...     ...       ...   \n",
      "298          0   0  ...    34   58  251     45           0       N  Stenotic   \n",
      "299          0   0  ...    16   80  377     40           0    mild    Normal   \n",
      "300          0   1  ...    35   55  279     55           0       N    Normal   \n",
      "301          0   0  ...    48   40  208     55           0       N    Normal   \n",
      "302          0   0  ...    32   55  302     55           0       N  Stenotic   \n",
      "\n",
      "          LCX       RCA    Cath  \n",
      "0      Normal  Stenotic     CAD  \n",
      "1    Stenotic    Normal     CAD  \n",
      "2      Normal    Normal     CAD  \n",
      "3      Normal    Normal  Normal  \n",
      "4      Normal    Normal  Normal  \n",
      "..        ...       ...     ...  \n",
      "298  Stenotic  Stenotic     CAD  \n",
      "299    Normal    Normal  Normal  \n",
      "300    Normal    Normal  Normal  \n",
      "301    Normal    Normal  Normal  \n",
      "302    Normal    Normal     CAD  \n",
      "\n",
      "[303 rows x 59 columns]\n"
     ]
    }
   ],
   "source": [
    "import pandas as pd\n",
    "\n",
    "df = pd.read_excel ('extention_of_Z_Alizadeh_sani_dataset.xls')\n",
    "print(df)"
   ]
  },
  {
   "cell_type": "code",
   "execution_count": 70,
   "metadata": {},
   "outputs": [
    {
     "name": "stdout",
     "output_type": "stream",
     "text": [
      "     Age  Weight  Length    Sex        BMI  DM  HTN  Current_Smoker  \\\n",
      "0     53      90     175   Male  29.387755   0    1               1   \n",
      "1     67      70     157  Fmale  28.398718   0    1               0   \n",
      "2     54      54     164   Male  20.077335   0    0               1   \n",
      "3     66      67     158  Fmale  26.838648   0    1               0   \n",
      "4     50      87     153  Fmale  37.165193   0    1               0   \n",
      "..   ...     ...     ...    ...        ...  ..  ...             ...   \n",
      "298   58      84     168   Male  29.761905   0    0               0   \n",
      "299   55      64     152  Fmale  27.700831   0    0               0   \n",
      "300   48      77     160  Fmale  30.078125   0    1               0   \n",
      "301   57      90     159  Fmale  35.599858   1    0               0   \n",
      "302   56      85     170  Fmale  29.411765   0    1               1   \n",
      "\n",
      "     EX-Smoker  FH  ... Exertional_CP_Ordinal LowTH_Ang_Ordinal LVH_Ordinal  \\\n",
      "0            0   0  ...                     2                 2           2   \n",
      "1            0   0  ...                     2                 2           2   \n",
      "2            0   0  ...                     2                 2           2   \n",
      "3            0   0  ...                     2                 2           2   \n",
      "4            0   0  ...                     2                 2           2   \n",
      "..         ...  ..  ...                   ...               ...         ...   \n",
      "298          0   0  ...                     2                 2           2   \n",
      "299          0   0  ...                     2                 2           2   \n",
      "300          0   1  ...                     2                 2           2   \n",
      "301          0   0  ...                     2                 2           2   \n",
      "302          0   0  ...                     2                 2           2   \n",
      "\n",
      "    Poor_R_Progression_Ordinal BBB_Ordinal VHD_Ordinal LAD_Ordinal  \\\n",
      "0                            2           1           1           1   \n",
      "1                            2           1           1           1   \n",
      "2                            2           1           2           1   \n",
      "3                            2           1           4           2   \n",
      "4                            2           1           4           2   \n",
      "..                         ...         ...         ...         ...   \n",
      "298                          2           1           1           1   \n",
      "299                          2           2           2           2   \n",
      "300                          2           3           1           2   \n",
      "301                          2           1           1           2   \n",
      "302                          2           1           1           1   \n",
      "\n",
      "     LCX_Ordinal  RCA_Ordinal  Cath_Ordinal  \n",
      "0              2            1             1  \n",
      "1              1            2             1  \n",
      "2              2            2             1  \n",
      "3              2            2             2  \n",
      "4              2            2             2  \n",
      "..           ...          ...           ...  \n",
      "298            1            1             1  \n",
      "299            2            2             2  \n",
      "300            2            2             2  \n",
      "301            2            2             2  \n",
      "302            2            2             1  \n",
      "\n",
      "[303 rows x 84 columns]\n"
     ]
    }
   ],
   "source": [
    "Sex_dict={'Male':1,'Fmale':2}\n",
    "Obesity_dict={'Y':1,'N':2}\n",
    "LAD_dict={'Stenotic':1,'Normal':2}\n",
    "VHD_dict={'N':1,'mild':2,'Moderate':3,'Severe':4}\n",
    "Cath_dict={'CAD':1,'Normal':2}\n",
    "BBB_dict={'N':1,'LBBB':2,'RBBB':3}\n",
    "df['Sex_Ordinal']=df.Sex.map(Sex_dict)\n",
    "df['Obesity_Ordinal']=df.Obesity.map(Obesity_dict)\n",
    "df['CRF_Ordinal']=df.CRF.map(Obesity_dict)\n",
    "df['CVA_Ordinal']=df.CVA.map(Obesity_dict)\n",
    "df['Airway_disease_Ordinal']=df.Airway_disease.map(Obesity_dict)\n",
    "df['Thyroid_Disease_Ordinal']=df.Thyroid_Disease.map(Obesity_dict)\n",
    "df['CHF_Ordinal']=df.CHF.map(Obesity_dict)\n",
    "df['DLP_Ordinal']=df.DLP.map(Obesity_dict)\n",
    "df['Weak_Peripheral_Pulse_Ordinal']=df.Weak_Peripheral_Pulse.map(Obesity_dict)\n",
    "df['Lung_rales_Ordinal']=df.Lung_rales.map(Obesity_dict)\n",
    "df['Systolic_Murmur_Ordinal']=df.Systolic_Murmur.map(Obesity_dict)\n",
    "df['Diastolic_Murmur_Ordinal']=df.Diastolic_Murmur.map(Obesity_dict)\n",
    "df['Dyspnea_Ordinal']=df.Dyspnea.map(Obesity_dict)\n",
    "df['Atypical_Ordinal']=df.Atypical.map(Obesity_dict)\n",
    "df['Nonanginal_Ordinal']=df.Nonanginal.map(Obesity_dict)\n",
    "df['Exertional_CP_Ordinal']=df.Exertional_CP.map(Obesity_dict)\n",
    "df['LowTH_Ang_Ordinal']=df.LowTH_Ang.map(Obesity_dict)\n",
    "df['LVH_Ordinal']=df.LVH.map(Obesity_dict)\n",
    "df['Poor_R_Progression_Ordinal']=df.Poor_R_Progression.map(Obesity_dict)\n",
    "df['BBB_Ordinal']=df.BBB.map(BBB_dict)\n",
    "df['VHD_Ordinal']=df.VHD.map(VHD_dict)\n",
    "df['LAD_Ordinal']=df.LAD.map(LAD_dict)\n",
    "df['LCX_Ordinal']=df.LCX.map(LAD_dict)\n",
    "df['RCA_Ordinal']=df.RCA.map(LAD_dict)\n",
    "df['Cath_Ordinal']=df.Cath.map(Cath_dict)\n",
    "print(df)"
   ]
  },
  {
   "cell_type": "code",
   "execution_count": 71,
   "metadata": {},
   "outputs": [
    {
     "name": "stdout",
     "output_type": "stream",
     "text": [
      "     Age  Weight  Length        BMI  DM  HTN  Current_Smoker  EX-Smoker  FH  \\\n",
      "0     53      90     175  29.387755   0    1               1          0   0   \n",
      "1     67      70     157  28.398718   0    1               0          0   0   \n",
      "2     54      54     164  20.077335   0    0               1          0   0   \n",
      "3     66      67     158  26.838648   0    1               0          0   0   \n",
      "4     50      87     153  37.165193   0    1               0          0   0   \n",
      "..   ...     ...     ...        ...  ..  ...             ...        ...  ..   \n",
      "298   58      84     168  29.761905   0    0               0          0   0   \n",
      "299   55      64     152  27.700831   0    0               0          0   0   \n",
      "300   48      77     160  30.078125   0    1               0          0   1   \n",
      "301   57      90     159  35.599858   1    0               0          0   0   \n",
      "302   56      85     170  29.411765   0    1               1          0   0   \n",
      "\n",
      "      BP  ...  Exertional_CP_Ordinal  LowTH_Ang_Ordinal  LVH_Ordinal  \\\n",
      "0    110  ...                      2                  2            2   \n",
      "1    140  ...                      2                  2            2   \n",
      "2    100  ...                      2                  2            2   \n",
      "3    100  ...                      2                  2            2   \n",
      "4    110  ...                      2                  2            2   \n",
      "..   ...  ...                    ...                ...          ...   \n",
      "298  100  ...                      2                  2            2   \n",
      "299  100  ...                      2                  2            2   \n",
      "300  130  ...                      2                  2            2   \n",
      "301  100  ...                      2                  2            2   \n",
      "302  120  ...                      2                  2            2   \n",
      "\n",
      "     Poor_R_Progression_Ordinal  BBB_Ordinal  VHD_Ordinal  LAD_Ordinal  \\\n",
      "0                             2            1            1            1   \n",
      "1                             2            1            1            1   \n",
      "2                             2            1            2            1   \n",
      "3                             2            1            4            2   \n",
      "4                             2            1            4            2   \n",
      "..                          ...          ...          ...          ...   \n",
      "298                           2            1            1            1   \n",
      "299                           2            2            2            2   \n",
      "300                           2            3            1            2   \n",
      "301                           2            1            1            2   \n",
      "302                           2            1            1            1   \n",
      "\n",
      "     LCX_Ordinal  RCA_Ordinal  Cath_Ordinal  \n",
      "0              2            1             1  \n",
      "1              1            2             1  \n",
      "2              2            2             1  \n",
      "3              2            2             2  \n",
      "4              2            2             2  \n",
      "..           ...          ...           ...  \n",
      "298            1            1             1  \n",
      "299            2            2             2  \n",
      "300            2            2             2  \n",
      "301            2            2             2  \n",
      "302            2            2             1  \n",
      "\n",
      "[303 rows x 59 columns]\n"
     ]
    }
   ],
   "source": [
    "df=df.drop(['Sex', 'Obesity', 'CRF', 'CVA', 'Airway_disease', 'Thyroid_Disease', 'CHF', 'DLP', 'Weak_Peripheral_Pulse', 'Lung_rales', 'Systolic_Murmur', 'Diastolic_Murmur', 'Dyspnea', 'Atypical', 'Nonanginal', 'Exertional_CP', 'LowTH_Ang', 'LVH', 'Poor_R_Progression', 'BBB', 'VHD', 'LAD', 'LCX', 'RCA', 'Cath'], axis = 1)\n",
    "print(df)"
   ]
  },
  {
   "cell_type": "code",
   "execution_count": 72,
   "metadata": {},
   "outputs": [
    {
     "name": "stdout",
     "output_type": "stream",
     "text": [
      "0      1\n",
      "1      1\n",
      "2      1\n",
      "3      2\n",
      "4      2\n",
      "      ..\n",
      "298    1\n",
      "299    2\n",
      "300    2\n",
      "301    2\n",
      "302    1\n",
      "Name: Cath_Ordinal, Length: 303, dtype: int64\n",
      "     Age  Weight  Length        BMI  DM  HTN  Current_Smoker  EX-Smoker  FH  \\\n",
      "0     53      90     175  29.387755   0    1               1          0   0   \n",
      "1     67      70     157  28.398718   0    1               0          0   0   \n",
      "2     54      54     164  20.077335   0    0               1          0   0   \n",
      "3     66      67     158  26.838648   0    1               0          0   0   \n",
      "4     50      87     153  37.165193   0    1               0          0   0   \n",
      "..   ...     ...     ...        ...  ..  ...             ...        ...  ..   \n",
      "298   58      84     168  29.761905   0    0               0          0   0   \n",
      "299   55      64     152  27.700831   0    0               0          0   0   \n",
      "300   48      77     160  30.078125   0    1               0          0   1   \n",
      "301   57      90     159  35.599858   1    0               0          0   0   \n",
      "302   56      85     170  29.411765   0    1               1          0   0   \n",
      "\n",
      "      BP  ...  Nonanginal_Ordinal  Exertional_CP_Ordinal  LowTH_Ang_Ordinal  \\\n",
      "0    110  ...                   2                      2                  2   \n",
      "1    140  ...                   2                      2                  2   \n",
      "2    100  ...                   2                      2                  2   \n",
      "3    100  ...                   1                      2                  2   \n",
      "4    110  ...                   2                      2                  2   \n",
      "..   ...  ...                 ...                    ...                ...   \n",
      "298  100  ...                   2                      2                  2   \n",
      "299  100  ...                   2                      2                  2   \n",
      "300  130  ...                   1                      2                  2   \n",
      "301  100  ...                   2                      2                  2   \n",
      "302  120  ...                   2                      2                  2   \n",
      "\n",
      "     LVH_Ordinal  Poor_R_Progression_Ordinal  BBB_Ordinal  VHD_Ordinal  \\\n",
      "0              2                           2            1            1   \n",
      "1              2                           2            1            1   \n",
      "2              2                           2            1            2   \n",
      "3              2                           2            1            4   \n",
      "4              2                           2            1            4   \n",
      "..           ...                         ...          ...          ...   \n",
      "298            2                           2            1            1   \n",
      "299            2                           2            2            2   \n",
      "300            2                           2            3            1   \n",
      "301            2                           2            1            1   \n",
      "302            2                           2            1            1   \n",
      "\n",
      "     LAD_Ordinal  LCX_Ordinal  RCA_Ordinal  \n",
      "0              1            2            1  \n",
      "1              1            1            2  \n",
      "2              1            2            2  \n",
      "3              2            2            2  \n",
      "4              2            2            2  \n",
      "..           ...          ...          ...  \n",
      "298            1            1            1  \n",
      "299            2            2            2  \n",
      "300            2            2            2  \n",
      "301            2            2            2  \n",
      "302            1            2            2  \n",
      "\n",
      "[303 rows x 58 columns]\n"
     ]
    }
   ],
   "source": [
    "X = df.drop('Cath_Ordinal',axis = 1)\n",
    "y =df.iloc[:,-1].copy()\n",
    "print(y)\n",
    "print(X)"
   ]
  },
  {
   "cell_type": "code",
   "execution_count": 73,
   "metadata": {},
   "outputs": [],
   "source": [
    "selected_features=['LAD_Ordinal','RCA_Ordinal','Typical_Chest_Pain','LCX_Ordinal','Region_RWMA','Atypical_Ordinal','Nonanginal_Ordinal','HTN','Age','DM','BP','FBS','HDL','LDL','BMI','St_Depression','BUN','Lymph','TG','Neut']"
   ]
  },
  {
   "cell_type": "code",
   "execution_count": 74,
   "metadata": {},
   "outputs": [],
   "source": [
    "refinedX=X.filter(selected_features, axis=1)"
   ]
  },
  {
   "cell_type": "code",
   "execution_count": 75,
   "metadata": {},
   "outputs": [
    {
     "name": "stdout",
     "output_type": "stream",
     "text": [
      "     LAD_Ordinal  RCA_Ordinal  Typical_Chest_Pain  LCX_Ordinal  Region_RWMA  \\\n",
      "0              1            1                   0            2            0   \n",
      "1              1            2                   1            1            4   \n",
      "2              1            2                   1            2            2   \n",
      "3              2            2                   0            2            0   \n",
      "4              2            2                   0            2            0   \n",
      "..           ...          ...                 ...          ...          ...   \n",
      "298            1            1                   1            1            0   \n",
      "299            2            2                   0            2            0   \n",
      "300            2            2                   0            2            0   \n",
      "301            2            2                   0            2            0   \n",
      "302            1            2                   1            2            0   \n",
      "\n",
      "     Atypical_Ordinal  Nonanginal_Ordinal  HTN  Age  DM   BP  FBS   HDL  LDL  \\\n",
      "0                   2                   2    1   53   0  110   90  30.0  155   \n",
      "1                   2                   2    1   67   0  140   80  36.0  121   \n",
      "2                   2                   2    0   54   0  100   85  45.0   70   \n",
      "3                   2                   1    1   66   0  100   78  27.0   55   \n",
      "4                   2                   2    1   50   0  110  104  50.0  110   \n",
      "..                ...                 ...  ...  ...  ..  ...  ...   ...  ...   \n",
      "298                 2                   2    0   58   0  100   92  44.0  115   \n",
      "299                 1                   2    0   55   0  100   86  23.0   40   \n",
      "300                 2                   1    1   48   0  130   83  42.0  112   \n",
      "301                 1                   2    0   57   1  100   96  49.0  130   \n",
      "302                 2                   2    1   56   0  120   78  34.0  124   \n",
      "\n",
      "           BMI  St_Depression  BUN  Lymph   TG  Neut  \n",
      "0    29.387755              1    8     39  250    52  \n",
      "1    28.398718              1   30     38  309    55  \n",
      "2    20.077335              0   17     38  103    60  \n",
      "3    26.838648              1   30     18   63    72  \n",
      "4    37.165193              0   16     55  170    39  \n",
      "..         ...            ...  ...    ...  ...   ...  \n",
      "298  29.761905              0   13     34  112    58  \n",
      "299  27.700831              0   23     16  111    80  \n",
      "300  30.078125              0   13     35   93    55  \n",
      "301  35.599858              0   14     48  116    40  \n",
      "302  29.411765              0   16     32  139    55  \n",
      "\n",
      "[303 rows x 20 columns] 0      1\n",
      "1      1\n",
      "2      1\n",
      "3      2\n",
      "4      2\n",
      "      ..\n",
      "298    1\n",
      "299    2\n",
      "300    2\n",
      "301    2\n",
      "302    1\n",
      "Name: Cath_Ordinal, Length: 303, dtype: int64\n"
     ]
    }
   ],
   "source": [
    "print(refinedX,y)"
   ]
  },
  {
   "cell_type": "code",
   "execution_count": 76,
   "metadata": {},
   "outputs": [],
   "source": [
    "from sklearn.model_selection import train_test_split\n",
    "\n",
    "X_train, X_test, y_train, y_test = train_test_split(refinedX, y,train_size=0.75,random_state=0)"
   ]
  },
  {
   "cell_type": "code",
   "execution_count": 77,
   "metadata": {},
   "outputs": [],
   "source": [
    "from numpy import mean\n",
    "from numpy import std\n",
    "from sklearn.model_selection import cross_val_score\n",
    "from sklearn.model_selection import RepeatedStratifiedKFold\n",
    "from sklearn.svm import SVC\n",
    "from sklearn.neighbors import KNeighborsClassifier\n",
    "from sklearn.neural_network import MLPClassifier"
   ]
  },
  {
   "cell_type": "code",
   "execution_count": 78,
   "metadata": {},
   "outputs": [
    {
     "name": "stdout",
     "output_type": "stream",
     "text": [
      "Accuracy: 0.714 (0.019)\n"
     ]
    }
   ],
   "source": [
    "# define model model\n",
    "model1 = SVC()\n",
    "# define test harness\n",
    "cv = RepeatedStratifiedKFold(n_splits=10, n_repeats=3, random_state=1)\n",
    "# evaluate model\n",
    "m_scores = cross_val_score(model1,X_train, y_train, scoring='accuracy', cv=cv, n_jobs=-1, error_score='raise')\n",
    "print('Accuracy: %.3f (%.3f)' % (mean(m_scores), std(m_scores)))"
   ]
  },
  {
   "cell_type": "code",
   "execution_count": 79,
   "metadata": {},
   "outputs": [],
   "source": [
    "from skopt import BayesSearchCV\n",
    "# parameter ranges are specified by one of below\n",
    "from skopt.space import Real, Categorical, Integer\n",
    "\n"
   ]
  },
  {
   "cell_type": "code",
   "execution_count": 80,
   "metadata": {},
   "outputs": [
    {
     "name": "stderr",
     "output_type": "stream",
     "text": [
      "C:\\ProgramData\\Anaconda3\\lib\\site-packages\\skopt\\optimizer\\optimizer.py:449: UserWarning: The objective has been evaluated at this point before.\n",
      "  warnings.warn(\"The objective has been evaluated \"\n"
     ]
    },
    {
     "name": "stdout",
     "output_type": "stream",
     "text": [
      "val. score: 0.9955947136563876\n",
      "1.0\n",
      "best params: OrderedDict([('C', 2.2095350994035026), ('degree', 1), ('gamma', 0.0002488766453161173), ('kernel', 'linear')])\n"
     ]
    }
   ],
   "source": [
    "# log-uniform: understand as search over p = exp(x) by varying x\n",
    "opt = BayesSearchCV(SVC(),{'C': Real(1e-6, 1e+6, prior='log-uniform'),'gamma': Real(1e-6, 1e+1, prior='log-uniform'),'degree': Integer(1,8),'kernel': Categorical(['linear', 'poly', 'rbf']),},n_iter=32,random_state=0)\n",
    "# executes bayesian optimization\n",
    "opt.fit(X_train, y_train)\n",
    "# model can be saved, used for predictions or scoring\n",
    "print(\"val. score: %s\" % opt.best_score_)\n",
    "print(opt.score(X_test, y_test))\n",
    "print(\"best params: %s\" % str(opt.best_params_))"
   ]
  },
  {
   "cell_type": "code",
   "execution_count": 81,
   "metadata": {},
   "outputs": [
    {
     "name": "stdout",
     "output_type": "stream",
     "text": [
      "val. score: 0.9955947136563876\n",
      "test score: 1.0\n",
      "best params: OrderedDict([('C', 2.2593073216609763), ('degree', 4), ('gamma', 0.006056757359233696), ('kernel', 'linear')])\n"
     ]
    }
   ],
   "source": [
    "opt = BayesSearchCV(\n",
    "    SVC(),\n",
    "    {\n",
    "        'C': (1e-6, 1e+6, 'log-uniform'),\n",
    "        'gamma': (1e-6, 1e+1, 'log-uniform'),\n",
    "        'degree': (1, 8),  # integer valued parameter\n",
    "        'kernel': ['linear', 'poly', 'rbf'],  # categorical parameter\n",
    "    },\n",
    "    n_iter=32,\n",
    "    cv=3\n",
    ")\n",
    "\n",
    "opt.fit(X_train, y_train)\n",
    "\n",
    "print(\"val. score: %s\" % opt.best_score_)\n",
    "print(\"test score: %s\" % opt.score(X_test, y_test))\n",
    "print(\"best params: %s\" % str(opt.best_params_))"
   ]
  },
  {
   "cell_type": "code",
   "execution_count": 82,
   "metadata": {},
   "outputs": [
    {
     "data": {
      "image/png": "[encoded data removed]",
      "text/plain": [
       "<Figure size 576x576 with 16 Axes>"
      ]
     },
     "metadata": {
      "needs_background": "light"
     },
     "output_type": "display_data"
    }
   ],
   "source": [
    "from skopt.plots import plot_objective, plot_histogram\n",
    "import matplotlib.pyplot as plt\n",
    "plot_objective(opt.optimizer_results_[0],\n",
    "                   dimensions=[\"C\", \"degree\", \"gamma\", \"kernel\"],\n",
    "                   n_minimum_search=int(1e8))\n",
    "plt.show()"
   ]
  },
  {
   "cell_type": "code",
   "execution_count": 83,
   "metadata": {},
   "outputs": [
    {
     "data": {
      "image/png": "[encoded data removed]",
      "text/plain": [
       "<Figure size 432x288 with 1 Axes>"
      ]
     },
     "metadata": {
      "needs_background": "light"
     },
     "output_type": "display_data"
    }
   ],
   "source": [
    "plot_histogram(opt.optimizer_results_[0], 1)\n",
    "plt.show()"
   ]
  },
  {
   "cell_type": "code",
   "execution_count": 84,
   "metadata": {},
   "outputs": [
    {
     "name": "stdout",
     "output_type": "stream",
     "text": [
      "Accuracy: 0.689 (0.068)\n"
     ]
    }
   ],
   "source": [
    "# define model model\n",
    "model2=KNeighborsClassifier(n_neighbors = 5, metric = 'minkowski', p = 2)\n",
    "# define test harness\n",
    "cv = RepeatedStratifiedKFold(n_splits=10, n_repeats=3, random_state=1)\n",
    "# evaluate model\n",
    "m_scores = cross_val_score(model2,X_train, y_train, scoring='accuracy', cv=cv, n_jobs=-1, error_score='raise')\n",
    "print('Accuracy: %.3f (%.3f)' % (mean(m_scores), std(m_scores)))"
   ]
  },
  {
   "cell_type": "code",
   "execution_count": 85,
   "metadata": {},
   "outputs": [
    {
     "name": "stdout",
     "output_type": "stream",
     "text": [
      "[0.6693675889328062, 0.7007905138339922, 0.6871541501976284, 0.700395256916996, 0.7049407114624506, 0.7136363636363636, 0.7134387351778656, 0.7225296442687748, 0.6962450592885376, 0.7096837944664032, 0.6916996047430831, 0.7136363636363636, 0.7140316205533597, 0.7187747035573123, 0.7187747035573122, 0.7138339920948618, 0.692094861660079, 0.7094861660079052, 0.7138339920948618, 0.7268774703557312, 0.7357707509881424, 0.7314229249011859, 0.7314229249011859, 0.7357707509881424, 0.7314229249011859, 0.7268774703557312, 0.7355731225296444, 0.7181818181818181, 0.7401185770750989, 0.7138339920948618]\n"
     ]
    }
   ],
   "source": [
    "# search for an optimal value of K for KNN\n",
    "\n",
    "# list of integers 1 to 30\n",
    "# integers we want to try\n",
    "k_range = range(1, 31)\n",
    "\n",
    "# list of scores from k_range\n",
    "k_scores = []\n",
    "\n",
    "# 1. we will loop through reasonable values of k\n",
    "for k in k_range:\n",
    "    # 2. run KNeighborsClassifier with k neighbours\n",
    "    knn = KNeighborsClassifier(n_neighbors=k)\n",
    "    # 3. obtain cross_val_score for KNeighborsClassifier with k neighbours\n",
    "    scores = cross_val_score(knn, X_train, y_train, cv=10, scoring='accuracy')\n",
    "    # 4. append mean of scores for k neighbors to k_scores list\n",
    "    k_scores.append(scores.mean())\n",
    "print(k_scores)"
   ]
  },
  {
   "cell_type": "code",
   "execution_count": 86,
   "metadata": {},
   "outputs": [
    {
     "data": {
      "text/plain": [
       "Text(0, 0.5, 'Cross-Validated Accuracy')"
      ]
     },
     "execution_count": 86,
     "metadata": {},
     "output_type": "execute_result"
    },
    {
     "data": {
      "image/png": "[encoded data removed]",
      "text/plain": [
       "<Figure size 432x288 with 1 Axes>"
      ]
     },
     "metadata": {
      "needs_background": "light"
     },
     "output_type": "display_data"
    }
   ],
   "source": [
    "# plot the value of K for KNN (x-axis) versus the cross-validated accuracy (y-axis)\n",
    "plt.plot(k_range, k_scores)\n",
    "plt.xlabel('Value of K for KNN')\n",
    "plt.ylabel('Cross-Validated Accuracy')"
   ]
  },
  {
   "cell_type": "code",
   "execution_count": 87,
   "metadata": {},
   "outputs": [
    {
     "name": "stdout",
     "output_type": "stream",
     "text": [
      "{'n_neighbors': range(1, 31), 'weights': ['uniform', 'distance']}\n"
     ]
    }
   ],
   "source": [
    "weight_options = ['uniform', 'distance']\n",
    "# create a parameter grid: map the parameter names to the values that should be searched\n",
    "# dictionary = dict(key=values, key=values)\n",
    "param_grid = dict(n_neighbors=k_range, weights=weight_options)\n",
    "print(param_grid)"
   ]
  },
  {
   "cell_type": "code",
   "execution_count": 88,
   "metadata": {},
   "outputs": [
    {
     "data": {
      "text/plain": [
       "GridSearchCV(cv=10, estimator=KNeighborsClassifier(n_neighbors=30),\n",
       "             param_grid={'n_neighbors': range(1, 31),\n",
       "                         'weights': ['uniform', 'distance']},\n",
       "             scoring='accuracy')"
      ]
     },
     "execution_count": 88,
     "metadata": {},
     "output_type": "execute_result"
    }
   ],
   "source": [
    "from sklearn.model_selection import GridSearchCV\n",
    "# instantiate and fit the grid\n",
    "# exhaustive grid-search because it's trying every combination\n",
    "# 10-fold cross-validation is being performed 30 x 2 = 60 times\n",
    "\n",
    "grid = GridSearchCV(knn, param_grid, cv=10, scoring='accuracy')\n",
    "grid.fit(X_train, y_train)"
   ]
  },
  {
   "cell_type": "code",
   "execution_count": 89,
   "metadata": {},
   "outputs": [
    {
     "name": "stdout",
     "output_type": "stream",
     "text": [
      "mean_test_score  :  [0.66936759 0.66936759 0.70079051 0.66936759 0.68715415 0.68715415\n",
      " 0.70039526 0.6958498  0.70494071 0.71818182 0.71363636 0.71343874\n",
      " 0.71343874 0.70909091 0.72252964 0.70039526 0.69624506 0.69624506\n",
      " 0.70968379 0.68735178 0.6916996  0.69604743 0.71363636 0.71343874\n",
      " 0.71403162 0.71798419 0.7187747  0.71363636 0.7187747  0.70948617\n",
      " 0.71383399 0.70494071 0.69209486 0.69189723 0.70948617 0.71403162\n",
      " 0.71383399 0.71383399 0.72687747 0.72687747 0.73577075 0.73577075\n",
      " 0.73142292 0.73142292 0.73142292 0.73142292 0.73577075 0.71403162\n",
      " 0.73142292 0.73142292 0.72687747 0.72252964 0.73557312 0.7312253\n",
      " 0.71818182 0.72252964 0.74011858 0.74011858 0.71383399 0.70513834]\n",
      "std_test_score  :  [0.06353102 0.06353102 0.03996006 0.06353102 0.03617249 0.03617249\n",
      " 0.03793437 0.0501482  0.06131612 0.0702246  0.05905388 0.04610295\n",
      " 0.06002182 0.05957638 0.06141255 0.04262732 0.06471872 0.06471872\n",
      " 0.06616541 0.03519563 0.05471132 0.04542704 0.06567958 0.05003553\n",
      " 0.08267415 0.05976129 0.05632966 0.05964615 0.06844938 0.05100193\n",
      " 0.03849242 0.04282705 0.06808178 0.06313263 0.03783953 0.04644942\n",
      " 0.03849242 0.0332204  0.03203532 0.02545958 0.0470011  0.0470011\n",
      " 0.04847702 0.0348684  0.05223115 0.04847702 0.0470011  0.04218384\n",
      " 0.03992339 0.0348684  0.03747444 0.03831343 0.04793702 0.04936757\n",
      " 0.01895998 0.02667911 0.04064858 0.04505972 0.01864004 0.03108238]\n",
      "param_n_neighbors  :  [1 1 2 2 3 3 4 4 5 5 6 6 7 7 8 8 9 9 10 10 11 11 12 12 13 13 14 14 15 15\n",
      " 16 16 17 17 18 18 19 19 20 20 21 21 22 22 23 23 24 24 25 25 26 26 27 27\n",
      " 28 28 29 29 30 30]\n"
     ]
    }
   ],
   "source": [
    "# view the complete results\n",
    "for i in ['mean_test_score', 'std_test_score', 'param_n_neighbors']:\n",
    "        print(i,\" : \",grid.cv_results_[i])"
   ]
  },
  {
   "cell_type": "code",
   "execution_count": 90,
   "metadata": {},
   "outputs": [
    {
     "name": "stdout",
     "output_type": "stream",
     "text": [
      "0.7401185770750989\n",
      "{'n_neighbors': 29, 'weights': 'uniform'}\n"
     ]
    }
   ],
   "source": [
    "# examine the best model\n",
    "print(grid.best_score_)\n",
    "print(grid.best_params_)\n",
    "\n",
    "# Best score did not improve for this model"
   ]
  },
  {
   "cell_type": "code",
   "execution_count": 91,
   "metadata": {},
   "outputs": [
    {
     "name": "stdout",
     "output_type": "stream",
     "text": [
      "0.7236842105263158\n"
     ]
    }
   ],
   "source": [
    "from sklearn.metrics import accuracy_score\n",
    "# train your model using all data and the best known parameters\n",
    "\n",
    "# instantiate model with best parameters\n",
    "knn = KNeighborsClassifier(n_neighbors=29, weights='uniform')\n",
    "\n",
    "# fit with X and y, not X_train and y_train\n",
    "# even if we use train/test split, we should train on X and y before making predictions on new data\n",
    "# otherwise we throw away potential valuable data we can learn from\n",
    "knn.fit(X_train, y_train)\n",
    "\n",
    "# make a prediction on out-of-sample data\n",
    "res = knn.predict(X_test)\n",
    "print(accuracy_score(y_test, res))\n"
   ]
  },
  {
   "cell_type": "code",
   "execution_count": 92,
   "metadata": {},
   "outputs": [
    {
     "name": "stdout",
     "output_type": "stream",
     "text": [
      "0.7236842105263158\n"
     ]
    }
   ],
   "source": [
    "# shortcut: \n",
    "# GridSearchCV automatically refits the best model using all of the data\n",
    "# that best fitted model is stored in grid object \n",
    "# we can then use prediction using the best fitted model\n",
    "# code in this cell is the same as the top\n",
    "\n",
    "res2 = grid.predict(X_test)\n",
    "print(accuracy_score(y_test, res2))"
   ]
  },
  {
   "cell_type": "code",
   "execution_count": 93,
   "metadata": {},
   "outputs": [],
   "source": [
    "from sklearn.model_selection import RandomizedSearchCV"
   ]
  },
  {
   "cell_type": "code",
   "execution_count": 94,
   "metadata": {},
   "outputs": [],
   "source": [
    "# specify \"parameter distributions\" rather than a \"parameter grid\"\n",
    "\n",
    "# since both parameters are discrete, so param_dist is the same as param_grid\n",
    "param_dist = dict(n_neighbors=k_range, weights=weight_options)\n",
    "\n",
    "# if parameters are continuous (like regularization)"
   ]
  },
  {
   "cell_type": "code",
   "execution_count": 95,
   "metadata": {},
   "outputs": [
    {
     "name": "stdout",
     "output_type": "stream",
     "text": [
      "mean_test_score  :  [0.70494071 0.73142292 0.70948617 0.73557312 0.74011858 0.68735178\n",
      " 0.73142292 0.7187747  0.71343874 0.7187747 ]\n",
      "std_test_score  :  [0.04282705 0.04847702 0.03783953 0.04793702 0.04064858 0.03519563\n",
      " 0.0348684  0.05632966 0.05003553 0.06844938]\n",
      "param_n_neighbors  :  [16 22 18 27 29 10 22 14 12 15]\n"
     ]
    }
   ],
   "source": [
    "# n_iter controls the number of searches\n",
    "\n",
    "# instantiate model\n",
    "# 2 new params\n",
    "# n_iter --> controls number of random combinations it will try\n",
    "# random_state for reproducibility \n",
    "rand = RandomizedSearchCV(knn, param_dist, cv=10, scoring='accuracy', n_iter=10, random_state=5)\n",
    "\n",
    "# fit\n",
    "rand.fit(X_train,y_train)\n",
    "\n",
    "# scores\n",
    "# view the complete results\n",
    "for i in ['mean_test_score', 'std_test_score', 'param_n_neighbors']:\n",
    "        print(i,\" : \",rand.cv_results_[i])"
   ]
  },
  {
   "cell_type": "code",
   "execution_count": 96,
   "metadata": {},
   "outputs": [
    {
     "name": "stdout",
     "output_type": "stream",
     "text": [
      "0.7401185770750989\n",
      "{'weights': 'uniform', 'n_neighbors': 29}\n",
      "KNeighborsClassifier(n_neighbors=29)\n"
     ]
    }
   ],
   "source": [
    "# examine the best model\n",
    "print(rand.best_score_)\n",
    "print(rand.best_params_)\n",
    "print(rand.best_estimator_)"
   ]
  },
  {
   "cell_type": "code",
   "execution_count": 97,
   "metadata": {},
   "outputs": [
    {
     "name": "stdout",
     "output_type": "stream",
     "text": [
      "[0.7361290322580645, 0.7361290322580645, 0.7425806451612903, 0.7358064516129033, 0.7395698924731182, 0.7390322580645161, 0.7362365591397849, 0.7391397849462366, 0.749247311827957, 0.739247311827957, 0.7425806451612903, 0.7394623655913979, 0.7356989247311828, 0.7395698924731182, 0.7391397849462366, 0.7361290322580645, 0.749247311827957, 0.7394623655913979, 0.7391397849462366, 0.739247311827957]\n"
     ]
    }
   ],
   "source": [
    "# run RandomizedSearchCV 20 times (with n_iter=10) and record the best score\n",
    "\n",
    "best_scores = []\n",
    "\n",
    "for _ in list(range(20)):\n",
    "    rand = RandomizedSearchCV(knn, param_dist, cv=10, scoring='accuracy', n_iter=10)\n",
    "    rand.fit(refinedX,y)\n",
    "    best_scores.append(rand.best_score_)\n",
    "\n",
    "print(best_scores)"
   ]
  },
  {
   "cell_type": "code",
   "execution_count": 98,
   "metadata": {},
   "outputs": [
    {
     "name": "stdout",
     "output_type": "stream",
     "text": [
      "Accuracy: 0.738 (0.060)\n"
     ]
    }
   ],
   "source": [
    "# define model model\n",
    "model3 = MLPClassifier(solver='lbfgs', alpha=1e-5,hidden_layer_sizes=(5, 2), random_state=1)\n",
    "# define test harness\n",
    "cv = RepeatedStratifiedKFold(n_splits=10, n_repeats=3, random_state=1)\n",
    "# evaluate model\n",
    "m_scores = cross_val_score(model3,X_train, y_train, scoring='accuracy', cv=cv, n_jobs=-1, error_score='raise')\n",
    "print('Accuracy: %.3f (%.3f)' % (mean(m_scores), std(m_scores)))"
   ]
  },
  {
   "cell_type": "code",
   "execution_count": 99,
   "metadata": {},
   "outputs": [
    {
     "name": "stderr",
     "output_type": "stream",
     "text": [
      "C:\\ProgramData\\Anaconda3\\lib\\site-packages\\sklearn\\neural_network\\_multilayer_perceptron.py:582: ConvergenceWarning: Stochastic Optimizer: Maximum iterations (200) reached and the optimization hasn't converged yet.\n",
      "  warnings.warn(\n"
     ]
    },
    {
     "data": {
      "text/plain": [
       "GridSearchCV(cv=5,\n",
       "             estimator=MLPClassifier(alpha=1e-05, hidden_layer_sizes=(5, 2),\n",
       "                                     random_state=1, solver='lbfgs'),\n",
       "             n_jobs=-1,\n",
       "             param_grid={'activation': ['tanh', 'relu'],\n",
       "                         'alpha': [0.0001, 0.05],\n",
       "                         'hidden_layer_sizes': [(10, 30, 10), (20,)],\n",
       "                         'learning_rate': ['constant', 'adaptive'],\n",
       "                         'solver': ['sgd', 'adam']})"
      ]
     },
     "execution_count": 99,
     "metadata": {},
     "output_type": "execute_result"
    }
   ],
   "source": [
    "#mlp_gs = MLPClassifier(max_iter=100)\n",
    "parameter_space = {\n",
    "    'hidden_layer_sizes': [(10,30,10),(20,)],\n",
    "    'activation': ['tanh', 'relu'],\n",
    "    'solver': ['sgd', 'adam'],\n",
    "    'alpha': [0.0001, 0.05],\n",
    "    'learning_rate': ['constant','adaptive'],\n",
    "}\n",
    "from sklearn.model_selection import GridSearchCV\n",
    "clf = GridSearchCV(model3, parameter_space, n_jobs=-1, cv=5)\n",
    "clf.fit(X_train,y_train) # X is train samples and y is the corresponding labels"
   ]
  },
  {
   "cell_type": "code",
   "execution_count": 100,
   "metadata": {},
   "outputs": [
    {
     "name": "stdout",
     "output_type": "stream",
     "text": [
      "Best parameters found:\n",
      " {'activation': 'relu', 'alpha': 0.0001, 'hidden_layer_sizes': (20,), 'learning_rate': 'constant', 'solver': 'sgd'}\n"
     ]
    }
   ],
   "source": [
    "print('Best parameters found:\\n', clf.best_params_)"
   ]
  },
  {
   "cell_type": "code",
   "execution_count": 101,
   "metadata": {},
   "outputs": [
    {
     "name": "stdout",
     "output_type": "stream",
     "text": [
      "0.714 (+/-0.006) for {'activation': 'tanh', 'alpha': 0.0001, 'hidden_layer_sizes': (10, 30, 10), 'learning_rate': 'constant', 'solver': 'sgd'}\n",
      "0.714 (+/-0.006) for {'activation': 'tanh', 'alpha': 0.0001, 'hidden_layer_sizes': (10, 30, 10), 'learning_rate': 'constant', 'solver': 'adam'}\n",
      "0.714 (+/-0.006) for {'activation': 'tanh', 'alpha': 0.0001, 'hidden_layer_sizes': (10, 30, 10), 'learning_rate': 'adaptive', 'solver': 'sgd'}\n",
      "0.714 (+/-0.006) for {'activation': 'tanh', 'alpha': 0.0001, 'hidden_layer_sizes': (10, 30, 10), 'learning_rate': 'adaptive', 'solver': 'adam'}\n",
      "0.696 (+/-0.080) for {'activation': 'tanh', 'alpha': 0.0001, 'hidden_layer_sizes': (20,), 'learning_rate': 'constant', 'solver': 'sgd'}\n",
      "0.696 (+/-0.055) for {'activation': 'tanh', 'alpha': 0.0001, 'hidden_layer_sizes': (20,), 'learning_rate': 'constant', 'solver': 'adam'}\n",
      "0.696 (+/-0.080) for {'activation': 'tanh', 'alpha': 0.0001, 'hidden_layer_sizes': (20,), 'learning_rate': 'adaptive', 'solver': 'sgd'}\n",
      "0.696 (+/-0.055) for {'activation': 'tanh', 'alpha': 0.0001, 'hidden_layer_sizes': (20,), 'learning_rate': 'adaptive', 'solver': 'adam'}\n",
      "0.714 (+/-0.006) for {'activation': 'tanh', 'alpha': 0.05, 'hidden_layer_sizes': (10, 30, 10), 'learning_rate': 'constant', 'solver': 'sgd'}\n",
      "0.714 (+/-0.006) for {'activation': 'tanh', 'alpha': 0.05, 'hidden_layer_sizes': (10, 30, 10), 'learning_rate': 'constant', 'solver': 'adam'}\n",
      "0.714 (+/-0.006) for {'activation': 'tanh', 'alpha': 0.05, 'hidden_layer_sizes': (10, 30, 10), 'learning_rate': 'adaptive', 'solver': 'sgd'}\n",
      "0.714 (+/-0.006) for {'activation': 'tanh', 'alpha': 0.05, 'hidden_layer_sizes': (10, 30, 10), 'learning_rate': 'adaptive', 'solver': 'adam'}\n",
      "0.696 (+/-0.080) for {'activation': 'tanh', 'alpha': 0.05, 'hidden_layer_sizes': (20,), 'learning_rate': 'constant', 'solver': 'sgd'}\n",
      "0.691 (+/-0.066) for {'activation': 'tanh', 'alpha': 0.05, 'hidden_layer_sizes': (20,), 'learning_rate': 'constant', 'solver': 'adam'}\n",
      "0.696 (+/-0.080) for {'activation': 'tanh', 'alpha': 0.05, 'hidden_layer_sizes': (20,), 'learning_rate': 'adaptive', 'solver': 'sgd'}\n",
      "0.691 (+/-0.066) for {'activation': 'tanh', 'alpha': 0.05, 'hidden_layer_sizes': (20,), 'learning_rate': 'adaptive', 'solver': 'adam'}\n",
      "0.687 (+/-0.035) for {'activation': 'relu', 'alpha': 0.0001, 'hidden_layer_sizes': (10, 30, 10), 'learning_rate': 'constant', 'solver': 'sgd'}\n",
      "0.714 (+/-0.029) for {'activation': 'relu', 'alpha': 0.0001, 'hidden_layer_sizes': (10, 30, 10), 'learning_rate': 'constant', 'solver': 'adam'}\n",
      "0.687 (+/-0.035) for {'activation': 'relu', 'alpha': 0.0001, 'hidden_layer_sizes': (10, 30, 10), 'learning_rate': 'adaptive', 'solver': 'sgd'}\n",
      "0.714 (+/-0.029) for {'activation': 'relu', 'alpha': 0.0001, 'hidden_layer_sizes': (10, 30, 10), 'learning_rate': 'adaptive', 'solver': 'adam'}\n",
      "0.736 (+/-0.056) for {'activation': 'relu', 'alpha': 0.0001, 'hidden_layer_sizes': (20,), 'learning_rate': 'constant', 'solver': 'sgd'}\n",
      "0.714 (+/-0.006) for {'activation': 'relu', 'alpha': 0.0001, 'hidden_layer_sizes': (20,), 'learning_rate': 'constant', 'solver': 'adam'}\n",
      "0.736 (+/-0.056) for {'activation': 'relu', 'alpha': 0.0001, 'hidden_layer_sizes': (20,), 'learning_rate': 'adaptive', 'solver': 'sgd'}\n",
      "0.714 (+/-0.006) for {'activation': 'relu', 'alpha': 0.0001, 'hidden_layer_sizes': (20,), 'learning_rate': 'adaptive', 'solver': 'adam'}\n",
      "0.687 (+/-0.035) for {'activation': 'relu', 'alpha': 0.05, 'hidden_layer_sizes': (10, 30, 10), 'learning_rate': 'constant', 'solver': 'sgd'}\n",
      "0.718 (+/-0.043) for {'activation': 'relu', 'alpha': 0.05, 'hidden_layer_sizes': (10, 30, 10), 'learning_rate': 'constant', 'solver': 'adam'}\n",
      "0.687 (+/-0.035) for {'activation': 'relu', 'alpha': 0.05, 'hidden_layer_sizes': (10, 30, 10), 'learning_rate': 'adaptive', 'solver': 'sgd'}\n",
      "0.718 (+/-0.043) for {'activation': 'relu', 'alpha': 0.05, 'hidden_layer_sizes': (10, 30, 10), 'learning_rate': 'adaptive', 'solver': 'adam'}\n",
      "0.736 (+/-0.056) for {'activation': 'relu', 'alpha': 0.05, 'hidden_layer_sizes': (20,), 'learning_rate': 'constant', 'solver': 'sgd'}\n",
      "0.714 (+/-0.006) for {'activation': 'relu', 'alpha': 0.05, 'hidden_layer_sizes': (20,), 'learning_rate': 'constant', 'solver': 'adam'}\n",
      "0.736 (+/-0.056) for {'activation': 'relu', 'alpha': 0.05, 'hidden_layer_sizes': (20,), 'learning_rate': 'adaptive', 'solver': 'sgd'}\n",
      "0.714 (+/-0.006) for {'activation': 'relu', 'alpha': 0.05, 'hidden_layer_sizes': (20,), 'learning_rate': 'adaptive', 'solver': 'adam'}\n"
     ]
    }
   ],
   "source": [
    "means = clf.cv_results_['mean_test_score']\n",
    "stds = clf.cv_results_['std_test_score']\n",
    "for mean, std, params in zip(means, stds, clf.cv_results_['params']):\n",
    "    print(\"%0.3f (+/-%0.03f) for %r\" % (mean, std * 2, params))"
   ]
  },
  {
   "cell_type": "code",
   "execution_count": 102,
   "metadata": {},
   "outputs": [
    {
     "name": "stdout",
     "output_type": "stream",
     "text": [
      "Results on the test set:\n",
      "              precision    recall  f1-score   support\n",
      "\n",
      "           1       0.73      0.91      0.81        54\n",
      "           2       0.44      0.18      0.26        22\n",
      "\n",
      "    accuracy                           0.70        76\n",
      "   macro avg       0.59      0.54      0.53        76\n",
      "weighted avg       0.65      0.70      0.65        76\n",
      "\n"
     ]
    }
   ],
   "source": [
    "y_true, y_pred = y_test , clf.predict(X_test)\n",
    "from sklearn.metrics import classification_report\n",
    "print('Results on the test set:')\n",
    "print(classification_report(y_true, y_pred))"
   ]
  },
  {
   "cell_type": "code",
   "execution_count": null,
   "metadata": {},
   "outputs": [],
   "source": []
  }
 ],
 "metadata": {
  "kernelspec": {
   "display_name": "Python 3",
   "language": "python",
   "name": "python3"
  },
  "language_info": {
   "codemirror_mode": {
    "name": "ipython",
    "version": 3
   },
   "file_extension": ".py",
   "mimetype": "text/x-python",
   "name": "python",
   "nbconvert_exporter": "python",
   "pygments_lexer": "ipython3",
   "version": "3.8.3"
  }
 },
 "nbformat": 4,
 "nbformat_minor": 4
}
