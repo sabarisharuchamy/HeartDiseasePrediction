{
 "cells": [
  {
   "cell_type": "code",
   "execution_count": 51,
   "metadata": {},
   "outputs": [
    {
     "name": "stdout",
     "output_type": "stream",
     "text": [
      "     Age  Weight  Length    Sex        BMI  DM  HTN  Current_Smoker  \\\n",
      "0     53      90     175   Male  29.387755   0    1               1   \n",
      "1     67      70     157  Fmale  28.398718   0    1               0   \n",
      "2     54      54     164   Male  20.077335   0    0               1   \n",
      "3     66      67     158  Fmale  26.838648   0    1               0   \n",
      "4     50      87     153  Fmale  37.165193   0    1               0   \n",
      "..   ...     ...     ...    ...        ...  ..  ...             ...   \n",
      "298   58      84     168   Male  29.761905   0    0               0   \n",
      "299   55      64     152  Fmale  27.700831   0    0               0   \n",
      "300   48      77     160  Fmale  30.078125   0    1               0   \n",
      "301   57      90     159  Fmale  35.599858   1    0               0   \n",
      "302   56      85     170  Fmale  29.411765   0    1               1   \n",
      "\n",
      "     EX-Smoker  FH  ... Lymph Neut  PLT EF-TTE Region_RWMA     VHD       LAD  \\\n",
      "0            0   0  ...    39   52  261     50           0       N  Stenotic   \n",
      "1            0   0  ...    38   55  165     40           4       N  Stenotic   \n",
      "2            0   0  ...    38   60  230     40           2    mild  Stenotic   \n",
      "3            0   0  ...    18   72  742     55           0  Severe    Normal   \n",
      "4            0   0  ...    55   39  274     50           0  Severe    Normal   \n",
      "..         ...  ..  ...   ...  ...  ...    ...         ...     ...       ...   \n",
      "298          0   0  ...    34   58  251     45           0       N  Stenotic   \n",
      "299          0   0  ...    16   80  377     40           0    mild    Normal   \n",
      "300          0   1  ...    35   55  279     55           0       N    Normal   \n",
      "301          0   0  ...    48   40  208     55           0       N    Normal   \n",
      "302          0   0  ...    32   55  302     55           0       N  Stenotic   \n",
      "\n",
      "          LCX       RCA    Cath  \n",
      "0      Normal  Stenotic     CAD  \n",
      "1    Stenotic    Normal     CAD  \n",
      "2      Normal    Normal     CAD  \n",
      "3      Normal    Normal  Normal  \n",
      "4      Normal    Normal  Normal  \n",
      "..        ...       ...     ...  \n",
      "298  Stenotic  Stenotic     CAD  \n",
      "299    Normal    Normal  Normal  \n",
      "300    Normal    Normal  Normal  \n",
      "301    Normal    Normal  Normal  \n",
      "302    Normal    Normal     CAD  \n",
      "\n",
      "[303 rows x 59 columns]\n"
     ]
    }
   ],
   "source": [
    "import pandas as pd\n",
    "\n",
    "df = pd.read_excel ('extention_of_Z_Alizadeh_sani_dataset.xls')\n",
    "print(df)"
   ]
  },
  {
   "cell_type": "code",
   "execution_count": 52,
   "metadata": {},
   "outputs": [
    {
     "name": "stdout",
     "output_type": "stream",
     "text": [
      "<class 'pandas.core.frame.DataFrame'>\n",
      "RangeIndex: 303 entries, 0 to 302\n",
      "Data columns (total 59 columns):\n",
      " #   Column                 Non-Null Count  Dtype  \n",
      "---  ------                 --------------  -----  \n",
      " 0   Age                    303 non-null    int64  \n",
      " 1   Weight                 303 non-null    int64  \n",
      " 2   Length                 303 non-null    int64  \n",
      " 3   Sex                    303 non-null    object \n",
      " 4   BMI                    303 non-null    float64\n",
      " 5   DM                     303 non-null    int64  \n",
      " 6   HTN                    303 non-null    int64  \n",
      " 7   Current_Smoker         303 non-null    int64  \n",
      " 8   EX-Smoker              303 non-null    int64  \n",
      " 9   FH                     303 non-null    int64  \n",
      " 10  Obesity                303 non-null    object \n",
      " 11  CRF                    303 non-null    object \n",
      " 12  CVA                    303 non-null    object \n",
      " 13  Airway_disease         303 non-null    object \n",
      " 14  Thyroid_Disease        303 non-null    object \n",
      " 15  CHF                    303 non-null    object \n",
      " 16  DLP                    303 non-null    object \n",
      " 17  BP                     303 non-null    int64  \n",
      " 18  PR                     303 non-null    int64  \n",
      " 19  Edema                  303 non-null    int64  \n",
      " 20  Weak_Peripheral_Pulse  303 non-null    object \n",
      " 21  Lung_rales             303 non-null    object \n",
      " 22  Systolic_Murmur        303 non-null    object \n",
      " 23  Diastolic_Murmur       303 non-null    object \n",
      " 24  Typical_Chest_Pain     303 non-null    int64  \n",
      " 25  Dyspnea                303 non-null    object \n",
      " 26  Function_Class         303 non-null    int64  \n",
      " 27  Atypical               303 non-null    object \n",
      " 28  Nonanginal             303 non-null    object \n",
      " 29  Exertional_CP          303 non-null    object \n",
      " 30  LowTH_Ang              303 non-null    object \n",
      " 31  Q_Wave                 303 non-null    int64  \n",
      " 32  St_Elevation           303 non-null    int64  \n",
      " 33  St_Depression          303 non-null    int64  \n",
      " 34  Tinversion             303 non-null    int64  \n",
      " 35  LVH                    303 non-null    object \n",
      " 36  Poor_R_Progression     303 non-null    object \n",
      " 37  BBB                    303 non-null    object \n",
      " 38  FBS                    303 non-null    int64  \n",
      " 39  CR                     303 non-null    float64\n",
      " 40  TG                     303 non-null    int64  \n",
      " 41  LDL                    303 non-null    int64  \n",
      " 42  HDL                    303 non-null    float64\n",
      " 43  BUN                    303 non-null    int64  \n",
      " 44  ESR                    303 non-null    int64  \n",
      " 45  HB                     303 non-null    float64\n",
      " 46  K                      303 non-null    float64\n",
      " 47  Na                     303 non-null    int64  \n",
      " 48  WBC                    303 non-null    int64  \n",
      " 49  Lymph                  303 non-null    int64  \n",
      " 50  Neut                   303 non-null    int64  \n",
      " 51  PLT                    303 non-null    int64  \n",
      " 52  EF-TTE                 303 non-null    int64  \n",
      " 53  Region_RWMA            303 non-null    int64  \n",
      " 54  VHD                    303 non-null    object \n",
      " 55  LAD                    303 non-null    object \n",
      " 56  LCX                    303 non-null    object \n",
      " 57  RCA                    303 non-null    object \n",
      " 58  Cath                   303 non-null    object \n",
      "dtypes: float64(5), int64(29), object(25)\n",
      "memory usage: 139.8+ KB\n",
      "None\n"
     ]
    }
   ],
   "source": [
    "print(df.info())"
   ]
  },
  {
   "cell_type": "code",
   "execution_count": 53,
   "metadata": {},
   "outputs": [
    {
     "name": "stdout",
     "output_type": "stream",
     "text": [
      "<class 'pandas.core.frame.DataFrame'>\n",
      "RangeIndex: 303 entries, 0 to 302\n",
      "Data columns (total 25 columns):\n",
      " #   Column                 Non-Null Count  Dtype \n",
      "---  ------                 --------------  ----- \n",
      " 0   Sex                    303 non-null    object\n",
      " 1   Obesity                303 non-null    object\n",
      " 2   CRF                    303 non-null    object\n",
      " 3   CVA                    303 non-null    object\n",
      " 4   Airway_disease         303 non-null    object\n",
      " 5   Thyroid_Disease        303 non-null    object\n",
      " 6   CHF                    303 non-null    object\n",
      " 7   DLP                    303 non-null    object\n",
      " 8   Weak_Peripheral_Pulse  303 non-null    object\n",
      " 9   Lung_rales             303 non-null    object\n",
      " 10  Systolic_Murmur        303 non-null    object\n",
      " 11  Diastolic_Murmur       303 non-null    object\n",
      " 12  Dyspnea                303 non-null    object\n",
      " 13  Atypical               303 non-null    object\n",
      " 14  Nonanginal             303 non-null    object\n",
      " 15  Exertional_CP          303 non-null    object\n",
      " 16  LowTH_Ang              303 non-null    object\n",
      " 17  LVH                    303 non-null    object\n",
      " 18  Poor_R_Progression     303 non-null    object\n",
      " 19  BBB                    303 non-null    object\n",
      " 20  VHD                    303 non-null    object\n",
      " 21  LAD                    303 non-null    object\n",
      " 22  LCX                    303 non-null    object\n",
      " 23  RCA                    303 non-null    object\n",
      " 24  Cath                   303 non-null    object\n",
      "dtypes: object(25)\n",
      "memory usage: 59.3+ KB\n",
      "None\n"
     ]
    }
   ],
   "source": [
    "heartdtinfo=df.select_dtypes(include=['object'], exclude=['int64','float64'])\n",
    "print(heartdtinfo.info())"
   ]
  },
  {
   "cell_type": "code",
   "execution_count": 54,
   "metadata": {},
   "outputs": [
    {
     "name": "stdout",
     "output_type": "stream",
     "text": [
      "              Age      Weight      Length         BMI          DM         HTN  \\\n",
      "count  303.000000  303.000000  303.000000  303.000000  303.000000  303.000000   \n",
      "mean    58.897690   73.831683  164.716172   27.248339    0.297030    0.590759   \n",
      "std     10.392278   11.987358    9.327661    4.098865    0.457706    0.492507   \n",
      "min     30.000000   48.000000  140.000000   18.115413    0.000000    0.000000   \n",
      "25%     51.000000   65.000000  158.000000   24.514380    0.000000    0.000000   \n",
      "50%     58.000000   74.000000  165.000000   26.775510    0.000000    1.000000   \n",
      "75%     66.000000   81.000000  171.000000   29.411765    1.000000    1.000000   \n",
      "max     86.000000  120.000000  188.000000   40.900658    1.000000    1.000000   \n",
      "\n",
      "       Current_Smoker   EX-Smoker          FH          BP  ...         ESR  \\\n",
      "count      303.000000  303.000000  303.000000  303.000000  ...  303.000000   \n",
      "mean         0.207921    0.033003    0.158416  129.554455  ...   19.462046   \n",
      "std          0.406491    0.178941    0.365734   18.938105  ...   15.936475   \n",
      "min          0.000000    0.000000    0.000000   90.000000  ...    1.000000   \n",
      "25%          0.000000    0.000000    0.000000  120.000000  ...    9.000000   \n",
      "50%          0.000000    0.000000    0.000000  130.000000  ...   15.000000   \n",
      "75%          0.000000    0.000000    0.000000  140.000000  ...   26.000000   \n",
      "max          1.000000    1.000000    1.000000  190.000000  ...   90.000000   \n",
      "\n",
      "               HB           K          Na           WBC       Lymph  \\\n",
      "count  303.000000  303.000000  303.000000    303.000000  303.000000   \n",
      "mean    13.153465    4.230693  140.996700   7562.046205   32.399340   \n",
      "std      1.610452    0.458202    3.807885   2413.739323    9.972592   \n",
      "min      8.900000    3.000000  128.000000   3700.000000    7.000000   \n",
      "25%     12.200000    3.900000  139.000000   5800.000000   26.000000   \n",
      "50%     13.200000    4.200000  141.000000   7100.000000   32.000000   \n",
      "75%     14.200000    4.500000  143.000000   8800.000000   39.000000   \n",
      "max     17.600000    6.600000  156.000000  18000.000000   60.000000   \n",
      "\n",
      "             Neut         PLT      EF-TTE  Region_RWMA  \n",
      "count  303.000000  303.000000  303.000000   303.000000  \n",
      "mean    60.148515  221.488449   47.231023     0.620462  \n",
      "std     10.182493   60.796199    8.927194     1.132531  \n",
      "min     32.000000   25.000000   15.000000     0.000000  \n",
      "25%     52.500000  183.500000   45.000000     0.000000  \n",
      "50%     60.000000  210.000000   50.000000     0.000000  \n",
      "75%     67.000000  250.000000   55.000000     1.000000  \n",
      "max     89.000000  742.000000   60.000000     4.000000  \n",
      "\n",
      "[8 rows x 34 columns]\n"
     ]
    }
   ],
   "source": [
    "print(df.describe())"
   ]
  },
  {
   "cell_type": "code",
   "execution_count": 55,
   "metadata": {},
   "outputs": [
    {
     "name": "stdout",
     "output_type": "stream",
     "text": [
      "Age                      0\n",
      "Weight                   0\n",
      "Length                   0\n",
      "Sex                      0\n",
      "BMI                      0\n",
      "DM                       0\n",
      "HTN                      0\n",
      "Current_Smoker           0\n",
      "EX-Smoker                0\n",
      "FH                       0\n",
      "Obesity                  0\n",
      "CRF                      0\n",
      "CVA                      0\n",
      "Airway_disease           0\n",
      "Thyroid_Disease          0\n",
      "CHF                      0\n",
      "DLP                      0\n",
      "BP                       0\n",
      "PR                       0\n",
      "Edema                    0\n",
      "Weak_Peripheral_Pulse    0\n",
      "Lung_rales               0\n",
      "Systolic_Murmur          0\n",
      "Diastolic_Murmur         0\n",
      "Typical_Chest_Pain       0\n",
      "Dyspnea                  0\n",
      "Function_Class           0\n",
      "Atypical                 0\n",
      "Nonanginal               0\n",
      "Exertional_CP            0\n",
      "LowTH_Ang                0\n",
      "Q_Wave                   0\n",
      "St_Elevation             0\n",
      "St_Depression            0\n",
      "Tinversion               0\n",
      "LVH                      0\n",
      "Poor_R_Progression       0\n",
      "BBB                      0\n",
      "FBS                      0\n",
      "CR                       0\n",
      "TG                       0\n",
      "LDL                      0\n",
      "HDL                      0\n",
      "BUN                      0\n",
      "ESR                      0\n",
      "HB                       0\n",
      "K                        0\n",
      "Na                       0\n",
      "WBC                      0\n",
      "Lymph                    0\n",
      "Neut                     0\n",
      "PLT                      0\n",
      "EF-TTE                   0\n",
      "Region_RWMA              0\n",
      "VHD                      0\n",
      "LAD                      0\n",
      "LCX                      0\n",
      "RCA                      0\n",
      "Cath                     0\n",
      "dtype: int64\n"
     ]
    }
   ],
   "source": [
    "print(df.isnull().sum())"
   ]
  },
  {
   "cell_type": "code",
   "execution_count": 56,
   "metadata": {},
   "outputs": [
    {
     "name": "stdout",
     "output_type": "stream",
     "text": [
      "Sex 2 ['Male' 'Fmale']\n",
      "Obesity 2 ['Y' 'N']\n",
      "CRF 2 ['N' 'Y']\n",
      "CVA 2 ['N' 'Y']\n",
      "Airway_disease 2 ['N' 'Y']\n",
      "Thyroid_Disease 2 ['N' 'Y']\n",
      "CHF 2 ['N' 'Y']\n",
      "DLP 2 ['Y' 'N']\n",
      "Weak_Peripheral_Pulse 2 ['N' 'Y']\n",
      "Lung_rales 2 ['N' 'Y']\n",
      "Systolic_Murmur 2 ['N' 'Y']\n",
      "Diastolic_Murmur 2 ['N' 'Y']\n",
      "Dyspnea 2 ['N' 'Y']\n",
      "Atypical 2 ['N' 'Y']\n",
      "Nonanginal 2 ['N' 'Y']\n",
      "Exertional_CP 1 ['N']\n",
      "LowTH_Ang 2 ['N' 'Y']\n",
      "LVH 2 ['N' 'Y']\n",
      "Poor_R_Progression 2 ['N' 'Y']\n",
      "BBB 3 ['N' 'LBBB' 'RBBB']\n",
      "VHD 4 ['N' 'mild' 'Severe' 'Moderate']\n",
      "LAD 2 ['Stenotic' 'Normal']\n",
      "LCX 2 ['Normal' 'Stenotic']\n",
      "RCA 2 ['Stenotic' 'Normal']\n",
      "Cath 2 ['CAD' 'Normal']\n"
     ]
    }
   ],
   "source": [
    "for x in heartdtinfo.columns:\n",
    "    print(x,len(heartdtinfo[x].unique().tolist()),heartdtinfo[x].unique())"
   ]
  },
  {
   "cell_type": "code",
   "execution_count": 57,
   "metadata": {},
   "outputs": [
    {
     "name": "stdout",
     "output_type": "stream",
     "text": [
      "     Age  Weight  Length    Sex        BMI  DM  HTN  Current_Smoker  \\\n",
      "0     53      90     175   Male  29.387755   0    1               1   \n",
      "1     67      70     157  Fmale  28.398718   0    1               0   \n",
      "2     54      54     164   Male  20.077335   0    0               1   \n",
      "3     66      67     158  Fmale  26.838648   0    1               0   \n",
      "4     50      87     153  Fmale  37.165193   0    1               0   \n",
      "..   ...     ...     ...    ...        ...  ..  ...             ...   \n",
      "298   58      84     168   Male  29.761905   0    0               0   \n",
      "299   55      64     152  Fmale  27.700831   0    0               0   \n",
      "300   48      77     160  Fmale  30.078125   0    1               0   \n",
      "301   57      90     159  Fmale  35.599858   1    0               0   \n",
      "302   56      85     170  Fmale  29.411765   0    1               1   \n",
      "\n",
      "     EX-Smoker  FH  ... Exertional_CP_Ordinal LowTH_Ang_Ordinal LVH_Ordinal  \\\n",
      "0            0   0  ...                     2                 2           2   \n",
      "1            0   0  ...                     2                 2           2   \n",
      "2            0   0  ...                     2                 2           2   \n",
      "3            0   0  ...                     2                 2           2   \n",
      "4            0   0  ...                     2                 2           2   \n",
      "..         ...  ..  ...                   ...               ...         ...   \n",
      "298          0   0  ...                     2                 2           2   \n",
      "299          0   0  ...                     2                 2           2   \n",
      "300          0   1  ...                     2                 2           2   \n",
      "301          0   0  ...                     2                 2           2   \n",
      "302          0   0  ...                     2                 2           2   \n",
      "\n",
      "    Poor_R_Progression_Ordinal BBB_Ordinal VHD_Ordinal LAD_Ordinal  \\\n",
      "0                            2           1           1           1   \n",
      "1                            2           1           1           1   \n",
      "2                            2           1           2           1   \n",
      "3                            2           1           4           2   \n",
      "4                            2           1           4           2   \n",
      "..                         ...         ...         ...         ...   \n",
      "298                          2           1           1           1   \n",
      "299                          2           2           2           2   \n",
      "300                          2           3           1           2   \n",
      "301                          2           1           1           2   \n",
      "302                          2           1           1           1   \n",
      "\n",
      "     LCX_Ordinal  RCA_Ordinal  Cath_Ordinal  \n",
      "0              2            1             1  \n",
      "1              1            2             1  \n",
      "2              2            2             1  \n",
      "3              2            2             2  \n",
      "4              2            2             2  \n",
      "..           ...          ...           ...  \n",
      "298            1            1             1  \n",
      "299            2            2             2  \n",
      "300            2            2             2  \n",
      "301            2            2             2  \n",
      "302            2            2             1  \n",
      "\n",
      "[303 rows x 84 columns]\n"
     ]
    }
   ],
   "source": [
    "Sex_dict={'Male':1,'Fmale':2}\n",
    "Obesity_dict={'Y':1,'N':2}\n",
    "LAD_dict={'Stenotic':1,'Normal':2}\n",
    "VHD_dict={'N':1,'mild':2,'Moderate':3,'Severe':4}\n",
    "Cath_dict={'CAD':1,'Normal':2}\n",
    "BBB_dict={'N':1,'LBBB':2,'RBBB':3}\n",
    "df['Sex_Ordinal']=df.Sex.map(Sex_dict)\n",
    "df['Obesity_Ordinal']=df.Obesity.map(Obesity_dict)\n",
    "df['CRF_Ordinal']=df.CRF.map(Obesity_dict)\n",
    "df['CVA_Ordinal']=df.CVA.map(Obesity_dict)\n",
    "df['Airway_disease_Ordinal']=df.Airway_disease.map(Obesity_dict)\n",
    "df['Thyroid_Disease_Ordinal']=df.Thyroid_Disease.map(Obesity_dict)\n",
    "df['CHF_Ordinal']=df.CHF.map(Obesity_dict)\n",
    "df['DLP_Ordinal']=df.DLP.map(Obesity_dict)\n",
    "df['Weak_Peripheral_Pulse_Ordinal']=df.Weak_Peripheral_Pulse.map(Obesity_dict)\n",
    "df['Lung_rales_Ordinal']=df.Lung_rales.map(Obesity_dict)\n",
    "df['Systolic_Murmur_Ordinal']=df.Systolic_Murmur.map(Obesity_dict)\n",
    "df['Diastolic_Murmur_Ordinal']=df.Diastolic_Murmur.map(Obesity_dict)\n",
    "df['Dyspnea_Ordinal']=df.Dyspnea.map(Obesity_dict)\n",
    "df['Atypical_Ordinal']=df.Atypical.map(Obesity_dict)\n",
    "df['Nonanginal_Ordinal']=df.Nonanginal.map(Obesity_dict)\n",
    "df['Exertional_CP_Ordinal']=df.Exertional_CP.map(Obesity_dict)\n",
    "df['LowTH_Ang_Ordinal']=df.LowTH_Ang.map(Obesity_dict)\n",
    "df['LVH_Ordinal']=df.LVH.map(Obesity_dict)\n",
    "df['Poor_R_Progression_Ordinal']=df.Poor_R_Progression.map(Obesity_dict)\n",
    "df['BBB_Ordinal']=df.BBB.map(BBB_dict)\n",
    "df['VHD_Ordinal']=df.VHD.map(VHD_dict)\n",
    "df['LAD_Ordinal']=df.LAD.map(LAD_dict)\n",
    "df['LCX_Ordinal']=df.LCX.map(LAD_dict)\n",
    "df['RCA_Ordinal']=df.RCA.map(LAD_dict)\n",
    "df['Cath_Ordinal']=df.Cath.map(Cath_dict)\n",
    "print(df)"
   ]
  },
  {
   "cell_type": "code",
   "execution_count": 58,
   "metadata": {},
   "outputs": [
    {
     "name": "stdout",
     "output_type": "stream",
     "text": [
      "     Age  Weight  Length        BMI  DM  HTN  Current_Smoker  EX-Smoker  FH  \\\n",
      "0     53      90     175  29.387755   0    1               1          0   0   \n",
      "1     67      70     157  28.398718   0    1               0          0   0   \n",
      "2     54      54     164  20.077335   0    0               1          0   0   \n",
      "3     66      67     158  26.838648   0    1               0          0   0   \n",
      "4     50      87     153  37.165193   0    1               0          0   0   \n",
      "..   ...     ...     ...        ...  ..  ...             ...        ...  ..   \n",
      "298   58      84     168  29.761905   0    0               0          0   0   \n",
      "299   55      64     152  27.700831   0    0               0          0   0   \n",
      "300   48      77     160  30.078125   0    1               0          0   1   \n",
      "301   57      90     159  35.599858   1    0               0          0   0   \n",
      "302   56      85     170  29.411765   0    1               1          0   0   \n",
      "\n",
      "      BP  ...  Exertional_CP_Ordinal  LowTH_Ang_Ordinal  LVH_Ordinal  \\\n",
      "0    110  ...                      2                  2            2   \n",
      "1    140  ...                      2                  2            2   \n",
      "2    100  ...                      2                  2            2   \n",
      "3    100  ...                      2                  2            2   \n",
      "4    110  ...                      2                  2            2   \n",
      "..   ...  ...                    ...                ...          ...   \n",
      "298  100  ...                      2                  2            2   \n",
      "299  100  ...                      2                  2            2   \n",
      "300  130  ...                      2                  2            2   \n",
      "301  100  ...                      2                  2            2   \n",
      "302  120  ...                      2                  2            2   \n",
      "\n",
      "     Poor_R_Progression_Ordinal  BBB_Ordinal  VHD_Ordinal  LAD_Ordinal  \\\n",
      "0                             2            1            1            1   \n",
      "1                             2            1            1            1   \n",
      "2                             2            1            2            1   \n",
      "3                             2            1            4            2   \n",
      "4                             2            1            4            2   \n",
      "..                          ...          ...          ...          ...   \n",
      "298                           2            1            1            1   \n",
      "299                           2            2            2            2   \n",
      "300                           2            3            1            2   \n",
      "301                           2            1            1            2   \n",
      "302                           2            1            1            1   \n",
      "\n",
      "     LCX_Ordinal  RCA_Ordinal  Cath_Ordinal  \n",
      "0              2            1             1  \n",
      "1              1            2             1  \n",
      "2              2            2             1  \n",
      "3              2            2             2  \n",
      "4              2            2             2  \n",
      "..           ...          ...           ...  \n",
      "298            1            1             1  \n",
      "299            2            2             2  \n",
      "300            2            2             2  \n",
      "301            2            2             2  \n",
      "302            2            2             1  \n",
      "\n",
      "[303 rows x 59 columns]\n"
     ]
    }
   ],
   "source": [
    "df=df.drop(['Sex', 'Obesity', 'CRF', 'CVA', 'Airway_disease', 'Thyroid_Disease', 'CHF', 'DLP', 'Weak_Peripheral_Pulse', 'Lung_rales', 'Systolic_Murmur', 'Diastolic_Murmur', 'Dyspnea', 'Atypical', 'Nonanginal', 'Exertional_CP', 'LowTH_Ang', 'LVH', 'Poor_R_Progression', 'BBB', 'VHD', 'LAD', 'LCX', 'RCA', 'Cath'], axis = 1)\n",
    "print(df)"
   ]
  },
  {
   "cell_type": "code",
   "execution_count": 59,
   "metadata": {},
   "outputs": [
    {
     "name": "stdout",
     "output_type": "stream",
     "text": [
      "0      1\n",
      "1      1\n",
      "2      1\n",
      "3      2\n",
      "4      2\n",
      "      ..\n",
      "298    1\n",
      "299    2\n",
      "300    2\n",
      "301    2\n",
      "302    1\n",
      "Name: Cath_Ordinal, Length: 303, dtype: int64\n",
      "     Age  Weight  Length        BMI  DM  HTN  Current_Smoker  EX-Smoker  FH  \\\n",
      "0     53      90     175  29.387755   0    1               1          0   0   \n",
      "1     67      70     157  28.398718   0    1               0          0   0   \n",
      "2     54      54     164  20.077335   0    0               1          0   0   \n",
      "3     66      67     158  26.838648   0    1               0          0   0   \n",
      "4     50      87     153  37.165193   0    1               0          0   0   \n",
      "..   ...     ...     ...        ...  ..  ...             ...        ...  ..   \n",
      "298   58      84     168  29.761905   0    0               0          0   0   \n",
      "299   55      64     152  27.700831   0    0               0          0   0   \n",
      "300   48      77     160  30.078125   0    1               0          0   1   \n",
      "301   57      90     159  35.599858   1    0               0          0   0   \n",
      "302   56      85     170  29.411765   0    1               1          0   0   \n",
      "\n",
      "      BP  ...  Nonanginal_Ordinal  Exertional_CP_Ordinal  LowTH_Ang_Ordinal  \\\n",
      "0    110  ...                   2                      2                  2   \n",
      "1    140  ...                   2                      2                  2   \n",
      "2    100  ...                   2                      2                  2   \n",
      "3    100  ...                   1                      2                  2   \n",
      "4    110  ...                   2                      2                  2   \n",
      "..   ...  ...                 ...                    ...                ...   \n",
      "298  100  ...                   2                      2                  2   \n",
      "299  100  ...                   2                      2                  2   \n",
      "300  130  ...                   1                      2                  2   \n",
      "301  100  ...                   2                      2                  2   \n",
      "302  120  ...                   2                      2                  2   \n",
      "\n",
      "     LVH_Ordinal  Poor_R_Progression_Ordinal  BBB_Ordinal  VHD_Ordinal  \\\n",
      "0              2                           2            1            1   \n",
      "1              2                           2            1            1   \n",
      "2              2                           2            1            2   \n",
      "3              2                           2            1            4   \n",
      "4              2                           2            1            4   \n",
      "..           ...                         ...          ...          ...   \n",
      "298            2                           2            1            1   \n",
      "299            2                           2            2            2   \n",
      "300            2                           2            3            1   \n",
      "301            2                           2            1            1   \n",
      "302            2                           2            1            1   \n",
      "\n",
      "     LAD_Ordinal  LCX_Ordinal  RCA_Ordinal  \n",
      "0              1            2            1  \n",
      "1              1            1            2  \n",
      "2              1            2            2  \n",
      "3              2            2            2  \n",
      "4              2            2            2  \n",
      "..           ...          ...          ...  \n",
      "298            1            1            1  \n",
      "299            2            2            2  \n",
      "300            2            2            2  \n",
      "301            2            2            2  \n",
      "302            1            2            2  \n",
      "\n",
      "[303 rows x 58 columns]\n"
     ]
    }
   ],
   "source": [
    "X = df.drop('Cath_Ordinal',axis = 1)\n",
    "y =df.iloc[:,-1].copy() \n",
    "#X = df.drop('Cath',axis = 1)\n",
    "#y = df['Cath']\n",
    "print(y)\n",
    "print(X)"
   ]
  },
  {
   "cell_type": "code",
   "execution_count": 60,
   "metadata": {},
   "outputs": [
    {
     "name": "stdout",
     "output_type": "stream",
     "text": [
      "303 58\n",
      "(303,)\n"
     ]
    }
   ],
   "source": [
    "import numpy as np\n",
    "n_samples, n_features = np.shape(X)\n",
    "print(n_samples, n_features)\n",
    "n_labels = np.shape(y)\n",
    "print(n_labels)"
   ]
  },
  {
   "cell_type": "code",
   "execution_count": 61,
   "metadata": {},
   "outputs": [],
   "source": [
    "from sklearn.model_selection import train_test_split"
   ]
  },
  {
   "cell_type": "code",
   "execution_count": 62,
   "metadata": {},
   "outputs": [
    {
     "name": "stdout",
     "output_type": "stream",
     "text": [
      "     Age  Weight  Length        BMI  DM  HTN  Current_Smoker  EX-Smoker  FH  \\\n",
      "69    80      57     154  24.034407   0    0               0          0   0   \n",
      "118   49      80     160  31.250000   1    1               0          0   0   \n",
      "49    61      70     162  26.672763   1    1               0          0   0   \n",
      "16    41      68     169  23.808690   0    0               1          0   0   \n",
      "54    56      68     166  24.677021   0    0               0          0   0   \n",
      "..   ...     ...     ...        ...  ..  ...             ...        ...  ..   \n",
      "268   56      72     163  27.099251   0    0               0          0   0   \n",
      "193   64      74     153  31.611773   1    0               0          0   0   \n",
      "165   70      64     150  28.444444   0    1               0          0   1   \n",
      "7     72      80     175  26.122449   1    0               1          0   0   \n",
      "219   50      65     170  22.491349   0    0               1          0   1   \n",
      "\n",
      "      BP  ...  Nonanginal_Ordinal  Exertional_CP_Ordinal  LowTH_Ang_Ordinal  \\\n",
      "69   130  ...                   2                      2                  2   \n",
      "118  140  ...                   2                      2                  2   \n",
      "49   140  ...                   2                      2                  2   \n",
      "16   130  ...                   2                      2                  2   \n",
      "54   110  ...                   1                      2                  2   \n",
      "..   ...  ...                 ...                    ...                ...   \n",
      "268  120  ...                   2                      2                  2   \n",
      "193  110  ...                   2                      2                  2   \n",
      "165  100  ...                   2                      2                  2   \n",
      "7    130  ...                   2                      2                  2   \n",
      "219  130  ...                   2                      2                  2   \n",
      "\n",
      "     LVH_Ordinal  Poor_R_Progression_Ordinal  BBB_Ordinal  VHD_Ordinal  \\\n",
      "69             2                           2            3            3   \n",
      "118            2                           2            1            1   \n",
      "49             2                           2            1            2   \n",
      "16             2                           2            1            4   \n",
      "54             2                           2            1            4   \n",
      "..           ...                         ...          ...          ...   \n",
      "268            2                           2            1            2   \n",
      "193            2                           2            1            2   \n",
      "165            2                           2            1            2   \n",
      "7              2                           2            1            2   \n",
      "219            2                           2            1            1   \n",
      "\n",
      "     LAD_Ordinal  LCX_Ordinal  RCA_Ordinal  \n",
      "69             1            1            1  \n",
      "118            1            2            2  \n",
      "49             2            2            1  \n",
      "16             2            2            2  \n",
      "54             2            2            2  \n",
      "..           ...          ...          ...  \n",
      "268            2            2            2  \n",
      "193            2            2            2  \n",
      "165            1            2            2  \n",
      "7              1            1            1  \n",
      "219            1            1            1  \n",
      "\n",
      "[242 rows x 58 columns]\n",
      "     Age  Weight  Length        BMI  DM  HTN  Current_Smoker  EX-Smoker  FH  \\\n",
      "18    60      89     163  33.497685   1    1               0          0   0   \n",
      "112   65      76     173  25.393431   1    1               0          0   0   \n",
      "102   56      88     172  29.745809   0    0               1          0   0   \n",
      "275   60      65     160  25.390625   0    1               0          0   0   \n",
      "92    59      75     168  26.573129   0    1               1          0   1   \n",
      "..   ...     ...     ...        ...  ..  ...             ...        ...  ..   \n",
      "288   67      68     150  30.222222   0    1               0          0   0   \n",
      "146   63      84     175  27.428571   1    1               0          0   0   \n",
      "240   67      64     174  21.138856   1    1               0          0   0   \n",
      "167   42      70     160  27.343750   0    1               0          0   0   \n",
      "90    56      82     175  26.775510   0    0               1          0   0   \n",
      "\n",
      "      BP  ...  Nonanginal_Ordinal  Exertional_CP_Ordinal  LowTH_Ang_Ordinal  \\\n",
      "18   110  ...                   2                      2                  2   \n",
      "112  130  ...                   2                      2                  2   \n",
      "102  105  ...                   2                      2                  2   \n",
      "275  140  ...                   2                      2                  2   \n",
      "92   110  ...                   2                      2                  2   \n",
      "..   ...  ...                 ...                    ...                ...   \n",
      "288  140  ...                   2                      2                  2   \n",
      "146  160  ...                   2                      2                  2   \n",
      "240  130  ...                   2                      2                  2   \n",
      "167  132  ...                   2                      2                  2   \n",
      "90   120  ...                   2                      2                  2   \n",
      "\n",
      "     LVH_Ordinal  Poor_R_Progression_Ordinal  BBB_Ordinal  VHD_Ordinal  \\\n",
      "18             2                           2            1            1   \n",
      "112            2                           2            1            2   \n",
      "102            2                           2            1            1   \n",
      "275            2                           2            1            2   \n",
      "92             2                           2            1            1   \n",
      "..           ...                         ...          ...          ...   \n",
      "288            1                           2            1            1   \n",
      "146            2                           2            1            2   \n",
      "240            2                           2            1            2   \n",
      "167            2                           2            1            2   \n",
      "90             2                           2            1            1   \n",
      "\n",
      "     LAD_Ordinal  LCX_Ordinal  RCA_Ordinal  \n",
      "18             1            2            1  \n",
      "112            2            1            1  \n",
      "102            2            2            2  \n",
      "275            1            2            1  \n",
      "92             1            1            1  \n",
      "..           ...          ...          ...  \n",
      "288            2            1            1  \n",
      "146            1            2            2  \n",
      "240            1            2            1  \n",
      "167            1            1            2  \n",
      "90             2            1            1  \n",
      "\n",
      "[61 rows x 58 columns]\n"
     ]
    }
   ],
   "source": [
    "X_train, X_test, y_train, y_test = train_test_split(X, y, test_size=0.2, random_state=40)\n",
    "print(X_train)\n",
    "print(X_test)\n"
   ]
  },
  {
   "cell_type": "code",
   "execution_count": 63,
   "metadata": {},
   "outputs": [
    {
     "name": "stdout",
     "output_type": "stream",
     "text": [
      "69     1\n",
      "118    1\n",
      "49     1\n",
      "16     2\n",
      "54     2\n",
      "      ..\n",
      "268    2\n",
      "193    2\n",
      "165    1\n",
      "7      1\n",
      "219    1\n",
      "Name: Cath_Ordinal, Length: 242, dtype: int64\n",
      "18     1\n",
      "112    1\n",
      "102    2\n",
      "275    1\n",
      "92     1\n",
      "      ..\n",
      "288    1\n",
      "146    1\n",
      "240    1\n",
      "167    1\n",
      "90     1\n",
      "Name: Cath_Ordinal, Length: 61, dtype: int64\n"
     ]
    }
   ],
   "source": [
    "print(y_train)\n",
    "print(y_test)"
   ]
  },
  {
   "cell_type": "code",
   "execution_count": 64,
   "metadata": {},
   "outputs": [
    {
     "name": "stdout",
     "output_type": "stream",
     "text": [
      "[1.36706188e-01 5.45957750e-03 2.66694122e-04 9.39965825e-03\n",
      " 4.88551313e-02 7.45438523e-02 5.20712644e-03 4.50686780e-03\n",
      " 3.20687123e-03 4.40225511e-02 2.22112493e-02 1.67308897e-03\n",
      " 3.90472061e-01 1.31526279e-02 2.16942149e-02 1.59712011e-02\n",
      " 1.67990047e-02 3.57880544e-02 3.74217962e-02 6.06930052e-03\n",
      " 1.82883939e-02 1.85215156e-03 4.78352632e-03 9.66217980e-03\n",
      " 3.19965711e-02 1.15627910e-03 3.21645061e-02 8.34640204e-03\n",
      " 3.96268549e-03 2.99397458e-02 2.74108357e-02 1.07103363e-02\n",
      " 5.41541056e-02 9.70279137e-02 8.51883387e-03 4.11750129e-03\n",
      " 6.88705234e-03 1.18633088e-04 9.19628317e-03 2.40311504e-04\n",
      " 1.69155672e-03 2.01476419e-03 5.13472541e-03 1.67308897e-03\n",
      " 5.15502371e-04 1.79303783e-02 1.61483611e-02 2.05249156e-01\n",
      " 9.36578907e-02            inf 1.69155672e-03 3.57839963e-03\n",
      " 1.04550433e-02 6.95652558e-05 4.20510149e-04 1.27156624e+00\n",
      " 3.48590803e-01 2.96062227e-01]\n"
     ]
    },
    {
     "name": "stderr",
     "output_type": "stream",
     "text": [
      "c:\\programdata\\miniconda3\\envs\\heartdis\\lib\\site-packages\\skfeature\\function\\similarity_based\\fisher_score.py:53: RuntimeWarning: divide by zero encountered in true_divide\n",
      "  score = 1.0/lap_score - 1\n"
     ]
    }
   ],
   "source": [
    "from skfeature.function.similarity_based import fisher_score  \n",
    "score = fisher_score.fisher_score(X_train.values, y_train.values)\n",
    "print(score)"
   ]
  },
  {
   "cell_type": "code",
   "execution_count": 65,
   "metadata": {},
   "outputs": [
    {
     "name": "stdout",
     "output_type": "stream",
     "text": [
      "[49 55 12 56 57 47  0 33 48  5 32  4  9 18 17 26 24 29 30 10 14 20 45 16\n",
      " 46 15 13 31 52 23  3 38 34 27 36 19  1  6 42 22  7 35 28 51  8 41 21 50\n",
      " 40 43 11 25 44 54  2 39 37 53]\n"
     ]
    }
   ],
   "source": [
    "idx = fisher_score.feature_ranking(score)\n",
    "print(idx)"
   ]
  },
  {
   "cell_type": "code",
   "execution_count": 66,
   "metadata": {},
   "outputs": [
    {
     "name": "stdout",
     "output_type": "stream",
     "text": [
      "Index(['Age', 'Weight', 'Length', 'BMI', 'DM', 'HTN', 'Current_Smoker',\n",
      "       'EX-Smoker', 'FH', 'BP', 'PR', 'Edema', 'Typical_Chest_Pain',\n",
      "       'Function_Class', 'Q_Wave', 'St_Elevation', 'St_Depression',\n",
      "       'Tinversion', 'FBS', 'CR', 'TG', 'LDL', 'HDL', 'BUN', 'ESR', 'HB', 'K',\n",
      "       'Na', 'WBC', 'Lymph', 'Neut', 'PLT', 'EF-TTE', 'Region_RWMA',\n",
      "       'Sex_Ordinal', 'Obesity_Ordinal', 'CRF_Ordinal', 'CVA_Ordinal',\n",
      "       'Airway_disease_Ordinal', 'Thyroid_Disease_Ordinal', 'CHF_Ordinal',\n",
      "       'DLP_Ordinal', 'Weak_Peripheral_Pulse_Ordinal', 'Lung_rales_Ordinal',\n",
      "       'Systolic_Murmur_Ordinal', 'Diastolic_Murmur_Ordinal',\n",
      "       'Dyspnea_Ordinal', 'Atypical_Ordinal', 'Nonanginal_Ordinal',\n",
      "       'Exertional_CP_Ordinal', 'LowTH_Ang_Ordinal', 'LVH_Ordinal',\n",
      "       'Poor_R_Progression_Ordinal', 'BBB_Ordinal', 'VHD_Ordinal',\n",
      "       'LAD_Ordinal', 'LCX_Ordinal', 'RCA_Ordinal', 'Cath_Ordinal'],\n",
      "      dtype='object')\n"
     ]
    }
   ],
   "source": [
    "print(df.columns)"
   ]
  },
  {
   "cell_type": "code",
   "execution_count": 67,
   "metadata": {},
   "outputs": [
    {
     "name": "stdout",
     "output_type": "stream",
     "text": [
      "Exertional_CP_Ordinal\n",
      "LAD_Ordinal\n",
      "Typical_Chest_Pain\n",
      "LCX_Ordinal\n",
      "RCA_Ordinal\n",
      "Atypical_Ordinal\n",
      "Age\n",
      "Region_RWMA\n",
      "Nonanginal_Ordinal\n",
      "HTN\n",
      "EF-TTE\n",
      "DM\n",
      "BP\n",
      "FBS\n",
      "Tinversion\n",
      "K\n",
      "ESR\n",
      "Lymph\n",
      "Neut\n",
      "PR\n",
      "Q_Wave\n",
      "TG\n",
      "Diastolic_Murmur_Ordinal\n",
      "St_Depression\n",
      "Dyspnea_Ordinal\n",
      "St_Elevation\n",
      "Function_Class\n",
      "PLT\n",
      "Poor_R_Progression_Ordinal\n",
      "BUN\n",
      "BMI\n",
      "Airway_disease_Ordinal\n",
      "Sex_Ordinal\n",
      "Na\n",
      "CRF_Ordinal\n",
      "CR\n",
      "Weight\n",
      "Current_Smoker\n",
      "Weak_Peripheral_Pulse_Ordinal\n",
      "HDL\n",
      "EX-Smoker\n",
      "Obesity_Ordinal\n",
      "WBC\n",
      "LVH_Ordinal\n",
      "FH\n",
      "DLP_Ordinal\n",
      "LDL\n",
      "LowTH_Ang_Ordinal\n",
      "CHF_Ordinal\n",
      "Lung_rales_Ordinal\n",
      "Edema\n",
      "HB\n",
      "Systolic_Murmur_Ordinal\n",
      "VHD_Ordinal\n",
      "Length\n",
      "Thyroid_Disease_Ordinal\n",
      "CVA_Ordinal\n",
      "BBB_Ordinal\n"
     ]
    }
   ],
   "source": [
    "for i in idx:\n",
    "    print(df.columns[i])"
   ]
  },
  {
   "cell_type": "code",
   "execution_count": 68,
   "metadata": {},
   "outputs": [
    {
     "name": "stdout",
     "output_type": "stream",
     "text": [
      "     Age  Weight  Length        BMI  DM  HTN  Current_Smoker  EX-Smoker  FH  \\\n",
      "0     53      90     175  29.387755   0    1               1          0   0   \n",
      "1     67      70     157  28.398718   0    1               0          0   0   \n",
      "2     54      54     164  20.077335   0    0               1          0   0   \n",
      "3     66      67     158  26.838648   0    1               0          0   0   \n",
      "4     50      87     153  37.165193   0    1               0          0   0   \n",
      "..   ...     ...     ...        ...  ..  ...             ...        ...  ..   \n",
      "298   58      84     168  29.761905   0    0               0          0   0   \n",
      "299   55      64     152  27.700831   0    0               0          0   0   \n",
      "300   48      77     160  30.078125   0    1               0          0   1   \n",
      "301   57      90     159  35.599858   1    0               0          0   0   \n",
      "302   56      85     170  29.411765   0    1               1          0   0   \n",
      "\n",
      "      BP  ...  Nonanginal_Ordinal  Exertional_CP_Ordinal  LowTH_Ang_Ordinal  \\\n",
      "0    110  ...                   2                      2                  2   \n",
      "1    140  ...                   2                      2                  2   \n",
      "2    100  ...                   2                      2                  2   \n",
      "3    100  ...                   1                      2                  2   \n",
      "4    110  ...                   2                      2                  2   \n",
      "..   ...  ...                 ...                    ...                ...   \n",
      "298  100  ...                   2                      2                  2   \n",
      "299  100  ...                   2                      2                  2   \n",
      "300  130  ...                   1                      2                  2   \n",
      "301  100  ...                   2                      2                  2   \n",
      "302  120  ...                   2                      2                  2   \n",
      "\n",
      "     LVH_Ordinal  Poor_R_Progression_Ordinal  BBB_Ordinal  VHD_Ordinal  \\\n",
      "0              2                           2            1            1   \n",
      "1              2                           2            1            1   \n",
      "2              2                           2            1            2   \n",
      "3              2                           2            1            4   \n",
      "4              2                           2            1            4   \n",
      "..           ...                         ...          ...          ...   \n",
      "298            2                           2            1            1   \n",
      "299            2                           2            2            2   \n",
      "300            2                           2            3            1   \n",
      "301            2                           2            1            1   \n",
      "302            2                           2            1            1   \n",
      "\n",
      "     LAD_Ordinal  LCX_Ordinal  RCA_Ordinal  \n",
      "0              1            2            1  \n",
      "1              1            1            2  \n",
      "2              1            2            2  \n",
      "3              2            2            2  \n",
      "4              2            2            2  \n",
      "..           ...          ...          ...  \n",
      "298            1            1            1  \n",
      "299            2            2            2  \n",
      "300            2            2            2  \n",
      "301            2            2            2  \n",
      "302            1            2            2  \n",
      "\n",
      "[303 rows x 58 columns] 0      1\n",
      "1      1\n",
      "2      1\n",
      "3      2\n",
      "4      2\n",
      "      ..\n",
      "298    1\n",
      "299    2\n",
      "300    2\n",
      "301    2\n",
      "302    1\n",
      "Name: Cath_Ordinal, Length: 303, dtype: int64\n"
     ]
    }
   ],
   "source": [
    "print(X,y)"
   ]
  },
  {
   "cell_type": "code",
   "execution_count": 69,
   "metadata": {},
   "outputs": [],
   "source": [
    "from sklearn.decomposition import PCA\n",
    "import matplotlib.pyplot as plt\n",
    "pca = PCA(n_components=2)\n",
    "X_pca = pca.fit_transform(X, y)"
   ]
  },
  {
   "cell_type": "code",
   "execution_count": 70,
   "metadata": {},
   "outputs": [
    {
     "data": {
      "text/plain": [
       "array([0.99686039, 0.00165945])"
      ]
     },
     "execution_count": 70,
     "metadata": {},
     "output_type": "execute_result"
    }
   ],
   "source": [
    "pca.explained_variance_ratio_"
   ]
  },
  {
   "cell_type": "code",
   "execution_count": 71,
   "metadata": {},
   "outputs": [
    {
     "data": {
      "text/plain": [
       "<matplotlib.collections.PathCollection at 0x20d01e13550>"
      ]
     },
     "execution_count": 71,
     "metadata": {},
     "output_type": "execute_result"
    },
    {
     "data": {
      "image/png": "[encoded data removed]",
      "text/plain": [
       "<Figure size 432x288 with 1 Axes>"
      ]
     },
     "metadata": {
      "needs_background": "light"
     },
     "output_type": "display_data"
    }
   ],
   "source": [
    "plt.xlabel('PC1')\n",
    "plt.ylabel('PC2')\n",
    "plt.scatter(\n",
    "    X_pca[:,0],\n",
    "    X_pca[:,1],\n",
    "    c=y,\n",
    "    cmap='rainbow',\n",
    "    alpha=0.7,\n",
    "    edgecolors='b'\n",
    ")"
   ]
  },
  {
   "cell_type": "code",
   "execution_count": 72,
   "metadata": {},
   "outputs": [
    {
     "name": "stdout",
     "output_type": "stream",
     "text": [
      "[1.96542800e-02 6.87232668e-03 6.13764154e-03 6.29167657e-03\n",
      " 1.41712740e-02 2.71358334e-02 6.61165953e-03 6.34104758e-04\n",
      " 3.36104370e-03 7.17433582e-03 7.02237300e-03 1.89410684e-03\n",
      " 1.03521385e-01 3.84370528e-03 3.21140348e-03 3.29389501e-03\n",
      " 6.72680581e-03 2.14392362e-02 9.00832471e-03 5.73345424e-03\n",
      " 8.18345212e-03 8.10892502e-03 6.71942910e-03 4.97672581e-03\n",
      " 8.50619643e-03 6.08903504e-03 8.14455114e-03 6.97887904e-03\n",
      " 5.41020893e-03 7.46323171e-03 5.63010061e-03 4.86422099e-03\n",
      " 1.17482020e-02 2.37345313e-02 6.19600955e-03 4.12091637e-03\n",
      " 9.48813950e-04 2.26325770e-03 1.10116531e-03 3.27353031e-03\n",
      " 1.54789272e-04 5.08668465e-03 9.04494257e-04 1.25147070e-03\n",
      " 3.34834791e-03 3.81308649e-03 6.54044591e-03 4.46583661e-02\n",
      " 1.96450999e-02 0.00000000e+00 3.86719050e-04 2.93865001e-03\n",
      " 8.84862078e-04 1.41826285e-03 8.56071483e-03 2.64296428e-01\n",
      " 1.07071930e-01 1.30839400e-01]\n"
     ]
    }
   ],
   "source": [
    "from sklearn.ensemble import ExtraTreesClassifier\n",
    "model = ExtraTreesClassifier()\n",
    "model.fit(X, y)\n",
    "print(model.feature_importances_)\n",
    "modfeat = model.feature_importances_"
   ]
  },
  {
   "cell_type": "code",
   "execution_count": 73,
   "metadata": {},
   "outputs": [
    {
     "name": "stdout",
     "output_type": "stream",
     "text": [
      "58\n"
     ]
    }
   ],
   "source": [
    "print(len(modfeat))"
   ]
  },
  {
   "cell_type": "code",
   "execution_count": 74,
   "metadata": {},
   "outputs": [],
   "source": [
    "modcol = X.columns"
   ]
  },
  {
   "cell_type": "code",
   "execution_count": 75,
   "metadata": {},
   "outputs": [],
   "source": [
    "d = {'Features': modcol, 'Importance': modfeat}\n",
    "dfex = pd.DataFrame(data=d)\n",
    "#print(dfex)"
   ]
  },
  {
   "cell_type": "code",
   "execution_count": 76,
   "metadata": {},
   "outputs": [
    {
     "name": "stdout",
     "output_type": "stream",
     "text": [
      "                         Features  Importance\n",
      "55                    LAD_Ordinal    0.264296\n",
      "57                    RCA_Ordinal    0.130839\n",
      "56                    LCX_Ordinal    0.107072\n",
      "12             Typical_Chest_Pain    0.103521\n",
      "47               Atypical_Ordinal    0.044658\n",
      "5                             HTN    0.027136\n",
      "33                    Region_RWMA    0.023735\n",
      "17                     Tinversion    0.021439\n",
      "0                             Age    0.019654\n",
      "48             Nonanginal_Ordinal    0.019645\n",
      "4                              DM    0.014171\n",
      "32                         EF-TTE    0.011748\n",
      "18                            FBS    0.009008\n",
      "54                    VHD_Ordinal    0.008561\n",
      "24                            ESR    0.008506\n",
      "20                             TG    0.008183\n",
      "26                              K    0.008145\n",
      "21                            LDL    0.008109\n",
      "29                          Lymph    0.007463\n",
      "9                              BP    0.007174\n",
      "10                             PR    0.007022\n",
      "27                             Na    0.006979\n",
      "1                          Weight    0.006872\n",
      "16                  St_Depression    0.006727\n",
      "22                            HDL    0.006719\n",
      "6                  Current_Smoker    0.006612\n",
      "46                Dyspnea_Ordinal    0.006540\n",
      "3                             BMI    0.006292\n",
      "34                    Sex_Ordinal    0.006196\n",
      "2                          Length    0.006138\n",
      "25                             HB    0.006089\n",
      "19                             CR    0.005733\n",
      "30                           Neut    0.005630\n",
      "28                            WBC    0.005410\n",
      "41                    DLP_Ordinal    0.005087\n",
      "23                            BUN    0.004977\n",
      "31                            PLT    0.004864\n",
      "35                Obesity_Ordinal    0.004121\n",
      "13                 Function_Class    0.003844\n",
      "45       Diastolic_Murmur_Ordinal    0.003813\n",
      "8                              FH    0.003361\n",
      "44        Systolic_Murmur_Ordinal    0.003348\n",
      "15                   St_Elevation    0.003294\n",
      "39        Thyroid_Disease_Ordinal    0.003274\n",
      "14                         Q_Wave    0.003211\n",
      "51                    LVH_Ordinal    0.002939\n",
      "37                    CVA_Ordinal    0.002263\n",
      "11                          Edema    0.001894\n",
      "53                    BBB_Ordinal    0.001418\n",
      "43             Lung_rales_Ordinal    0.001251\n",
      "38         Airway_disease_Ordinal    0.001101\n",
      "36                    CRF_Ordinal    0.000949\n",
      "42  Weak_Peripheral_Pulse_Ordinal    0.000904\n",
      "52     Poor_R_Progression_Ordinal    0.000885\n",
      "7                       EX-Smoker    0.000634\n",
      "50              LowTH_Ang_Ordinal    0.000387\n",
      "40                    CHF_Ordinal    0.000155\n",
      "49          Exertional_CP_Ordinal    0.000000\n"
     ]
    }
   ],
   "source": [
    "print(dfex.sort_values(by='Importance', ascending=False))"
   ]
  },
  {
   "cell_type": "code",
   "execution_count": 77,
   "metadata": {},
   "outputs": [],
   "source": [
    "selected_features=['LAD_Ordinal','RCA_Ordinal','Typical_Chest_Pain','LCX_Ordinal','Region_RWMA','Atypical_Ordinal','Nonanginal_Ordinal','HTN','Age','DM','BP','FBS','HDL','LDL','BMI','St_Depression','BUN','Lymph','TG','Neut']"
   ]
  },
  {
   "cell_type": "code",
   "execution_count": 78,
   "metadata": {},
   "outputs": [],
   "source": [
    "refinedX=X.filter(selected_features, axis=1)"
   ]
  },
  {
   "cell_type": "code",
   "execution_count": 79,
   "metadata": {},
   "outputs": [
    {
     "name": "stdout",
     "output_type": "stream",
     "text": [
      "     LAD_Ordinal  RCA_Ordinal  Typical_Chest_Pain  LCX_Ordinal  Region_RWMA  \\\n",
      "0              1            1                   0            2            0   \n",
      "1              1            2                   1            1            4   \n",
      "2              1            2                   1            2            2   \n",
      "3              2            2                   0            2            0   \n",
      "4              2            2                   0            2            0   \n",
      "..           ...          ...                 ...          ...          ...   \n",
      "298            1            1                   1            1            0   \n",
      "299            2            2                   0            2            0   \n",
      "300            2            2                   0            2            0   \n",
      "301            2            2                   0            2            0   \n",
      "302            1            2                   1            2            0   \n",
      "\n",
      "     Atypical_Ordinal  Nonanginal_Ordinal  HTN  Age  DM   BP  FBS   HDL  LDL  \\\n",
      "0                   2                   2    1   53   0  110   90  30.0  155   \n",
      "1                   2                   2    1   67   0  140   80  36.0  121   \n",
      "2                   2                   2    0   54   0  100   85  45.0   70   \n",
      "3                   2                   1    1   66   0  100   78  27.0   55   \n",
      "4                   2                   2    1   50   0  110  104  50.0  110   \n",
      "..                ...                 ...  ...  ...  ..  ...  ...   ...  ...   \n",
      "298                 2                   2    0   58   0  100   92  44.0  115   \n",
      "299                 1                   2    0   55   0  100   86  23.0   40   \n",
      "300                 2                   1    1   48   0  130   83  42.0  112   \n",
      "301                 1                   2    0   57   1  100   96  49.0  130   \n",
      "302                 2                   2    1   56   0  120   78  34.0  124   \n",
      "\n",
      "           BMI  St_Depression  BUN  Lymph   TG  Neut  \n",
      "0    29.387755              1    8     39  250    52  \n",
      "1    28.398718              1   30     38  309    55  \n",
      "2    20.077335              0   17     38  103    60  \n",
      "3    26.838648              1   30     18   63    72  \n",
      "4    37.165193              0   16     55  170    39  \n",
      "..         ...            ...  ...    ...  ...   ...  \n",
      "298  29.761905              0   13     34  112    58  \n",
      "299  27.700831              0   23     16  111    80  \n",
      "300  30.078125              0   13     35   93    55  \n",
      "301  35.599858              0   14     48  116    40  \n",
      "302  29.411765              0   16     32  139    55  \n",
      "\n",
      "[303 rows x 20 columns]\n"
     ]
    }
   ],
   "source": [
    "print(refinedX)"
   ]
  },
  {
   "cell_type": "code",
   "execution_count": 80,
   "metadata": {},
   "outputs": [],
   "source": [
    "#Importing the libraries\n",
    "import numpy as np\n",
    "import matplotlib.pyplot as plt\n",
    "import pandas as pd\n",
    "from sklearn.tree import DecisionTreeClassifier\n",
    "from sklearn.linear_model import LogisticRegression\n",
    "from sklearn.svm import SVC\n",
    "from sklearn.neighbors import KNeighborsClassifier\n",
    "from sklearn.naive_bayes import GaussianNB\n",
    "from sklearn.ensemble import VotingClassifier\n",
    "from sklearn import model_selection\n",
    "from sklearn.metrics import confusion_matrix\n",
    "from sklearn. preprocessing import StandardScaler\n",
    "from sklearn.model_selection import train_test_split\n",
    "from sklearn.neural_network import MLPClassifier\n",
    "from sklearn.ensemble import RandomForestClassifier"
   ]
  },
  {
   "cell_type": "code",
   "execution_count": 81,
   "metadata": {},
   "outputs": [],
   "source": [
    "X_train, X_test, y_train, y_test = train_test_split(X, y, test_size = 0.15, random_state = 0, stratify = y)"
   ]
  },
  {
   "cell_type": "code",
   "execution_count": 82,
   "metadata": {},
   "outputs": [],
   "source": [
    "#Defining the machine learning models\n",
    "model1 = LogisticRegression()\n",
    "model2 = DecisionTreeClassifier(max_depth = 2)\n",
    "model3 = SVC()\n",
    "model4 = KNeighborsClassifier(n_neighbors = 5, metric = 'minkowski', p = 2)\n",
    "model5 = GaussianNB()\n",
    "model6 = MLPClassifier(solver='lbfgs', alpha=1e-5,hidden_layer_sizes=(5, 2), random_state=1)\n",
    "model7 = RandomForestClassifier(max_depth=2, random_state=0)"
   ]
  },
  {
   "cell_type": "code",
   "execution_count": 83,
   "metadata": {},
   "outputs": [
    {
     "name": "stderr",
     "output_type": "stream",
     "text": [
      "c:\\programdata\\miniconda3\\envs\\heartdis\\lib\\site-packages\\sklearn\\linear_model\\_logistic.py:764: ConvergenceWarning: lbfgs failed to converge (status=1):\n",
      "STOP: TOTAL NO. of ITERATIONS REACHED LIMIT.\n",
      "\n",
      "Increase the number of iterations (max_iter) or scale the data as shown in:\n",
      "    https://scikit-learn.org/stable/modules/preprocessing.html\n",
      "Please also refer to the documentation for alternative solver options:\n",
      "    https://scikit-learn.org/stable/modules/linear_model.html#logistic-regression\n",
      "  extra_warning_msg=_LOGISTIC_SOLVER_CONVERGENCE_MSG)\n"
     ]
    },
    {
     "data": {
      "text/plain": [
       "RandomForestClassifier(max_depth=2, random_state=0)"
      ]
     },
     "execution_count": 83,
     "metadata": {},
     "output_type": "execute_result"
    }
   ],
   "source": [
    "#Training the machine learning models\n",
    "model1.fit(X_train, y_train)\n",
    "model2.fit(X_train, y_train)\n",
    "model3.fit(X_train, y_train)\n",
    "model4.fit(X_train, y_train)\n",
    "model5.fit(X_train, y_train)\n",
    "model6.fit(X_train, y_train)\n",
    "model7.fit(X_train, y_train)"
   ]
  },
  {
   "cell_type": "code",
   "execution_count": 84,
   "metadata": {},
   "outputs": [],
   "source": [
    "#Making the prediction\n",
    "y_pred1 = model1.predict(X_test)\n",
    "y_pred2 = model2.predict(X_test)\n",
    "y_pred3 = model3.predict(X_test)\n",
    "y_pred4 = model4.predict(X_test)\n",
    "y_pred5 = model5.predict(X_test)\n",
    "y_pred6 = model6.predict(X_test)\n",
    "y_pred7 = model7.predict(X_test)"
   ]
  },
  {
   "cell_type": "code",
   "execution_count": 85,
   "metadata": {},
   "outputs": [],
   "source": [
    "#Confusion matrix\n",
    "cm_LogisticRegression = confusion_matrix(y_test, y_pred1)\n",
    "cm_DecisionTree = confusion_matrix(y_test, y_pred2)\n",
    "cm_SupportVectorClass = confusion_matrix(y_test, y_pred3)\n",
    "cm_KNN = confusion_matrix(y_test, y_pred4)\n",
    "cm_NaiveBayes = confusion_matrix(y_test, y_pred5)\n",
    "cm_MLP = confusion_matrix(y_test, y_pred6)\n",
    "cm_RandomForest = confusion_matrix(y_test, y_pred7)"
   ]
  },
  {
   "cell_type": "code",
   "execution_count": 86,
   "metadata": {
    "collapsed": true,
    "jupyter": {
     "outputs_hidden": true
    }
   },
   "outputs": [
    {
     "name": "stderr",
     "output_type": "stream",
     "text": [
      "c:\\programdata\\miniconda3\\envs\\heartdis\\lib\\site-packages\\sklearn\\model_selection\\_split.py:297: FutureWarning: Setting a random_state has no effect since shuffle is False. This will raise an error in 0.24. You should leave random_state to its default (None), or set shuffle=True.\n",
      "  FutureWarning\n",
      "c:\\programdata\\miniconda3\\envs\\heartdis\\lib\\site-packages\\sklearn\\linear_model\\_logistic.py:764: ConvergenceWarning: lbfgs failed to converge (status=1):\n",
      "STOP: TOTAL NO. of ITERATIONS REACHED LIMIT.\n",
      "\n",
      "Increase the number of iterations (max_iter) or scale the data as shown in:\n",
      "    https://scikit-learn.org/stable/modules/preprocessing.html\n",
      "Please also refer to the documentation for alternative solver options:\n",
      "    https://scikit-learn.org/stable/modules/linear_model.html#logistic-regression\n",
      "  extra_warning_msg=_LOGISTIC_SOLVER_CONVERGENCE_MSG)\n",
      "c:\\programdata\\miniconda3\\envs\\heartdis\\lib\\site-packages\\sklearn\\linear_model\\_logistic.py:764: ConvergenceWarning: lbfgs failed to converge (status=1):\n",
      "STOP: TOTAL NO. of ITERATIONS REACHED LIMIT.\n",
      "\n",
      "Increase the number of iterations (max_iter) or scale the data as shown in:\n",
      "    https://scikit-learn.org/stable/modules/preprocessing.html\n",
      "Please also refer to the documentation for alternative solver options:\n",
      "    https://scikit-learn.org/stable/modules/linear_model.html#logistic-regression\n",
      "  extra_warning_msg=_LOGISTIC_SOLVER_CONVERGENCE_MSG)\n",
      "c:\\programdata\\miniconda3\\envs\\heartdis\\lib\\site-packages\\sklearn\\linear_model\\_logistic.py:764: ConvergenceWarning: lbfgs failed to converge (status=1):\n",
      "STOP: TOTAL NO. of ITERATIONS REACHED LIMIT.\n",
      "\n",
      "Increase the number of iterations (max_iter) or scale the data as shown in:\n",
      "    https://scikit-learn.org/stable/modules/preprocessing.html\n",
      "Please also refer to the documentation for alternative solver options:\n",
      "    https://scikit-learn.org/stable/modules/linear_model.html#logistic-regression\n",
      "  extra_warning_msg=_LOGISTIC_SOLVER_CONVERGENCE_MSG)\n",
      "c:\\programdata\\miniconda3\\envs\\heartdis\\lib\\site-packages\\sklearn\\linear_model\\_logistic.py:764: ConvergenceWarning: lbfgs failed to converge (status=1):\n",
      "STOP: TOTAL NO. of ITERATIONS REACHED LIMIT.\n",
      "\n",
      "Increase the number of iterations (max_iter) or scale the data as shown in:\n",
      "    https://scikit-learn.org/stable/modules/preprocessing.html\n",
      "Please also refer to the documentation for alternative solver options:\n",
      "    https://scikit-learn.org/stable/modules/linear_model.html#logistic-regression\n",
      "  extra_warning_msg=_LOGISTIC_SOLVER_CONVERGENCE_MSG)\n",
      "c:\\programdata\\miniconda3\\envs\\heartdis\\lib\\site-packages\\sklearn\\linear_model\\_logistic.py:764: ConvergenceWarning: lbfgs failed to converge (status=1):\n",
      "STOP: TOTAL NO. of ITERATIONS REACHED LIMIT.\n",
      "\n",
      "Increase the number of iterations (max_iter) or scale the data as shown in:\n",
      "    https://scikit-learn.org/stable/modules/preprocessing.html\n",
      "Please also refer to the documentation for alternative solver options:\n",
      "    https://scikit-learn.org/stable/modules/linear_model.html#logistic-regression\n",
      "  extra_warning_msg=_LOGISTIC_SOLVER_CONVERGENCE_MSG)\n",
      "c:\\programdata\\miniconda3\\envs\\heartdis\\lib\\site-packages\\sklearn\\linear_model\\_logistic.py:764: ConvergenceWarning: lbfgs failed to converge (status=1):\n",
      "STOP: TOTAL NO. of ITERATIONS REACHED LIMIT.\n",
      "\n",
      "Increase the number of iterations (max_iter) or scale the data as shown in:\n",
      "    https://scikit-learn.org/stable/modules/preprocessing.html\n",
      "Please also refer to the documentation for alternative solver options:\n",
      "    https://scikit-learn.org/stable/modules/linear_model.html#logistic-regression\n",
      "  extra_warning_msg=_LOGISTIC_SOLVER_CONVERGENCE_MSG)\n",
      "c:\\programdata\\miniconda3\\envs\\heartdis\\lib\\site-packages\\sklearn\\linear_model\\_logistic.py:764: ConvergenceWarning: lbfgs failed to converge (status=1):\n",
      "STOP: TOTAL NO. of ITERATIONS REACHED LIMIT.\n",
      "\n",
      "Increase the number of iterations (max_iter) or scale the data as shown in:\n",
      "    https://scikit-learn.org/stable/modules/preprocessing.html\n",
      "Please also refer to the documentation for alternative solver options:\n",
      "    https://scikit-learn.org/stable/modules/linear_model.html#logistic-regression\n",
      "  extra_warning_msg=_LOGISTIC_SOLVER_CONVERGENCE_MSG)\n",
      "c:\\programdata\\miniconda3\\envs\\heartdis\\lib\\site-packages\\sklearn\\linear_model\\_logistic.py:764: ConvergenceWarning: lbfgs failed to converge (status=1):\n",
      "STOP: TOTAL NO. of ITERATIONS REACHED LIMIT.\n",
      "\n",
      "Increase the number of iterations (max_iter) or scale the data as shown in:\n",
      "    https://scikit-learn.org/stable/modules/preprocessing.html\n",
      "Please also refer to the documentation for alternative solver options:\n",
      "    https://scikit-learn.org/stable/modules/linear_model.html#logistic-regression\n",
      "  extra_warning_msg=_LOGISTIC_SOLVER_CONVERGENCE_MSG)\n",
      "c:\\programdata\\miniconda3\\envs\\heartdis\\lib\\site-packages\\sklearn\\linear_model\\_logistic.py:764: ConvergenceWarning: lbfgs failed to converge (status=1):\n",
      "STOP: TOTAL NO. of ITERATIONS REACHED LIMIT.\n",
      "\n",
      "Increase the number of iterations (max_iter) or scale the data as shown in:\n",
      "    https://scikit-learn.org/stable/modules/preprocessing.html\n",
      "Please also refer to the documentation for alternative solver options:\n",
      "    https://scikit-learn.org/stable/modules/linear_model.html#logistic-regression\n",
      "  extra_warning_msg=_LOGISTIC_SOLVER_CONVERGENCE_MSG)\n",
      "c:\\programdata\\miniconda3\\envs\\heartdis\\lib\\site-packages\\sklearn\\linear_model\\_logistic.py:764: ConvergenceWarning: lbfgs failed to converge (status=1):\n",
      "STOP: TOTAL NO. of ITERATIONS REACHED LIMIT.\n",
      "\n",
      "Increase the number of iterations (max_iter) or scale the data as shown in:\n",
      "    https://scikit-learn.org/stable/modules/preprocessing.html\n",
      "Please also refer to the documentation for alternative solver options:\n",
      "    https://scikit-learn.org/stable/modules/linear_model.html#logistic-regression\n",
      "  extra_warning_msg=_LOGISTIC_SOLVER_CONVERGENCE_MSG)\n"
     ]
    }
   ],
   "source": [
    "#10-fold cross-validation \n",
    "kfold = model_selection.KFold(n_splits=10, random_state = 0)\n",
    "result1 = model_selection.cross_val_score(model1, X_train, y_train, cv=kfold)\n",
    "result2 = model_selection.cross_val_score(model2, X_train, y_train, cv=kfold)\n",
    "result3 = model_selection.cross_val_score(model3, X_train, y_train, cv=kfold)\n",
    "result4 = model_selection.cross_val_score(model4, X_train, y_train, cv=kfold)\n",
    "result5 = model_selection.cross_val_score(model5, X_train, y_train, cv=kfold)\n",
    "result6 = model_selection.cross_val_score(model6, X_train, y_train, cv=kfold)\n",
    "result7 = model_selection.cross_val_score(model7, X_train, y_train, cv=kfold)"
   ]
  },
  {
   "cell_type": "code",
   "execution_count": 87,
   "metadata": {},
   "outputs": [
    {
     "name": "stdout",
     "output_type": "stream",
     "text": [
      "Accuracy of Logistic Regression Model =  0.7701538461538461\n",
      "Accuracy of Decision Tree Model =  0.9376923076923079\n",
      "Accuracy of Support Vector Machine =  0.712\n",
      "Accuracy of k-NN Model =  0.6416923076923077\n",
      "Accuracy of Naive Bayes Model =  0.9843076923076925\n",
      "Accuracy of Mutli-layer Perceptron Model =  0.712\n",
      "Accuracy of Random Forest Model =  0.9256923076923076\n"
     ]
    }
   ],
   "source": [
    "#Printing the accuracies achieved in cross-validation\n",
    "print('Accuracy of Logistic Regression Model = ',result1.mean())\n",
    "print('Accuracy of Decision Tree Model = ',result2.mean())\n",
    "print('Accuracy of Support Vector Machine = ',result3.mean())\n",
    "print('Accuracy of k-NN Model = ',result4.mean())\n",
    "print('Accuracy of Naive Bayes Model = ',result5.mean())\n",
    "print('Accuracy of Mutli-layer Perceptron Model = ',result6.mean())\n",
    "print('Accuracy of Random Forest Model = ',result7.mean())"
   ]
  },
  {
   "cell_type": "code",
   "execution_count": 88,
   "metadata": {},
   "outputs": [
    {
     "data": {
      "image/png": "[encoded data removed]",
      "text/plain": [
       "<Figure size 840x700 with 1 Axes>"
      ]
     },
     "metadata": {
      "needs_background": "light"
     },
     "output_type": "display_data"
    }
   ],
   "source": [
    "width_in_inches = 12\n",
    "height_in_inches = 10\n",
    "dots_per_inch = 70\n",
    "\n",
    "plt.figure(\n",
    "    figsize=(width_in_inches, height_in_inches),\n",
    "    dpi=dots_per_inch)\n",
    "results=[result1, result2, result3, result4, result5, result6, result7]\n",
    "names=['Logistic Regression', 'Decision Tree', 'Support Vector Machine', 'k-NN', 'Naive Bayes', 'Mutli-layer Perceptron','Random Forest']\n",
    "plt.boxplot(results, labels=names)\n",
    "plt.title('Algorithm Comparison')\n",
    "plt.show()"
   ]
  },
  {
   "cell_type": "code",
   "execution_count": 89,
   "metadata": {},
   "outputs": [],
   "source": [
    "# Make predictions on validation dataset\n",
    "model = GaussianNB()\n",
    "model.fit(X_train, y_train)\n",
    "predictions = model.predict(X_test)"
   ]
  },
  {
   "cell_type": "code",
   "execution_count": 90,
   "metadata": {},
   "outputs": [
    {
     "name": "stdout",
     "output_type": "stream",
     "text": [
      "Accuracy Score:  0.9130434782608695\n",
      "Confusion Matrix:  [[32  1]\n",
      " [ 3 10]]\n",
      "Classification Report:                precision    recall  f1-score   support\n",
      "\n",
      "           1       0.91      0.97      0.94        33\n",
      "           2       0.91      0.77      0.83        13\n",
      "\n",
      "    accuracy                           0.91        46\n",
      "   macro avg       0.91      0.87      0.89        46\n",
      "weighted avg       0.91      0.91      0.91        46\n",
      "\n",
      "True Negative:  32\n",
      "False Positive:  1\n",
      "False Negative:  3\n",
      "True Positive:  10\n",
      "True Positive Rate:  0.7692307692307693\n",
      "False Postive Rate:  0.030303030303030304\n",
      "Kappa Statistic:  0.7750611246943766\n",
      "Matthews correlation coefficient:  0.7800101451889231\n",
      "Root Mean Squared Error:  0.08695652173913043\n",
      "0.23.2\n"
     ]
    },
    {
     "data": {
      "image/png": "[encoded data removed]",
      "text/plain": [
       "<Figure size 432x288 with 1 Axes>"
      ]
     },
     "metadata": {
      "needs_background": "light"
     },
     "output_type": "display_data"
    }
   ],
   "source": [
    "from sklearn.metrics import classification_report\n",
    "from sklearn.metrics import confusion_matrix\n",
    "from sklearn.metrics import accuracy_score\n",
    "from sklearn.metrics import cohen_kappa_score\n",
    "from sklearn.metrics import matthews_corrcoef\n",
    "from sklearn.metrics import mean_squared_error\n",
    "from sklearn import metrics\n",
    "# Evaluate predictions\n",
    "print(\"Accuracy Score: \",accuracy_score(y_test, predictions))\n",
    "print(\"Confusion Matrix: \",confusion_matrix(y_test, predictions))\n",
    "print(\"Classification Report: \",classification_report(y_test, predictions))\n",
    "TN, FP, FN, TP = confusion_matrix(y_test, predictions).ravel()\n",
    "print(\"True Negative: \",TN)\n",
    "print(\"False Positive: \",FP)\n",
    "print(\"False Negative: \",FN)\n",
    "print(\"True Positive: \",TP)\n",
    "TPR = TP/(TP+FN)\n",
    "FPR = FP/(FP+TN)\n",
    "print(\"True Positive Rate: \",TPR)\n",
    "print(\"False Postive Rate: \",FPR)\n",
    "print(\"Kappa Statistic: \",cohen_kappa_score(y_test, predictions))\n",
    "print(\"Matthews correlation coefficient: \",matthews_corrcoef(y_test, predictions))\n",
    "print(\"Root Mean Squared Error: \",mean_squared_error(y_test, predictions))\n",
    "import sklearn\n",
    "print(sklearn.__version__)\n",
    "metrics.plot_roc_curve(model, X_test, y_test)\n",
    "plt.show()"
   ]
  },
  {
   "cell_type": "code",
   "execution_count": 114,
   "metadata": {},
   "outputs": [
    {
     "data": {
      "text/plain": [
       "<sklearn.metrics._plot.roc_curve.RocCurveDisplay at 0x20d01e95630>"
      ]
     },
     "execution_count": 114,
     "metadata": {},
     "output_type": "execute_result"
    },
    {
     "data": {
      "image/png": "[encoded data removed]",
      "text/plain": [
       "<Figure size 432x288 with 1 Axes>"
      ]
     },
     "metadata": {
      "needs_background": "light"
     },
     "output_type": "display_data"
    }
   ],
   "source": [
    "ax = plt.gca()\n",
    "metrics.plot_roc_curve(model1, X_test, y_test,ax=ax, alpha=0.8)\n",
    "metrics.plot_roc_curve(model2, X_test, y_test, ax=ax, alpha=0.8)\n",
    "metrics.plot_roc_curve(model3, X_test, y_test,ax=ax, alpha=0.8)\n",
    "metrics.plot_roc_curve(model4, X_test, y_test, ax=ax, alpha=0.8)\n",
    "metrics.plot_roc_curve(model5, X_test, y_test,ax=ax, alpha=0.8)\n",
    "metrics.plot_roc_curve(model6, X_test, y_test, ax=ax, alpha=0.8)\n",
    "metrics.plot_roc_curve(model7, X_test, y_test, ax=ax, alpha=0.8)"
   ]
  },
  {
   "cell_type": "code",
   "execution_count": null,
   "metadata": {},
   "outputs": [],
   "source": []
  }
 ],
 "metadata": {
  "kernelspec": {
   "display_name": "Python 3",
   "language": "python",
   "name": "python3"
  },
  "language_info": {
   "codemirror_mode": {
    "name": "ipython",
    "version": 3
   },
   "file_extension": ".py",
   "mimetype": "text/x-python",
   "name": "python",
   "nbconvert_exporter": "python",
   "pygments_lexer": "ipython3",
   "version": "3.6.8"
  }
 },
 "nbformat": 4,
 "nbformat_minor": 4
}
